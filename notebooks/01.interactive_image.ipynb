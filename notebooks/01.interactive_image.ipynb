{
  "cells": [
    {
      "cell_type": "markdown",
      "id": "b198dae1-ed92-4647-a60d-c23d4958cc02",
      "metadata": {},
      "source": [
        "---\n",
        "title: Interactive Image\n",
        "authors: [Colin Ophus, Georgios Varnavides]\n",
        "date: 2023/08/01\n",
        "---\n",
        "\n",
        "This is an example widget for plotting images interactively."
      ]
    },
    {
      "cell_type": "code",
      "execution_count": 31,
      "id": "c2c2726c-1267-44be-9be8-ee6095655c31",
      "metadata": {},
      "outputs": [
        {
          "data": {
            "application/vnd.jupyter.widget-view+json": {
              "model_id": "e9bbbd839b7c42ce9242b26033db576f",
              "version_major": 2,
              "version_minor": 0
            },
            "text/plain": [
              "HBox(children=(Canvas(footer_visible=False, header_visible=False, layout=Layout(width='480px'), resizable=Fals…"
            ]
          },
          "metadata": {},
          "output_type": "display_data"
        }
      ],
      "source": [
        "#| label: app:interactive_image\n",
        "# Widget for displaying images interactively.\n",
        "\n",
        "%matplotlib widget\n",
        "\n",
        "import numpy as np\n",
        "import matplotlib.pyplot as plt\n",
        "from mpl_toolkits.axes_grid1 import make_axes_locatable\n",
        "from matplotlib.path import Path\n",
        "from matplotlib.patches import PathPatch\n",
        "from IPython.display import display\n",
        "from ipywidgets import Checkbox, Dropdown, FloatRangeSlider, Layout, HBox, VBox\n",
        "\n",
        "# Import stack of images\n",
        "\n",
        "image_stack = np.load('notebooks/data/im_graphene_EWR_small.npz')['im_graphene_EWR']\n",
        "\n",
        "plt.close('all')\n",
        "plt.ioff()\n",
        "\n",
        "dpi = 72\n",
        "hist_range_plot = (-4,4)\n",
        "hist_range_init = (-1,2)\n",
        "hist_num_bins = 100\n",
        "\n",
        "# Histogram visualization\n",
        "def compute_histogram_values(array):\n",
        "    int_mean = np.mean(array)\n",
        "    int_std = np.sqrt(np.mean((array - int_mean)**2))\n",
        "    \n",
        "    int_min = int_mean + hist_range_plot[0] * int_std\n",
        "    int_max = int_mean + hist_range_plot[1] * int_std\n",
        "    \n",
        "    init_min = int_mean + hist_range_init[0] * int_std\n",
        "    init_max = int_mean + hist_range_init[1] * int_std\n",
        "    \n",
        "    int_ranges = (int_mean, int_std, int_min, int_max,init_min,init_max)\n",
        "    \n",
        "    hist_bins = np.linspace(\n",
        "        int_ranges[2],\n",
        "        int_ranges[3],\n",
        "        hist_num_bins+1,\n",
        "        endpoint=True)\n",
        "    hist_data, _ = np.histogram(\n",
        "        array.ravel(),\n",
        "        bins=hist_bins,\n",
        "    )\n",
        "    hist_data = hist_data.astype('float')\n",
        "    hist_data /= np.max(hist_data)\n",
        "    \n",
        "    hist_bins = hist_bins[:-1] + (hist_bins[1] - hist_bins[0])/2\n",
        "    \n",
        "    return hist_bins, hist_data, int_ranges\n",
        "\n",
        "hist_bins_all, hist_data_all, int_ranges_all, hist_slider_state = [], [], [], []\n",
        "for array in image_stack:\n",
        "    hist_bins, hist_data, int_ranges = compute_histogram_values(array)\n",
        "    hist_bins_all.append(hist_bins)\n",
        "    hist_data_all.append(hist_data)\n",
        "    int_ranges_all.append(int_ranges)\n",
        "    hist_slider_state.append(\n",
        "        {\n",
        "            'min':int_ranges[2],\n",
        "            'max':int_ranges[3],\n",
        "            'step':(int_ranges[3]-int_ranges[2])/100,\n",
        "            'value':int_ranges[4:6]\n",
        "        }\n",
        "    )\n",
        "    \n",
        "array = image_stack[0]\n",
        "hist_bins, hist_data, int_ranges = hist_bins_all[0], hist_data_all[0], int_ranges_all[0]\n",
        "fig_hist, ax_hist = plt.subplots(figsize=(190/dpi, 160/dpi), dpi=dpi)\n",
        "\n",
        "hist_path = Path(np.array([hist_bins,hist_data]).T)\n",
        "hist_patch = PathPatch(hist_path,visible=False,transform=ax_hist.transData)\n",
        "\n",
        "cmap = plt.colormaps.get_cmap('gray')\n",
        "\n",
        "im_hist = ax_hist.imshow(\n",
        "    hist_bins[None],\n",
        "    vmin=int_ranges[4],\n",
        "    vmax=int_ranges[5],\n",
        "    cmap=cmap,\n",
        "    origin='lower',\n",
        "    aspect=\"auto\",\n",
        "    interpolation='bilinear',\n",
        "    clip_path=hist_patch,\n",
        "    extent=[int_ranges[2],int_ranges[3],0,np.quantile(hist_data,0.9)],\n",
        "    clip_on=True\n",
        ")\n",
        "\n",
        "h_vlines = ax_hist.vlines(\n",
        "    int_ranges[4:6],\n",
        "    ymin = 0,\n",
        "    ymax = 1.1,\n",
        "    colors = [cmap(cmap.N),cmap(0)],\n",
        ")\n",
        "\n",
        "ax_hist.set_xlim((int_ranges[2], int_ranges[3]));\n",
        "ax_hist.set_ylim((0, np.quantile(hist_data,0.9)));\n",
        "ax_hist.set(yticks=[])\n",
        "ax_hist.set(yticklabels=[])\n",
        "ax_hist.set_facecolor((0.9,0.85,0.85))\n",
        "\n",
        "fig_hist.canvas.toolbar_visible = False\n",
        "fig_hist.canvas.header_visible = False\n",
        "fig_hist.canvas.footer_visible = False\n",
        "fig_hist.canvas.resizable = False\n",
        "fig_hist.tight_layout()\n",
        "\n",
        "# Main visualization\n",
        "fig, ax = plt.subplots(figsize=(480/dpi, 460/dpi), dpi=dpi)\n",
        "\n",
        "fig.canvas.resizable = False\n",
        "fig.canvas.header_visible = False\n",
        "fig.canvas.footer_visible = False\n",
        "fig.canvas.toolbar_visible = True\n",
        "fig.canvas.layout.width = '480px'\n",
        "fig.canvas.toolbar_position = 'bottom'\n",
        "\n",
        "ax.axis('off')\n",
        "fig.set_frameon(False)\n",
        "fig_hist.set_frameon(False)\n",
        "ax_hist.xaxis.set_tick_params(labelcolor=(0.4,0.4,0.4))\n",
        "# fig.patch.set_visible(False)\n",
        "# fig_hist.patch.set_visible(False)\n",
        "\n",
        "im=ax.imshow(array,cmap=cmap,vmin=int_ranges[4],vmax=int_ranges[5])\n",
        "divider = make_axes_locatable(ax)\n",
        "ax_cb = divider.append_axes(\"right\", size=\"5%\", pad=\"2.5%\")\n",
        "ax_cb.yaxis.set_tick_params(labelcolor=(0.4,0.4,0.4))\n",
        "fig.add_axes(ax_cb)\n",
        "fig.colorbar(im, cax=ax_cb)\n",
        "fig.tight_layout()\n",
        "\n",
        "# Define pixel size to make scalebar\n",
        "#pixel_size = 0.0151\n",
        "#pixel_units = 'nm'\n",
        "\n",
        "# 130 pixels ~ 2nm\n",
        "# image is 1400x1400\n",
        "scalebar_plot=ax.plot((70,70+130),(1400-70,1400-70),lw=5,color=cmap(cmap.N))\n",
        "scalebar_text=ax.text((130+70*2)/2,1400-70-20,\"2 nm\",color=cmap(cmap.N),ha='center')\n",
        "\n",
        "option_list_image = [\n",
        "    'exit wave phase', \n",
        "    'exit wave amplitude', \n",
        "]\n",
        "\n",
        "def display_frame(change):\n",
        "    \n",
        "    # main\n",
        "    index_name = change['new']\n",
        "    index = option_list_image.index(index_name)\n",
        "    array = image_stack[index]\n",
        "    \n",
        "    im.set_data(array)\n",
        "\n",
        "    # hist\n",
        "    hist_bins, hist_data, int_ranges = hist_bins_all[index], hist_data_all[index], int_ranges_all[index]\n",
        "\n",
        "    path = Path(np.array([hist_bins,hist_data]).T)\n",
        "    patch = PathPatch(path,visible=False,transform=ax_hist.transData)\n",
        "    \n",
        "    im_hist.set_data(hist_bins[None])\n",
        "    im_hist.set_clip_path(patch)\n",
        "    im_hist.set_extent([int_ranges[2],int_ranges[3],0,np.quantile(hist_data,0.9)])\n",
        "    ax_hist.set_xlim((int_ranges[2], int_ranges[3]));\n",
        "    ax_hist.set_ylim((0, np.quantile(hist_data,0.9)));\n",
        "\n",
        "    histogram_state = histogram_range_slider.get_state()\n",
        "    histogram_state = histogram_state | hist_slider_state[index]\n",
        "\n",
        "    histogram_range_slider.set_state(histogram_state)\n",
        "    update_vlines({'new':hist_slider_state[index]['value']})\n",
        "\n",
        "    fig.canvas.draw_idle()\n",
        "    fig_hist.canvas.draw_idle()\n",
        "    \n",
        "    return None\n",
        "\n",
        "def toggle_scalebar(change):\n",
        "    \n",
        "    scalebar = change['new']\n",
        "    scalebar_plot[0].set_visible(scalebar)\n",
        "    scalebar_text.set_visible(scalebar)\n",
        "    fig.canvas.draw_idle()\n",
        "    \n",
        "    return None\n",
        "\n",
        "def update_colormap(change):\n",
        "    \n",
        "    cmap_string = change['new']\n",
        "    cmap = plt.colormaps.get_cmap(cmap_string)\n",
        "    \n",
        "    im.set_cmap(cmap)\n",
        "    im_hist.set_cmap(cmap)\n",
        "    h_vlines.set_colors([cmap(cmap.N),cmap(0)])\n",
        "\n",
        "    scalebar_plot[0].set_color(cmap(cmap.N))\n",
        "    scalebar_text.set_color(cmap(cmap.N))\n",
        "    \n",
        "    fig.canvas.draw_idle()\n",
        "    fig_hist.canvas.draw_idle()\n",
        "    return None\n",
        "\n",
        "def update_vlines(change):\n",
        "    \n",
        "    index_name = index_widget.value\n",
        "    index = option_list_image.index(index_name)\n",
        "\n",
        "    min, max = change['new']\n",
        "    p = np.array([\n",
        "        [\n",
        "            [min, 0],\n",
        "            [min, 1.1],\n",
        "        ],\n",
        "        [\n",
        "            [max, 0],\n",
        "            [max, 1.1],\n",
        "        ]\n",
        "    ])\n",
        "    \n",
        "    h_vlines.set_segments(p)\n",
        "    fig_hist.canvas.draw_idle()\n",
        "    \n",
        "    im.set_clim([min,max])\n",
        "    im_hist.set_clim([min,max])\n",
        "    \n",
        "    hist_slider_state[index]['value']=[min,max]\n",
        "    \n",
        "    fig.canvas.draw_idle()\n",
        "    fig_hist.canvas.draw_idle()\n",
        "    \n",
        "    return None\n",
        "\n",
        "index_widget = Dropdown(options=option_list_image,index=0,layout=Layout(width='180px'))\n",
        "index_widget.observe(display_frame,names='value')\n",
        "\n",
        "scalebar_widget =Checkbox(value=True,description=\"Show scale bar\",indent=False,layout=Layout(width='180px'))\n",
        "scalebar_widget.observe(toggle_scalebar,names='value')\n",
        "\n",
        "sequential_cmaps = [\n",
        "    'gray','viridis', 'plasma', 'inferno', 'magma', 'cividis','turbo',\n",
        "    'Purples_r', 'Blues_r', 'Greens_r', 'Oranges_r', 'Reds_r',\n",
        "    'YlOrBr_r', 'YlOrRd_r', 'OrRd_r', 'PuRd_r', 'RdPu_r', 'BuPu_r',\n",
        "    'GnBu_r', 'PuBu_r', 'YlGnBu_r', 'PuBuGn_r', 'BuGn_r', 'YlGn_r'\n",
        "]\n",
        "\n",
        "cmap_widget =Dropdown(options=sequential_cmaps,value='gray',description=\"Colormap\",indent=False,layout=Layout(width='180px'))\n",
        "cmap_widget.observe(update_colormap,names='value')\n",
        "\n",
        "histogram_range_slider = FloatRangeSlider(\n",
        "    value=int_ranges[4:6],\n",
        "    min=int_ranges[2],\n",
        "    max=int_ranges[3],\n",
        "    step=(int_ranges[3]-int_ranges[2])/100,\n",
        "    continuous_update=False,\n",
        "    orientation='horizontal',\n",
        "    readout=False,\n",
        "    indent=True,\n",
        "    layout=Layout(width='190px')\n",
        ")\n",
        "histogram_range_slider.observe(update_vlines,names='value')\n",
        "\n",
        "visualization_layout = Layout(\n",
        "    display='flex',\n",
        "    flex_flow='row',\n",
        "    align_items='center',\n",
        "    width='680px'\n",
        ")\n",
        "\n",
        "histogram_box_layout = Layout(\n",
        "    display='flex',\n",
        "    flex_flow='column',\n",
        "    align_items='center',\n",
        "    width='200px'\n",
        ")\n",
        "histogram_vbox = VBox([fig_hist.canvas,histogram_range_slider],layout=histogram_box_layout)\n",
        "\n",
        "controls_vbox = VBox([histogram_vbox,index_widget,cmap_widget,scalebar_widget],layout=histogram_box_layout)\n",
        "\n",
        "display(\n",
        "    HBox(\n",
        "        [\n",
        "            fig.canvas,\n",
        "            controls_vbox\n",
        "        ],\n",
        "        layout=visualization_layout\n",
        "        )\n",
        ")"
      ]
    },
    {
      "cell_type": "code",
      "execution_count": null,
      "id": "d1fbb887-f0e5-4fce-ace4-b957ef090ac4",
      "metadata": {},
      "outputs": [],
      "source": []
    }
  ],
  "metadata": {
    "kernelspec": {
      "display_name": "Python 3 (ipykernel)",
      "language": "python",
      "name": "python3"
    },
    "language_info": {
      "codemirror_mode": {
        "name": "ipython",
        "version": 3
      },
      "file_extension": ".py",
      "mimetype": "text/x-python",
      "name": "python",
      "nbconvert_exporter": "python",
      "pygments_lexer": "ipython3",
      "version": "3.11.4"
    },
    "widgets": {
      "application/vnd.jupyter.widget-state+json": {
        "state": {
          "01cebf43626c4299a5684fffeff84210": {
            "model_module": "@jupyter-widgets/base",
            "model_module_version": "2.0.0",
            "model_name": "LayoutModel",
            "state": {
              "align_items": "center",
              "display": "flex",
              "flex_flow": "row",
              "width": "680px"
            }
          },
          "037bf7055c8041c59f9bb7a5f4ee1d15": {
            "model_module": "@jupyter-widgets/base",
            "model_module_version": "2.0.0",
            "model_name": "LayoutModel",
            "state": {
              "align_items": "center",
              "display": "flex",
              "flex_flow": "column",
              "width": "200px"
            }
          },
          "05dee5dcc6f441d78b54e956cd790bca": {
            "model_module": "@jupyter-widgets/controls",
            "model_module_version": "2.0.0",
            "model_name": "FloatRangeSliderModel",
            "state": {
              "_model_name": "FloatRangeSliderModel",
              "_view_name": "FloatRangeSliderView",
              "behavior": "drag-tap",
              "continuous_update": false,
              "layout": "IPY_MODEL_9a2f86c6431444ea9a0e8ce97e4f631d",
              "max": 0.05898725247243419,
              "min": -0.05925031745573506,
              "readout": false,
              "step": 0.0011823756992816925,
              "style": "IPY_MODEL_c1bb54e8d8de498f8806b1e728f1d118",
              "value": [
                -0.014911228732671589,
                0.02942785999039188
              ]
            }
          },
          "0677843bef57435089a275a23e52fa9a": {
            "model_module": "@jupyter-widgets/base",
            "model_module_version": "2.0.0",
            "model_name": "LayoutModel",
            "state": {
              "width": "180px"
            }
          },
          "08980103dab54b7080422b128e982908": {
            "model_module": "@jupyter-widgets/controls",
            "model_module_version": "2.0.0",
            "model_name": "DropdownModel",
            "state": {
              "_options_labels": [
                "gray",
                "viridis",
                "plasma",
                "inferno",
                "magma",
                "cividis",
                "turbo",
                "Purples_r",
                "Blues_r",
                "Greens_r",
                "Oranges_r",
                "Reds_r",
                "YlOrBr_r",
                "YlOrRd_r",
                "OrRd_r",
                "PuRd_r",
                "RdPu_r",
                "BuPu_r",
                "GnBu_r",
                "PuBu_r",
                "YlGnBu_r",
                "PuBuGn_r",
                "BuGn_r",
                "YlGn_r"
              ],
              "description": "Colormap",
              "index": 0,
              "layout": "IPY_MODEL_c7eb72664088473fa8a798ab0f666eb9",
              "style": "IPY_MODEL_2c3ad7564c544c80a8a6fd5f39c3deee"
            }
          },
          "08cc696cdcae4f1d8e83afe79eab89f7": {
            "model_module": "@jupyter-widgets/base",
            "model_module_version": "2.0.0",
            "model_name": "LayoutModel",
            "state": {
              "width": "180px"
            }
          },
          "099b37b7719b4c0581c7b7b0d51b0401": {
            "model_module": "@jupyter-widgets/base",
            "model_module_version": "2.0.0",
            "model_name": "LayoutModel",
            "state": {}
          },
          "0a198f00efaa49ccb03599a28609a18e": {
            "model_module": "@jupyter-widgets/controls",
            "model_module_version": "2.0.0",
            "model_name": "VBoxModel",
            "state": {
              "children": [
                "IPY_MODEL_e1d3e3c08ad2402c92ed30e8cc1a2ad0",
                "IPY_MODEL_b9267e48a9aa49d3b8f7febe5396dbea",
                "IPY_MODEL_8006bc3f2f59493dabf49f48686bb48e",
                "IPY_MODEL_def5227c93444c52b839f0b281145d48"
              ],
              "layout": "IPY_MODEL_6ee3a3abe55d401ab8fcad4dc3e4d30e"
            }
          },
          "0a435cc0e66843bdb143ebdc4c7de32a": {
            "model_module": "@jupyter-widgets/controls",
            "model_module_version": "2.0.0",
            "model_name": "SliderStyleModel",
            "state": {
              "description_width": ""
            }
          },
          "0a8b7a606f5147f98e56ec942d24e381": {
            "model_module": "@jupyter-widgets/controls",
            "model_module_version": "2.0.0",
            "model_name": "DescriptionStyleModel",
            "state": {
              "description_width": ""
            }
          },
          "0baa50dde3ba424eb1fcbca1f9eaa4ac": {
            "model_module": "@jupyter-widgets/controls",
            "model_module_version": "2.0.0",
            "model_name": "DescriptionStyleModel",
            "state": {
              "description_width": ""
            }
          },
          "0c8dc8894cab45229c3f6498357338cf": {
            "model_module": "@jupyter-widgets/controls",
            "model_module_version": "2.0.0",
            "model_name": "FloatRangeSliderModel",
            "state": {
              "_model_name": "FloatRangeSliderModel",
              "_view_name": "FloatRangeSliderView",
              "behavior": "drag-tap",
              "continuous_update": false,
              "layout": "IPY_MODEL_22e0c0fb7cb3417a8523472d5c2f4a93",
              "max": 0.05898725247243419,
              "min": -0.05925031745573506,
              "readout": false,
              "step": 0.0011823756992816925,
              "style": "IPY_MODEL_d09685a8f93d4ec7a554eab9f89f76b3",
              "value": [
                -0.014911228732671589,
                0.02942785999039188
              ]
            }
          },
          "0f5268498f484e55a719da6a1e332699": {
            "model_module": "@jupyter-widgets/base",
            "model_module_version": "2.0.0",
            "model_name": "LayoutModel",
            "state": {}
          },
          "0fff881548044c2b9cea749d02facbb5": {
            "model_module": "@jupyter-widgets/base",
            "model_module_version": "2.0.0",
            "model_name": "LayoutModel",
            "state": {
              "width": "180px"
            }
          },
          "111ef1c6a43b493db3e37655743904bb": {
            "model_module": "@jupyter-widgets/controls",
            "model_module_version": "2.0.0",
            "model_name": "FloatRangeSliderModel",
            "state": {
              "_model_name": "FloatRangeSliderModel",
              "_view_name": "FloatRangeSliderView",
              "behavior": "drag-tap",
              "continuous_update": false,
              "layout": "IPY_MODEL_978e84f764714e708baccb84b919f969",
              "max": -0.05511200250824913,
              "min": -0.05629437820753083,
              "readout": false,
              "step": 0.000011823756992817014,
              "style": "IPY_MODEL_eb05ebdbeee04a21874e25fa9e5d6b36",
              "value": [
                -0.05511200250824913,
                -0.05511200250824913
              ]
            }
          },
          "12cd6f975d894b8aab90daf5c5efa2c5": {
            "model_module": "jupyter-matplotlib",
            "model_module_version": "^0.11",
            "model_name": "ToolbarModel",
            "state": {
              "_model_module_version": "^0.11",
              "_view_module_version": "^0.11",
              "collapsed": true,
              "layout": "IPY_MODEL_28960cf95fb24b96aea8154c6397bdae",
              "orientation": "vertical",
              "position": "bottom",
              "toolitems": [
                [
                  "Home",
                  "Reset original view",
                  "home",
                  "home"
                ],
                [
                  "Back",
                  "Back to previous view",
                  "arrow-left",
                  "back"
                ],
                [
                  "Forward",
                  "Forward to next view",
                  "arrow-right",
                  "forward"
                ],
                [
                  "Pan",
                  "Left button pans, Right button zooms\nx/y fixes axis, CTRL fixes aspect",
                  "arrows",
                  "pan"
                ],
                [
                  "Zoom",
                  "Zoom to rectangle\nx/y fixes axis",
                  "square-o",
                  "zoom"
                ],
                [
                  "Download",
                  "Download plot",
                  "floppy-o",
                  "save_figure"
                ]
              ]
            }
          },
          "12fb913b48e343cb8a37f75c70a03c03": {
            "model_module": "@jupyter-widgets/controls",
            "model_module_version": "2.0.0",
            "model_name": "DescriptionStyleModel",
            "state": {
              "description_width": ""
            }
          },
          "1390c7adca124e54923da596a1ad666a": {
            "model_module": "@jupyter-widgets/controls",
            "model_module_version": "2.0.0",
            "model_name": "CheckboxModel",
            "state": {
              "description": "Show scale bar",
              "disabled": false,
              "indent": false,
              "layout": "IPY_MODEL_2eea61ccea4041e7bdabb5e12f317c69",
              "style": "IPY_MODEL_4745fc9131f2425b86438c0fa7c9357a",
              "value": true
            }
          },
          "13bb13516ab04b65bff32b058a2bb963": {
            "model_module": "@jupyter-widgets/controls",
            "model_module_version": "2.0.0",
            "model_name": "VBoxModel",
            "state": {
              "children": [
                "IPY_MODEL_e77bc8fd16854ac3ab3f99d647ad43b8",
                "IPY_MODEL_111ef1c6a43b493db3e37655743904bb"
              ],
              "layout": "IPY_MODEL_8ff3825feabf4d7fba35d58827fb4d82"
            }
          },
          "145222388c2646b192c983c054bff97d": {
            "model_module": "@jupyter-widgets/controls",
            "model_module_version": "2.0.0",
            "model_name": "CheckboxStyleModel",
            "state": {
              "description_width": ""
            }
          },
          "14f826ef279740b5b255fa59a547cf4a": {
            "model_module": "@jupyter-widgets/base",
            "model_module_version": "2.0.0",
            "model_name": "LayoutModel",
            "state": {
              "width": "180px"
            }
          },
          "16490641c79949e8b5c41c207ca72bed": {
            "model_module": "@jupyter-widgets/base",
            "model_module_version": "2.0.0",
            "model_name": "LayoutModel",
            "state": {
              "width": "480px"
            }
          },
          "1886a8ebc18241c5befabfdad2607cba": {
            "model_module": "@jupyter-widgets/controls",
            "model_module_version": "2.0.0",
            "model_name": "VBoxModel",
            "state": {
              "children": [
                "IPY_MODEL_bbc9ae58654a4fe8abd595fcbbc07852",
                "IPY_MODEL_8d3eccc8d8464e43b7127587d3b0e98b",
                "IPY_MODEL_f1f4a2f03f9f43e589ac44604bfd6c27",
                "IPY_MODEL_693c99ccbe1340e99a52acbc00a21d34"
              ],
              "layout": "IPY_MODEL_203898791be44db1aa9741d435313849"
            }
          },
          "1939aefb9b954577860e11d0fc9b2fcc": {
            "model_module": "@jupyter-widgets/base",
            "model_module_version": "2.0.0",
            "model_name": "LayoutModel",
            "state": {}
          },
          "19f479b931d245c18e221b5bcee00efa": {
            "model_module": "jupyter-matplotlib",
            "model_module_version": "^0.11",
            "model_name": "ToolbarModel",
            "state": {
              "_model_module_version": "^0.11",
              "_view_module_version": "^0.11",
              "collapsed": true,
              "layout": "IPY_MODEL_5f316aa2b6f34c5c9ff9a4cca08e31cc",
              "orientation": "vertical",
              "toolitems": [
                [
                  "Home",
                  "Reset original view",
                  "home",
                  "home"
                ],
                [
                  "Back",
                  "Back to previous view",
                  "arrow-left",
                  "back"
                ],
                [
                  "Forward",
                  "Forward to next view",
                  "arrow-right",
                  "forward"
                ],
                [
                  "Pan",
                  "Left button pans, Right button zooms\nx/y fixes axis, CTRL fixes aspect",
                  "arrows",
                  "pan"
                ],
                [
                  "Zoom",
                  "Zoom to rectangle\nx/y fixes axis",
                  "square-o",
                  "zoom"
                ],
                [
                  "Download",
                  "Download plot",
                  "floppy-o",
                  "save_figure"
                ]
              ]
            }
          },
          "1b116b28321f492d87f0bc2c89aed194": {
            "model_module": "@jupyter-widgets/controls",
            "model_module_version": "2.0.0",
            "model_name": "DropdownModel",
            "state": {
              "_options_labels": [
                "exit wave phase",
                "exit wave amplitude"
              ],
              "index": 1,
              "layout": "IPY_MODEL_08cc696cdcae4f1d8e83afe79eab89f7",
              "style": "IPY_MODEL_ab7708a8f34041fe817864e4e07db170"
            }
          },
          "1c83c67ac34d4430978414a006650386": {
            "model_module": "@jupyter-widgets/base",
            "model_module_version": "2.0.0",
            "model_name": "LayoutModel",
            "state": {
              "width": "480px"
            }
          },
          "1d44fdb573da4e91b0bb29a080151a41": {
            "model_module": "@jupyter-widgets/controls",
            "model_module_version": "2.0.0",
            "model_name": "VBoxModel",
            "state": {
              "children": [
                "IPY_MODEL_8eb83bb78aa44ae780a53025cd3c3cef",
                "IPY_MODEL_6cac3ba227414deb9ec209ac795e98b7"
              ],
              "layout": "IPY_MODEL_b90547ad4d2f4fb582cbd2b53ad2b762"
            }
          },
          "1e4fc8f519c141eea176743410e40150": {
            "model_module": "@jupyter-widgets/controls",
            "model_module_version": "2.0.0",
            "model_name": "DescriptionStyleModel",
            "state": {
              "description_width": ""
            }
          },
          "1f465af2f6f443579d65f4d899d6d3ec": {
            "model_module": "@jupyter-widgets/controls",
            "model_module_version": "2.0.0",
            "model_name": "DescriptionStyleModel",
            "state": {
              "description_width": ""
            }
          },
          "203898791be44db1aa9741d435313849": {
            "model_module": "@jupyter-widgets/base",
            "model_module_version": "2.0.0",
            "model_name": "LayoutModel",
            "state": {
              "align_items": "center",
              "display": "flex",
              "flex_flow": "column",
              "width": "200px"
            }
          },
          "21d6738249b54bf69575ba8845003ac1": {
            "model_module": "@jupyter-widgets/controls",
            "model_module_version": "2.0.0",
            "model_name": "DescriptionStyleModel",
            "state": {
              "description_width": ""
            }
          },
          "225080abd6db44759723e296b6dfbba9": {
            "model_module": "@jupyter-widgets/base",
            "model_module_version": "2.0.0",
            "model_name": "LayoutModel",
            "state": {
              "align_items": "center",
              "display": "flex",
              "flex_flow": "row",
              "width": "680px"
            }
          },
          "22b45f1271014a32a16c598728661193": {
            "model_module": "@jupyter-widgets/controls",
            "model_module_version": "2.0.0",
            "model_name": "HBoxModel",
            "state": {
              "children": [
                "IPY_MODEL_48fa040d86e546c0b8eb7c691658177e",
                "IPY_MODEL_ca097b964cd247009df124d67ae8a0e3"
              ],
              "layout": "IPY_MODEL_3ee2407d130f4454b2ed1ec068087595"
            }
          },
          "22e0c0fb7cb3417a8523472d5c2f4a93": {
            "model_module": "@jupyter-widgets/base",
            "model_module_version": "2.0.0",
            "model_name": "LayoutModel",
            "state": {
              "width": "190px"
            }
          },
          "2394e2b051f2480e992b4e1350008882": {
            "model_module": "@jupyter-widgets/controls",
            "model_module_version": "2.0.0",
            "model_name": "VBoxModel",
            "state": {
              "children": [
                "IPY_MODEL_781b9f806175419b883023e3e95ac413",
                "IPY_MODEL_7752e6cf6cf3476aa1a1cfa659745ef7"
              ],
              "layout": "IPY_MODEL_24c9c1ad60df4992b8fcba90a98d0f8c"
            }
          },
          "24c9c1ad60df4992b8fcba90a98d0f8c": {
            "model_module": "@jupyter-widgets/base",
            "model_module_version": "2.0.0",
            "model_name": "LayoutModel",
            "state": {
              "align_items": "center",
              "display": "flex",
              "flex_flow": "column",
              "width": "200px"
            }
          },
          "2586469d00644297a334cca3d2ad02ad": {
            "model_module": "@jupyter-widgets/base",
            "model_module_version": "2.0.0",
            "model_name": "LayoutModel",
            "state": {
              "align_items": "center",
              "display": "flex",
              "flex_flow": "column",
              "width": "200px"
            }
          },
          "26aeae6a01014b68b1c219311efe255f": {
            "model_module": "@jupyter-widgets/base",
            "model_module_version": "2.0.0",
            "model_name": "LayoutModel",
            "state": {
              "width": "480px"
            }
          },
          "27f8b4012fa54d30b2c3dfae335ddfaa": {
            "model_module": "@jupyter-widgets/base",
            "model_module_version": "2.0.0",
            "model_name": "LayoutModel",
            "state": {
              "align_items": "center",
              "display": "flex",
              "flex_flow": "column",
              "width": "200px"
            }
          },
          "28960cf95fb24b96aea8154c6397bdae": {
            "model_module": "@jupyter-widgets/base",
            "model_module_version": "2.0.0",
            "model_name": "LayoutModel",
            "state": {}
          },
          "2987202973cc4bb2b4c85c288ff1341e": {
            "model_module": "@jupyter-widgets/controls",
            "model_module_version": "2.0.0",
            "model_name": "DropdownModel",
            "state": {
              "_options_labels": [
                "exit wave phase",
                "exit wave amplitude"
              ],
              "index": 0,
              "layout": "IPY_MODEL_723373d546544f768d3805d905fb4a03",
              "style": "IPY_MODEL_1f465af2f6f443579d65f4d899d6d3ec"
            }
          },
          "2b8fbe91f9124d9bb993fef3cec496e4": {
            "model_module": "@jupyter-widgets/base",
            "model_module_version": "2.0.0",
            "model_name": "LayoutModel",
            "state": {
              "width": "190px"
            }
          },
          "2b9ed5d2a185410d80aa184f2bab3d35": {
            "model_module": "@jupyter-widgets/controls",
            "model_module_version": "2.0.0",
            "model_name": "VBoxModel",
            "state": {
              "children": [
                "IPY_MODEL_3308939f9a2747918064ec7637754a76",
                "IPY_MODEL_05dee5dcc6f441d78b54e956cd790bca"
              ],
              "layout": "IPY_MODEL_5e4ef36d33c14c60a02d03401666185f"
            }
          },
          "2bbfa24e6e4748d98878883a259666b3": {
            "model_module": "@jupyter-widgets/base",
            "model_module_version": "2.0.0",
            "model_name": "LayoutModel",
            "state": {
              "width": "190px"
            }
          },
          "2be99b33a5ff4e65bf48be0e07df5feb": {
            "model_module": "@jupyter-widgets/base",
            "model_module_version": "2.0.0",
            "model_name": "LayoutModel",
            "state": {
              "width": "180px"
            }
          },
          "2c3151a8bda7420a9a50198159b2d067": {
            "model_module": "@jupyter-widgets/base",
            "model_module_version": "2.0.0",
            "model_name": "LayoutModel",
            "state": {
              "width": "180px"
            }
          },
          "2c3ad7564c544c80a8a6fd5f39c3deee": {
            "model_module": "@jupyter-widgets/controls",
            "model_module_version": "2.0.0",
            "model_name": "DescriptionStyleModel",
            "state": {
              "description_width": ""
            }
          },
          "2cfaf14701b442868a4085bde73d2752": {
            "model_module": "@jupyter-widgets/base",
            "model_module_version": "2.0.0",
            "model_name": "LayoutModel",
            "state": {}
          },
          "2eea61ccea4041e7bdabb5e12f317c69": {
            "model_module": "@jupyter-widgets/base",
            "model_module_version": "2.0.0",
            "model_name": "LayoutModel",
            "state": {
              "width": "180px"
            }
          },
          "3060c7e7d95546d0a46fa460f37b4ed8": {
            "model_module": "@jupyter-widgets/base",
            "model_module_version": "2.0.0",
            "model_name": "LayoutModel",
            "state": {
              "width": "180px"
            }
          },
          "317f5b12b3134f969ab89463490abdf0": {
            "model_module": "@jupyter-widgets/controls",
            "model_module_version": "2.0.0",
            "model_name": "DropdownModel",
            "state": {
              "_options_labels": [
                "gray",
                "viridis",
                "plasma",
                "inferno",
                "magma",
                "cividis",
                "turbo",
                "Purples_r",
                "Blues_r",
                "Greens_r",
                "Oranges_r",
                "Reds_r",
                "YlOrBr_r",
                "YlOrRd_r",
                "OrRd_r",
                "PuRd_r",
                "RdPu_r",
                "BuPu_r",
                "GnBu_r",
                "PuBu_r",
                "YlGnBu_r",
                "PuBuGn_r",
                "BuGn_r",
                "YlGn_r"
              ],
              "description": "Colormap",
              "index": 0,
              "layout": "IPY_MODEL_4423fc005035414da3c2a1ec4d1a4012",
              "style": "IPY_MODEL_72f7fdeb9a0c4db3b5c7a25001be1494"
            }
          },
          "35106561d7594cb1b096693438bc65fb": {
            "model_module": "jupyter-matplotlib",
            "model_module_version": "^0.11",
            "model_name": "ToolbarModel",
            "state": {
              "_model_module_version": "^0.11",
              "_view_module_version": "^0.11",
              "collapsed": true,
              "layout": "IPY_MODEL_8a49bf2f247b45fc8c20a0fa40db1508",
              "orientation": "vertical",
              "position": "bottom",
              "toolitems": [
                [
                  "Home",
                  "Reset original view",
                  "home",
                  "home"
                ],
                [
                  "Back",
                  "Back to previous view",
                  "arrow-left",
                  "back"
                ],
                [
                  "Forward",
                  "Forward to next view",
                  "arrow-right",
                  "forward"
                ],
                [
                  "Pan",
                  "Left button pans, Right button zooms\nx/y fixes axis, CTRL fixes aspect",
                  "arrows",
                  "pan"
                ],
                [
                  "Zoom",
                  "Zoom to rectangle\nx/y fixes axis",
                  "square-o",
                  "zoom"
                ],
                [
                  "Download",
                  "Download plot",
                  "floppy-o",
                  "save_figure"
                ]
              ]
            }
          },
          "3620a783dd8a412581293db12a1cacfd": {
            "model_module": "jupyter-matplotlib",
            "model_module_version": "^0.11",
            "model_name": "ToolbarModel",
            "state": {
              "_model_module_version": "^0.11",
              "_view_module_version": "^0.11",
              "collapsed": true,
              "layout": "IPY_MODEL_4d9491142d4b47bcb06e0116599a4a88",
              "orientation": "vertical",
              "toolitems": [
                [
                  "Home",
                  "Reset original view",
                  "home",
                  "home"
                ],
                [
                  "Back",
                  "Back to previous view",
                  "arrow-left",
                  "back"
                ],
                [
                  "Forward",
                  "Forward to next view",
                  "arrow-right",
                  "forward"
                ],
                [
                  "Pan",
                  "Left button pans, Right button zooms\nx/y fixes axis, CTRL fixes aspect",
                  "arrows",
                  "pan"
                ],
                [
                  "Zoom",
                  "Zoom to rectangle\nx/y fixes axis",
                  "square-o",
                  "zoom"
                ],
                [
                  "Download",
                  "Download plot",
                  "floppy-o",
                  "save_figure"
                ]
              ]
            }
          },
          "3914b681b5244d0cb066d135e5a16193": {
            "model_module": "@jupyter-widgets/controls",
            "model_module_version": "2.0.0",
            "model_name": "DropdownModel",
            "state": {
              "_options_labels": [
                "exit wave phase",
                "exit wave amplitude"
              ],
              "index": 1,
              "layout": "IPY_MODEL_eed3182996c5482b8009780aa865f1ce",
              "style": "IPY_MODEL_55e965c9998f437bbea516a3c89dff7f"
            }
          },
          "392b21dec8f648d7999f648d4814b862": {
            "model_module": "@jupyter-widgets/base",
            "model_module_version": "2.0.0",
            "model_name": "LayoutModel",
            "state": {
              "width": "180px"
            }
          },
          "3a1e143867d94e7c91b0813a21c36613": {
            "model_module": "jupyter-matplotlib",
            "model_module_version": "^0.11",
            "model_name": "ToolbarModel",
            "state": {
              "_model_module_version": "^0.11",
              "_view_module_version": "^0.11",
              "collapsed": true,
              "layout": "IPY_MODEL_2cfaf14701b442868a4085bde73d2752",
              "orientation": "vertical",
              "position": "bottom",
              "toolitems": [
                [
                  "Home",
                  "Reset original view",
                  "home",
                  "home"
                ],
                [
                  "Back",
                  "Back to previous view",
                  "arrow-left",
                  "back"
                ],
                [
                  "Forward",
                  "Forward to next view",
                  "arrow-right",
                  "forward"
                ],
                [
                  "Pan",
                  "Left button pans, Right button zooms\nx/y fixes axis, CTRL fixes aspect",
                  "arrows",
                  "pan"
                ],
                [
                  "Zoom",
                  "Zoom to rectangle\nx/y fixes axis",
                  "square-o",
                  "zoom"
                ],
                [
                  "Download",
                  "Download plot",
                  "floppy-o",
                  "save_figure"
                ]
              ]
            }
          },
          "3a9f2f896cc54533ae7cde879875956f": {
            "model_module": "@jupyter-widgets/base",
            "model_module_version": "2.0.0",
            "model_name": "LayoutModel",
            "state": {}
          },
          "3c135e583afb492a8aec755d9d685dc5": {
            "model_module": "@jupyter-widgets/controls",
            "model_module_version": "2.0.0",
            "model_name": "DescriptionStyleModel",
            "state": {
              "description_width": ""
            }
          },
          "3df13fdce73d4b309721c7e17d2e5375": {
            "model_module": "@jupyter-widgets/base",
            "model_module_version": "2.0.0",
            "model_name": "LayoutModel",
            "state": {
              "width": "180px"
            }
          },
          "3ebbcd25a4b2455d942c204a9eb195b2": {
            "model_module": "@jupyter-widgets/base",
            "model_module_version": "2.0.0",
            "model_name": "LayoutModel",
            "state": {
              "align_items": "center",
              "display": "flex",
              "flex_flow": "row",
              "width": "680px"
            }
          },
          "3ee2407d130f4454b2ed1ec068087595": {
            "model_module": "@jupyter-widgets/base",
            "model_module_version": "2.0.0",
            "model_name": "LayoutModel",
            "state": {
              "align_items": "center",
              "display": "flex",
              "flex_flow": "row",
              "width": "680px"
            }
          },
          "3f74592d101f467e8360566498073a13": {
            "model_module": "@jupyter-widgets/base",
            "model_module_version": "2.0.0",
            "model_name": "LayoutModel",
            "state": {
              "width": "190px"
            }
          },
          "41e9c8cbe62b4a9cad10141e714159c2": {
            "model_module": "@jupyter-widgets/base",
            "model_module_version": "2.0.0",
            "model_name": "LayoutModel",
            "state": {
              "width": "180px"
            }
          },
          "430ccd9efd5843579f7bc4600f376665": {
            "model_module": "@jupyter-widgets/base",
            "model_module_version": "2.0.0",
            "model_name": "LayoutModel",
            "state": {
              "align_items": "center",
              "display": "flex",
              "flex_flow": "row",
              "width": "680px"
            }
          },
          "4423fc005035414da3c2a1ec4d1a4012": {
            "model_module": "@jupyter-widgets/base",
            "model_module_version": "2.0.0",
            "model_name": "LayoutModel",
            "state": {
              "width": "180px"
            }
          },
          "45f1da65259a4f1cae46b85caddf9fdc": {
            "model_module": "@jupyter-widgets/controls",
            "model_module_version": "2.0.0",
            "model_name": "HBoxModel",
            "state": {
              "children": [
                "IPY_MODEL_243658f7779f4b56bd45688ca05c68de",
                "IPY_MODEL_89acfe0bc62e465c8c2253f3c2250107"
              ],
              "layout": "IPY_MODEL_b80601de99554e9c800832084d2cbace"
            }
          },
          "46637d9da8104fd19c4df07dfd9fb4b4": {
            "model_module": "@jupyter-widgets/base",
            "model_module_version": "2.0.0",
            "model_name": "LayoutModel",
            "state": {
              "width": "180px"
            }
          },
          "466710928207448187ccd23e2cfdada4": {
            "model_module": "@jupyter-widgets/controls",
            "model_module_version": "2.0.0",
            "model_name": "SliderStyleModel",
            "state": {
              "description_width": ""
            }
          },
          "4745fc9131f2425b86438c0fa7c9357a": {
            "model_module": "@jupyter-widgets/controls",
            "model_module_version": "2.0.0",
            "model_name": "CheckboxStyleModel",
            "state": {
              "description_width": ""
            }
          },
          "47c006588c544a66a91c699ec45e366d": {
            "model_module": "@jupyter-widgets/controls",
            "model_module_version": "2.0.0",
            "model_name": "SliderStyleModel",
            "state": {
              "description_width": ""
            }
          },
          "4ad037a51abc4b6da5a5706779333d05": {
            "model_module": "@jupyter-widgets/controls",
            "model_module_version": "2.0.0",
            "model_name": "FloatRangeSliderModel",
            "state": {
              "_model_name": "FloatRangeSliderModel",
              "_view_name": "FloatRangeSliderView",
              "behavior": "drag-tap",
              "continuous_update": false,
              "layout": "IPY_MODEL_d694c88f5c8340cebeca73a6ab976f6a",
              "max": 1.0676676481962204,
              "min": 0.9317620545625687,
              "readout": false,
              "step": 0.0013590559363365173,
              "style": "IPY_MODEL_99848ea6cd3846cabaf1a708f166e0ac",
              "value": [
                0.9827266521751881,
                1.0336912497878075
              ]
            }
          },
          "4af93daa52214bf499dfb5b1aed16a1d": {
            "model_module": "@jupyter-widgets/controls",
            "model_module_version": "2.0.0",
            "model_name": "CheckboxStyleModel",
            "state": {
              "description_width": ""
            }
          },
          "4b1a4d615cd346c98e1b1748cc185320": {
            "model_module": "@jupyter-widgets/base",
            "model_module_version": "2.0.0",
            "model_name": "LayoutModel",
            "state": {
              "width": "180px"
            }
          },
          "4cd3b0a09c074b669510e7a844594899": {
            "model_module": "@jupyter-widgets/base",
            "model_module_version": "2.0.0",
            "model_name": "LayoutModel",
            "state": {
              "align_items": "center",
              "display": "flex",
              "flex_flow": "row",
              "width": "680px"
            }
          },
          "4d9491142d4b47bcb06e0116599a4a88": {
            "model_module": "@jupyter-widgets/base",
            "model_module_version": "2.0.0",
            "model_name": "LayoutModel",
            "state": {}
          },
          "4e250569b97341dba2778ea90ce76a3b": {
            "model_module": "@jupyter-widgets/controls",
            "model_module_version": "2.0.0",
            "model_name": "HBoxModel",
            "state": {
              "children": [
                "IPY_MODEL_7c4fe4e0cd3f4e9bbc167f5bfddd82db",
                "IPY_MODEL_604523d4f2c14eb69a41967403b9d816"
              ],
              "layout": "IPY_MODEL_5ecfeb3bb5c1472e84f33237a3fcf985"
            }
          },
          "4ecfe103c911499187ef437ad7d461da": {
            "model_module": "@jupyter-widgets/controls",
            "model_module_version": "2.0.0",
            "model_name": "SliderStyleModel",
            "state": {
              "description_width": ""
            }
          },
          "502d51c2419941b6a10019c3af6b883f": {
            "model_module": "@jupyter-widgets/base",
            "model_module_version": "2.0.0",
            "model_name": "LayoutModel",
            "state": {
              "align_items": "center",
              "display": "flex",
              "flex_flow": "column",
              "width": "200px"
            }
          },
          "50446d4814d04b1cba7138e5dbaa62ad": {
            "model_module": "@jupyter-widgets/controls",
            "model_module_version": "2.0.0",
            "model_name": "VBoxModel",
            "state": {
              "children": [
                "IPY_MODEL_57d64f23227b4cacac1bb56dd7959289",
                "IPY_MODEL_8c7b7394ccb74c1f9d4d13426f87454d"
              ],
              "layout": "IPY_MODEL_037bf7055c8041c59f9bb7a5f4ee1d15"
            }
          },
          "53a89103df5a43aa8ba9ba3881a2d415": {
            "model_module": "@jupyter-widgets/base",
            "model_module_version": "2.0.0",
            "model_name": "LayoutModel",
            "state": {
              "align_items": "center",
              "display": "flex",
              "flex_flow": "row",
              "width": "680px"
            }
          },
          "53bec514ed5240a9ba309427340dad55": {
            "model_module": "@jupyter-widgets/base",
            "model_module_version": "2.0.0",
            "model_name": "LayoutModel",
            "state": {
              "width": "180px"
            }
          },
          "53fa43e7bc754f0bb78a292141d19abe": {
            "model_module": "jupyter-matplotlib",
            "model_module_version": "^0.11",
            "model_name": "ToolbarModel",
            "state": {
              "_model_module_version": "^0.11",
              "_view_module_version": "^0.11",
              "collapsed": true,
              "layout": "IPY_MODEL_5f0906f4d74d452d81ccaf47cd4cd78d",
              "orientation": "vertical",
              "position": "bottom",
              "toolitems": [
                [
                  "Home",
                  "Reset original view",
                  "home",
                  "home"
                ],
                [
                  "Back",
                  "Back to previous view",
                  "arrow-left",
                  "back"
                ],
                [
                  "Forward",
                  "Forward to next view",
                  "arrow-right",
                  "forward"
                ],
                [
                  "Pan",
                  "Left button pans, Right button zooms\nx/y fixes axis, CTRL fixes aspect",
                  "arrows",
                  "pan"
                ],
                [
                  "Zoom",
                  "Zoom to rectangle\nx/y fixes axis",
                  "square-o",
                  "zoom"
                ],
                [
                  "Download",
                  "Download plot",
                  "floppy-o",
                  "save_figure"
                ]
              ]
            }
          },
          "54bcdd9462d64a7d8d16676b20d15661": {
            "model_module": "@jupyter-widgets/controls",
            "model_module_version": "2.0.0",
            "model_name": "DescriptionStyleModel",
            "state": {
              "description_width": ""
            }
          },
          "54f1eb22616f4aeb84290b8062bd2b77": {
            "model_module": "@jupyter-widgets/controls",
            "model_module_version": "2.0.0",
            "model_name": "DescriptionStyleModel",
            "state": {
              "description_width": ""
            }
          },
          "55e965c9998f437bbea516a3c89dff7f": {
            "model_module": "@jupyter-widgets/controls",
            "model_module_version": "2.0.0",
            "model_name": "DescriptionStyleModel",
            "state": {
              "description_width": ""
            }
          },
          "56c1492e1f6847beac4abfdf73029bd8": {
            "model_module": "@jupyter-widgets/base",
            "model_module_version": "2.0.0",
            "model_name": "LayoutModel",
            "state": {
              "align_items": "center",
              "display": "flex",
              "flex_flow": "column",
              "width": "200px"
            }
          },
          "571250d881f44232b4fd495615b79082": {
            "model_module": "jupyter-matplotlib",
            "model_module_version": "^0.11",
            "model_name": "ToolbarModel",
            "state": {
              "_model_module_version": "^0.11",
              "_view_module_version": "^0.11",
              "collapsed": true,
              "layout": "IPY_MODEL_9fb75e3561284c7cac22866d447ed91c",
              "orientation": "vertical",
              "toolitems": [
                [
                  "Home",
                  "Reset original view",
                  "home",
                  "home"
                ],
                [
                  "Back",
                  "Back to previous view",
                  "arrow-left",
                  "back"
                ],
                [
                  "Forward",
                  "Forward to next view",
                  "arrow-right",
                  "forward"
                ],
                [
                  "Pan",
                  "Left button pans, Right button zooms\nx/y fixes axis, CTRL fixes aspect",
                  "arrows",
                  "pan"
                ],
                [
                  "Zoom",
                  "Zoom to rectangle\nx/y fixes axis",
                  "square-o",
                  "zoom"
                ],
                [
                  "Download",
                  "Download plot",
                  "floppy-o",
                  "save_figure"
                ]
              ]
            }
          },
          "5741da9e9787474da4264803c3cbea34": {
            "model_module": "@jupyter-widgets/base",
            "model_module_version": "2.0.0",
            "model_name": "LayoutModel",
            "state": {
              "align_items": "center",
              "display": "flex",
              "flex_flow": "row",
              "width": "680px"
            }
          },
          "57d632e07e64418ab83884bbad84f48f": {
            "model_module": "@jupyter-widgets/base",
            "model_module_version": "2.0.0",
            "model_name": "LayoutModel",
            "state": {
              "width": "180px"
            }
          },
          "5b930175dd68400096e1462e49e2cabb": {
            "model_module": "@jupyter-widgets/controls",
            "model_module_version": "2.0.0",
            "model_name": "DropdownModel",
            "state": {
              "_options_labels": [
                "exit wave phase",
                "exit wave amplitude"
              ],
              "index": 0,
              "layout": "IPY_MODEL_0677843bef57435089a275a23e52fa9a",
              "style": "IPY_MODEL_21d6738249b54bf69575ba8845003ac1"
            }
          },
          "5e4ef36d33c14c60a02d03401666185f": {
            "model_module": "@jupyter-widgets/base",
            "model_module_version": "2.0.0",
            "model_name": "LayoutModel",
            "state": {
              "align_items": "center",
              "display": "flex",
              "flex_flow": "column",
              "width": "200px"
            }
          },
          "5e794c2e13b64d199b444d150d41b918": {
            "model_module": "@jupyter-widgets/base",
            "model_module_version": "2.0.0",
            "model_name": "LayoutModel",
            "state": {}
          },
          "5e86b17de6df40b98d47ec71ee408fb6": {
            "model_module": "@jupyter-widgets/base",
            "model_module_version": "2.0.0",
            "model_name": "LayoutModel",
            "state": {}
          },
          "5ecfeb3bb5c1472e84f33237a3fcf985": {
            "model_module": "@jupyter-widgets/base",
            "model_module_version": "2.0.0",
            "model_name": "LayoutModel",
            "state": {
              "align_items": "center",
              "display": "flex",
              "flex_flow": "row",
              "width": "680px"
            }
          },
          "5f0906f4d74d452d81ccaf47cd4cd78d": {
            "model_module": "@jupyter-widgets/base",
            "model_module_version": "2.0.0",
            "model_name": "LayoutModel",
            "state": {}
          },
          "5f316aa2b6f34c5c9ff9a4cca08e31cc": {
            "model_module": "@jupyter-widgets/base",
            "model_module_version": "2.0.0",
            "model_name": "LayoutModel",
            "state": {}
          },
          "5f824979d37b4b87baf42591cb272d6c": {
            "model_module": "@jupyter-widgets/controls",
            "model_module_version": "2.0.0",
            "model_name": "CheckboxStyleModel",
            "state": {
              "description_width": ""
            }
          },
          "5ff97f2075ef4bbcab94e95ff8649d74": {
            "model_module": "jupyter-matplotlib",
            "model_module_version": "^0.11",
            "model_name": "ToolbarModel",
            "state": {
              "_model_module_version": "^0.11",
              "_view_module_version": "^0.11",
              "collapsed": true,
              "layout": "IPY_MODEL_af90341ffcf149d2981bd2e645148f44",
              "orientation": "vertical",
              "toolitems": [
                [
                  "Home",
                  "Reset original view",
                  "home",
                  "home"
                ],
                [
                  "Back",
                  "Back to previous view",
                  "arrow-left",
                  "back"
                ],
                [
                  "Forward",
                  "Forward to next view",
                  "arrow-right",
                  "forward"
                ],
                [
                  "Pan",
                  "Left button pans, Right button zooms\nx/y fixes axis, CTRL fixes aspect",
                  "arrows",
                  "pan"
                ],
                [
                  "Zoom",
                  "Zoom to rectangle\nx/y fixes axis",
                  "square-o",
                  "zoom"
                ],
                [
                  "Download",
                  "Download plot",
                  "floppy-o",
                  "save_figure"
                ]
              ]
            }
          },
          "604523d4f2c14eb69a41967403b9d816": {
            "model_module": "@jupyter-widgets/controls",
            "model_module_version": "2.0.0",
            "model_name": "VBoxModel",
            "state": {
              "children": [
                "IPY_MODEL_79723f98d0b14c49a3439cf3030f41b6",
                "IPY_MODEL_3914b681b5244d0cb066d135e5a16193",
                "IPY_MODEL_dff9266f3bd9412caf979670187851f3",
                "IPY_MODEL_1390c7adca124e54923da596a1ad666a"
              ],
              "layout": "IPY_MODEL_502d51c2419941b6a10019c3af6b883f"
            }
          },
          "60644c39954e430ca038397502b22bd9": {
            "model_module": "@jupyter-widgets/controls",
            "model_module_version": "2.0.0",
            "model_name": "SliderStyleModel",
            "state": {
              "description_width": ""
            }
          },
          "609174e17c5744069f9c676eb64a2cbb": {
            "model_module": "@jupyter-widgets/controls",
            "model_module_version": "2.0.0",
            "model_name": "SliderStyleModel",
            "state": {
              "description_width": ""
            }
          },
          "62ec87aac3254be8968a21311747f3e6": {
            "model_module": "@jupyter-widgets/base",
            "model_module_version": "2.0.0",
            "model_name": "LayoutModel",
            "state": {
              "width": "180px"
            }
          },
          "63365b5d171341549a2a95d798dabe2e": {
            "model_module": "@jupyter-widgets/controls",
            "model_module_version": "2.0.0",
            "model_name": "CheckboxStyleModel",
            "state": {
              "description_width": ""
            }
          },
          "63585a4af7bc4d988fc7edcb1e7125b7": {
            "model_module": "@jupyter-widgets/base",
            "model_module_version": "2.0.0",
            "model_name": "LayoutModel",
            "state": {
              "width": "180px"
            }
          },
          "64b7410af6204dd89f5af57476956826": {
            "model_module": "@jupyter-widgets/controls",
            "model_module_version": "2.0.0",
            "model_name": "HBoxModel",
            "state": {
              "children": [
                "IPY_MODEL_2eddbf18a8b54022bb3e7d852d305f96",
                "IPY_MODEL_9d7b4255a3344c5ca1855a6546588281"
              ],
              "layout": "IPY_MODEL_225080abd6db44759723e296b6dfbba9"
            }
          },
          "64cffaf80cbf4073b50484cb4a06ca9a": {
            "model_module": "@jupyter-widgets/controls",
            "model_module_version": "2.0.0",
            "model_name": "DropdownModel",
            "state": {
              "_options_labels": [
                "exit wave phase",
                "exit wave amplitude"
              ],
              "index": 0,
              "layout": "IPY_MODEL_2be99b33a5ff4e65bf48be0e07df5feb",
              "style": "IPY_MODEL_54f1eb22616f4aeb84290b8062bd2b77"
            }
          },
          "6789772c18a54c10aaaa445184796979": {
            "model_module": "jupyter-matplotlib",
            "model_module_version": "^0.11",
            "model_name": "ToolbarModel",
            "state": {
              "_model_module_version": "^0.11",
              "_view_module_version": "^0.11",
              "collapsed": true,
              "layout": "IPY_MODEL_98b1440bb7104e9082dc4fe834ac20f4",
              "orientation": "vertical",
              "toolitems": [
                [
                  "Home",
                  "Reset original view",
                  "home",
                  "home"
                ],
                [
                  "Back",
                  "Back to previous view",
                  "arrow-left",
                  "back"
                ],
                [
                  "Forward",
                  "Forward to next view",
                  "arrow-right",
                  "forward"
                ],
                [
                  "Pan",
                  "Left button pans, Right button zooms\nx/y fixes axis, CTRL fixes aspect",
                  "arrows",
                  "pan"
                ],
                [
                  "Zoom",
                  "Zoom to rectangle\nx/y fixes axis",
                  "square-o",
                  "zoom"
                ],
                [
                  "Download",
                  "Download plot",
                  "floppy-o",
                  "save_figure"
                ]
              ]
            }
          },
          "6897163421cc4ed4a7852623a4e5c664": {
            "model_module": "@jupyter-widgets/controls",
            "model_module_version": "2.0.0",
            "model_name": "CheckboxModel",
            "state": {
              "description": "Show scale bar",
              "disabled": false,
              "indent": false,
              "layout": "IPY_MODEL_62ec87aac3254be8968a21311747f3e6",
              "style": "IPY_MODEL_d4532fe735b04ad8bc508af2ac04f143",
              "value": true
            }
          },
          "693c99ccbe1340e99a52acbc00a21d34": {
            "model_module": "@jupyter-widgets/controls",
            "model_module_version": "2.0.0",
            "model_name": "CheckboxModel",
            "state": {
              "description": "Show scale bar",
              "disabled": false,
              "indent": false,
              "layout": "IPY_MODEL_dd9500e007e243aa8c25823226ccddc7",
              "style": "IPY_MODEL_9a65f851d20e42a5b2a7eaa4909b5289",
              "value": true
            }
          },
          "6a69a8e0a293495ea7e7477ee45282f1": {
            "model_module": "jupyter-matplotlib",
            "model_module_version": "^0.11",
            "model_name": "ToolbarModel",
            "state": {
              "_model_module_version": "^0.11",
              "_view_module_version": "^0.11",
              "collapsed": true,
              "layout": "IPY_MODEL_bb034b562d7d474ca75e6453d3868acd",
              "orientation": "vertical",
              "position": "bottom",
              "toolitems": [
                [
                  "Home",
                  "Reset original view",
                  "home",
                  "home"
                ],
                [
                  "Back",
                  "Back to previous view",
                  "arrow-left",
                  "back"
                ],
                [
                  "Forward",
                  "Forward to next view",
                  "arrow-right",
                  "forward"
                ],
                [
                  "Pan",
                  "Left button pans, Right button zooms\nx/y fixes axis, CTRL fixes aspect",
                  "arrows",
                  "pan"
                ],
                [
                  "Zoom",
                  "Zoom to rectangle\nx/y fixes axis",
                  "square-o",
                  "zoom"
                ],
                [
                  "Download",
                  "Download plot",
                  "floppy-o",
                  "save_figure"
                ]
              ]
            }
          },
          "6cac3ba227414deb9ec209ac795e98b7": {
            "model_module": "@jupyter-widgets/controls",
            "model_module_version": "2.0.0",
            "model_name": "FloatRangeSliderModel",
            "state": {
              "_model_name": "FloatRangeSliderModel",
              "_view_name": "FloatRangeSliderView",
              "behavior": "drag-tap",
              "continuous_update": false,
              "layout": "IPY_MODEL_97d0e8c589014ddba4b11fa8daf521f7",
              "max": 1.0676676481962204,
              "min": 0.9317620545625687,
              "readout": false,
              "step": 0.0013590559363365173,
              "style": "IPY_MODEL_0a435cc0e66843bdb143ebdc4c7de32a",
              "value": [
                0.9426345020532608,
                1.0336912497878075
              ]
            }
          },
          "6d929d1f9fd64adb92f977ad18254bb7": {
            "model_module": "@jupyter-widgets/base",
            "model_module_version": "2.0.0",
            "model_name": "LayoutModel",
            "state": {}
          },
          "6ee3a3abe55d401ab8fcad4dc3e4d30e": {
            "model_module": "@jupyter-widgets/base",
            "model_module_version": "2.0.0",
            "model_name": "LayoutModel",
            "state": {
              "align_items": "center",
              "display": "flex",
              "flex_flow": "column",
              "width": "200px"
            }
          },
          "6f746016344f45bb8501f94c0f80ca11": {
            "model_module": "@jupyter-widgets/controls",
            "model_module_version": "2.0.0",
            "model_name": "HBoxModel",
            "state": {
              "children": [
                "IPY_MODEL_e50047a6aefa4b8bb289b5d454fd4f52",
                "IPY_MODEL_93b912e1aacb47d9ba0ba3e1b52a56c6"
              ],
              "layout": "IPY_MODEL_53a89103df5a43aa8ba9ba3881a2d415"
            }
          },
          "70513a99288c4fc989de80aa87e13ecb": {
            "model_module": "jupyter-matplotlib",
            "model_module_version": "^0.11",
            "model_name": "ToolbarModel",
            "state": {
              "_model_module_version": "^0.11",
              "_view_module_version": "^0.11",
              "collapsed": true,
              "layout": "IPY_MODEL_a43f8f98a4ad4ca998fb736a9e006fe8",
              "orientation": "vertical",
              "toolitems": [
                [
                  "Home",
                  "Reset original view",
                  "home",
                  "home"
                ],
                [
                  "Back",
                  "Back to previous view",
                  "arrow-left",
                  "back"
                ],
                [
                  "Forward",
                  "Forward to next view",
                  "arrow-right",
                  "forward"
                ],
                [
                  "Pan",
                  "Left button pans, Right button zooms\nx/y fixes axis, CTRL fixes aspect",
                  "arrows",
                  "pan"
                ],
                [
                  "Zoom",
                  "Zoom to rectangle\nx/y fixes axis",
                  "square-o",
                  "zoom"
                ],
                [
                  "Download",
                  "Download plot",
                  "floppy-o",
                  "save_figure"
                ]
              ]
            }
          },
          "71e157ad9933488fbd883e1e25b5a46a": {
            "model_module": "@jupyter-widgets/base",
            "model_module_version": "2.0.0",
            "model_name": "LayoutModel",
            "state": {
              "width": "180px"
            }
          },
          "72170acde31445a18cceab9d2f8ddbeb": {
            "model_module": "jupyter-matplotlib",
            "model_module_version": "^0.11",
            "model_name": "ToolbarModel",
            "state": {
              "_model_module_version": "^0.11",
              "_view_module_version": "^0.11",
              "collapsed": true,
              "layout": "IPY_MODEL_7a54f281911e4b08a550c8941d817707",
              "orientation": "vertical",
              "position": "bottom",
              "toolitems": [
                [
                  "Home",
                  "Reset original view",
                  "home",
                  "home"
                ],
                [
                  "Back",
                  "Back to previous view",
                  "arrow-left",
                  "back"
                ],
                [
                  "Forward",
                  "Forward to next view",
                  "arrow-right",
                  "forward"
                ],
                [
                  "Pan",
                  "Left button pans, Right button zooms\nx/y fixes axis, CTRL fixes aspect",
                  "arrows",
                  "pan"
                ],
                [
                  "Zoom",
                  "Zoom to rectangle\nx/y fixes axis",
                  "square-o",
                  "zoom"
                ],
                [
                  "Download",
                  "Download plot",
                  "floppy-o",
                  "save_figure"
                ]
              ]
            }
          },
          "723373d546544f768d3805d905fb4a03": {
            "model_module": "@jupyter-widgets/base",
            "model_module_version": "2.0.0",
            "model_name": "LayoutModel",
            "state": {
              "width": "180px"
            }
          },
          "7298499eaf7f408ca9a9cb4b7710c59f": {
            "model_module": "@jupyter-widgets/base",
            "model_module_version": "2.0.0",
            "model_name": "LayoutModel",
            "state": {}
          },
          "72f7fdeb9a0c4db3b5c7a25001be1494": {
            "model_module": "@jupyter-widgets/controls",
            "model_module_version": "2.0.0",
            "model_name": "DescriptionStyleModel",
            "state": {
              "description_width": ""
            }
          },
          "746c1fb79df1436f8a02ae2b81acdd93": {
            "model_module": "jupyter-matplotlib",
            "model_module_version": "^0.11",
            "model_name": "ToolbarModel",
            "state": {
              "_model_module_version": "^0.11",
              "_view_module_version": "^0.11",
              "collapsed": true,
              "layout": "IPY_MODEL_de877a137fd047cf8de95687177f961b",
              "orientation": "vertical",
              "position": "bottom",
              "toolitems": [
                [
                  "Home",
                  "Reset original view",
                  "home",
                  "home"
                ],
                [
                  "Back",
                  "Back to previous view",
                  "arrow-left",
                  "back"
                ],
                [
                  "Forward",
                  "Forward to next view",
                  "arrow-right",
                  "forward"
                ],
                [
                  "Pan",
                  "Left button pans, Right button zooms\nx/y fixes axis, CTRL fixes aspect",
                  "arrows",
                  "pan"
                ],
                [
                  "Zoom",
                  "Zoom to rectangle\nx/y fixes axis",
                  "square-o",
                  "zoom"
                ],
                [
                  "Download",
                  "Download plot",
                  "floppy-o",
                  "save_figure"
                ]
              ]
            }
          },
          "7471f1989292432c86c06420fa511885": {
            "model_module": "@jupyter-widgets/controls",
            "model_module_version": "2.0.0",
            "model_name": "CheckboxModel",
            "state": {
              "description": "Show scale bar",
              "disabled": false,
              "indent": false,
              "layout": "IPY_MODEL_e6fc8286b53e467a9b707f61f6929f60",
              "style": "IPY_MODEL_f551f1c3ce294d6b9b0d1cd5704819d3",
              "value": true
            }
          },
          "754bf502c42d4ac8ad6803e9127d7180": {
            "model_module": "jupyter-matplotlib",
            "model_module_version": "^0.11",
            "model_name": "ToolbarModel",
            "state": {
              "_model_module_version": "^0.11",
              "_view_module_version": "^0.11",
              "collapsed": true,
              "layout": "IPY_MODEL_fcc424bf0d214e05af23e9970d82774c",
              "orientation": "vertical",
              "toolitems": [
                [
                  "Home",
                  "Reset original view",
                  "home",
                  "home"
                ],
                [
                  "Back",
                  "Back to previous view",
                  "arrow-left",
                  "back"
                ],
                [
                  "Forward",
                  "Forward to next view",
                  "arrow-right",
                  "forward"
                ],
                [
                  "Pan",
                  "Left button pans, Right button zooms\nx/y fixes axis, CTRL fixes aspect",
                  "arrows",
                  "pan"
                ],
                [
                  "Zoom",
                  "Zoom to rectangle\nx/y fixes axis",
                  "square-o",
                  "zoom"
                ],
                [
                  "Download",
                  "Download plot",
                  "floppy-o",
                  "save_figure"
                ]
              ]
            }
          },
          "755676c4dbac4756a42e17b20ccc5c14": {
            "model_module": "@jupyter-widgets/controls",
            "model_module_version": "2.0.0",
            "model_name": "CheckboxModel",
            "state": {
              "description": "Show scale bar",
              "disabled": false,
              "indent": false,
              "layout": "IPY_MODEL_41e9c8cbe62b4a9cad10141e714159c2",
              "style": "IPY_MODEL_a50b31576eb14bb7b7f801c3d1d11680",
              "value": true
            }
          },
          "75ef89cb54204b4f87095f70c13e87ed": {
            "model_module": "@jupyter-widgets/controls",
            "model_module_version": "2.0.0",
            "model_name": "DescriptionStyleModel",
            "state": {
              "description_width": ""
            }
          },
          "76bec5d85a39421bae91f577329c3b0e": {
            "model_module": "jupyter-matplotlib",
            "model_module_version": "^0.11",
            "model_name": "ToolbarModel",
            "state": {
              "_model_module_version": "^0.11",
              "_view_module_version": "^0.11",
              "collapsed": true,
              "layout": "IPY_MODEL_8bb4cb66449a467b9a3e0c1cdf3b2fe1",
              "orientation": "vertical",
              "position": "bottom",
              "toolitems": [
                [
                  "Home",
                  "Reset original view",
                  "home",
                  "home"
                ],
                [
                  "Back",
                  "Back to previous view",
                  "arrow-left",
                  "back"
                ],
                [
                  "Forward",
                  "Forward to next view",
                  "arrow-right",
                  "forward"
                ],
                [
                  "Pan",
                  "Left button pans, Right button zooms\nx/y fixes axis, CTRL fixes aspect",
                  "arrows",
                  "pan"
                ],
                [
                  "Zoom",
                  "Zoom to rectangle\nx/y fixes axis",
                  "square-o",
                  "zoom"
                ],
                [
                  "Download",
                  "Download plot",
                  "floppy-o",
                  "save_figure"
                ]
              ]
            }
          },
          "7752e6cf6cf3476aa1a1cfa659745ef7": {
            "model_module": "@jupyter-widgets/controls",
            "model_module_version": "2.0.0",
            "model_name": "FloatRangeSliderModel",
            "state": {
              "_model_name": "FloatRangeSliderModel",
              "_view_name": "FloatRangeSliderView",
              "behavior": "drag-tap",
              "continuous_update": false,
              "layout": "IPY_MODEL_a3ae82cd838e409baf2249ac03c43552",
              "max": 0.05898725247243419,
              "min": -0.05925031745573506,
              "readout": false,
              "step": 0.0011823756992816925,
              "style": "IPY_MODEL_47c006588c544a66a91c699ec45e366d",
              "value": [
                -0.014320040883030745,
                0.05898725247243419
              ]
            }
          },
          "777c4a38bcde4afd8248b83766852a22": {
            "model_module": "@jupyter-widgets/controls",
            "model_module_version": "2.0.0",
            "model_name": "VBoxModel",
            "state": {
              "children": [
                "IPY_MODEL_94a9ae85e8724ea1a098c5409ae510db",
                "IPY_MODEL_aea482baf23c442c84a2e06748fac7a8"
              ],
              "layout": "IPY_MODEL_27f8b4012fa54d30b2c3dfae335ddfaa"
            }
          },
          "79723f98d0b14c49a3439cf3030f41b6": {
            "model_module": "@jupyter-widgets/controls",
            "model_module_version": "2.0.0",
            "model_name": "VBoxModel",
            "state": {
              "children": [
                "IPY_MODEL_e3f2d3236c3c4bd29d0a443a3737474a",
                "IPY_MODEL_8d48ad0428cd4af083a4a2a10aa97aad"
              ],
              "layout": "IPY_MODEL_502d51c2419941b6a10019c3af6b883f"
            }
          },
          "79abcf9aa0b249d0bac911735d074fb2": {
            "model_module": "@jupyter-widgets/base",
            "model_module_version": "2.0.0",
            "model_name": "LayoutModel",
            "state": {
              "width": "480px"
            }
          },
          "79fa008eea004d4189039a048dbe074b": {
            "model_module": "@jupyter-widgets/controls",
            "model_module_version": "2.0.0",
            "model_name": "HBoxModel",
            "state": {
              "children": [
                "IPY_MODEL_5248c57c4fa24d4881c8cd71a2c7072b",
                "IPY_MODEL_cf10c4c382334d54b0b04998425fe62a"
              ],
              "layout": "IPY_MODEL_4cd3b0a09c074b669510e7a844594899"
            }
          },
          "7a54f281911e4b08a550c8941d817707": {
            "model_module": "@jupyter-widgets/base",
            "model_module_version": "2.0.0",
            "model_name": "LayoutModel",
            "state": {}
          },
          "7c7aa10e37814091b930e38dcd14ae57": {
            "model_module": "@jupyter-widgets/controls",
            "model_module_version": "2.0.0",
            "model_name": "FloatRangeSliderModel",
            "state": {
              "_model_name": "FloatRangeSliderModel",
              "_view_name": "FloatRangeSliderView",
              "behavior": "drag-tap",
              "continuous_update": false,
              "layout": "IPY_MODEL_e2aff33b3a8946258969203733b42560",
              "max": 0.05898725247243419,
              "min": -0.05925031745573506,
              "readout": false,
              "step": 0.0011823756992816925,
              "style": "IPY_MODEL_b2be788c64f448ebaef6d894bda56808",
              "value": [
                -0.014911228732671589,
                0.02942785999039188
              ]
            }
          },
          "8006bc3f2f59493dabf49f48686bb48e": {
            "model_module": "@jupyter-widgets/controls",
            "model_module_version": "2.0.0",
            "model_name": "DropdownModel",
            "state": {
              "_options_labels": [
                "gray",
                "viridis",
                "plasma",
                "inferno",
                "magma",
                "cividis",
                "turbo",
                "Purples_r",
                "Blues_r",
                "Greens_r",
                "Oranges_r",
                "Reds_r",
                "YlOrBr_r",
                "YlOrRd_r",
                "OrRd_r",
                "PuRd_r",
                "RdPu_r",
                "BuPu_r",
                "GnBu_r",
                "PuBu_r",
                "YlGnBu_r",
                "PuBuGn_r",
                "BuGn_r",
                "YlGn_r"
              ],
              "description": "Colormap",
              "index": 0,
              "layout": "IPY_MODEL_63585a4af7bc4d988fc7edcb1e7125b7",
              "style": "IPY_MODEL_1e4fc8f519c141eea176743410e40150"
            }
          },
          "82520289a7924db8910655c612ac5616": {
            "model_module": "@jupyter-widgets/base",
            "model_module_version": "2.0.0",
            "model_name": "LayoutModel",
            "state": {
              "width": "480px"
            }
          },
          "82d724f0cf7d4574b564ed02f00af975": {
            "model_module": "@jupyter-widgets/controls",
            "model_module_version": "2.0.0",
            "model_name": "DescriptionStyleModel",
            "state": {
              "description_width": ""
            }
          },
          "83d234e1819843ccbc0e692500b66a5a": {
            "model_module": "@jupyter-widgets/controls",
            "model_module_version": "2.0.0",
            "model_name": "CheckboxStyleModel",
            "state": {
              "description_width": ""
            }
          },
          "865d14593e1449009a1896a5344ee292": {
            "model_module": "@jupyter-widgets/controls",
            "model_module_version": "2.0.0",
            "model_name": "DescriptionStyleModel",
            "state": {
              "description_width": ""
            }
          },
          "870fa112300540cc82275fab7414e30a": {
            "model_module": "@jupyter-widgets/controls",
            "model_module_version": "2.0.0",
            "model_name": "HBoxModel",
            "state": {
              "children": [
                "IPY_MODEL_d7d9bb1fabb24ce9bd530dc63f6832b2",
                "IPY_MODEL_d9c5bc6787594a5ab382edbd7c1f20e7"
              ],
              "layout": "IPY_MODEL_01cebf43626c4299a5684fffeff84210"
            }
          },
          "89acfe0bc62e465c8c2253f3c2250107": {
            "model_module": "@jupyter-widgets/controls",
            "model_module_version": "2.0.0",
            "model_name": "VBoxModel",
            "state": {
              "children": [
                "IPY_MODEL_50446d4814d04b1cba7138e5dbaa62ad",
                "IPY_MODEL_b78144afb13a4d8fa7b05b799191c8c4",
                "IPY_MODEL_fa4fdf0ae06a4284874aaf7a4a2fd86c",
                "IPY_MODEL_e609952b9f054619a295ffbcc84efa5c"
              ],
              "layout": "IPY_MODEL_037bf7055c8041c59f9bb7a5f4ee1d15"
            }
          },
          "8a49bf2f247b45fc8c20a0fa40db1508": {
            "model_module": "@jupyter-widgets/base",
            "model_module_version": "2.0.0",
            "model_name": "LayoutModel",
            "state": {}
          },
          "8bb4cb66449a467b9a3e0c1cdf3b2fe1": {
            "model_module": "@jupyter-widgets/base",
            "model_module_version": "2.0.0",
            "model_name": "LayoutModel",
            "state": {}
          },
          "8c7b7394ccb74c1f9d4d13426f87454d": {
            "model_module": "@jupyter-widgets/controls",
            "model_module_version": "2.0.0",
            "model_name": "FloatRangeSliderModel",
            "state": {
              "_model_name": "FloatRangeSliderModel",
              "_view_name": "FloatRangeSliderView",
              "behavior": "drag-tap",
              "continuous_update": false,
              "layout": "IPY_MODEL_d8c6549500ec407d9b568ee2fa787d6c",
              "max": 1.0676676481962204,
              "min": 0.9317620545625687,
              "readout": false,
              "step": 0.0013590559363365173,
              "style": "IPY_MODEL_609174e17c5744069f9c676eb64a2cbb",
              "value": [
                0.9827266521751881,
                1.0336912497878075
              ]
            }
          },
          "8d3eccc8d8464e43b7127587d3b0e98b": {
            "model_module": "@jupyter-widgets/controls",
            "model_module_version": "2.0.0",
            "model_name": "DropdownModel",
            "state": {
              "_options_labels": [
                "exit wave phase",
                "exit wave amplitude"
              ],
              "index": 1,
              "layout": "IPY_MODEL_93b210b5eb7f4839b2e738c14428bee4",
              "style": "IPY_MODEL_75ef89cb54204b4f87095f70c13e87ed"
            }
          },
          "8d48ad0428cd4af083a4a2a10aa97aad": {
            "model_module": "@jupyter-widgets/controls",
            "model_module_version": "2.0.0",
            "model_name": "FloatRangeSliderModel",
            "state": {
              "_model_name": "FloatRangeSliderModel",
              "_view_name": "FloatRangeSliderView",
              "behavior": "drag-tap",
              "continuous_update": false,
              "layout": "IPY_MODEL_3f74592d101f467e8360566498073a13",
              "max": 1.0676676481962204,
              "min": 0.9317620545625687,
              "readout": false,
              "step": 0.0013590559363365173,
              "style": "IPY_MODEL_466710928207448187ccd23e2cfdada4",
              "value": [
                0.9827266521751881,
                1.0336912497878075
              ]
            }
          },
          "8decf96d0a5d47588808575fbe809cf0": {
            "model_module": "jupyter-matplotlib",
            "model_module_version": "^0.11",
            "model_name": "ToolbarModel",
            "state": {
              "_model_module_version": "^0.11",
              "_view_module_version": "^0.11",
              "collapsed": true,
              "layout": "IPY_MODEL_e98be41e34d545fc8594575b30d05e42",
              "orientation": "vertical",
              "toolitems": [
                [
                  "Home",
                  "Reset original view",
                  "home",
                  "home"
                ],
                [
                  "Back",
                  "Back to previous view",
                  "arrow-left",
                  "back"
                ],
                [
                  "Forward",
                  "Forward to next view",
                  "arrow-right",
                  "forward"
                ],
                [
                  "Pan",
                  "Left button pans, Right button zooms\nx/y fixes axis, CTRL fixes aspect",
                  "arrows",
                  "pan"
                ],
                [
                  "Zoom",
                  "Zoom to rectangle\nx/y fixes axis",
                  "square-o",
                  "zoom"
                ],
                [
                  "Download",
                  "Download plot",
                  "floppy-o",
                  "save_figure"
                ]
              ]
            }
          },
          "8eb83bb78aa44ae780a53025cd3c3cef": {
            "model_module": "jupyter-matplotlib",
            "model_module_version": "^0.11",
            "model_name": "MPLCanvasModel",
            "state": {
              "_cursor": "default",
              "_data_url": "data:image/png;base64,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",
              "_figure_label": "Figure 1",
              "_model_module_version": "^0.11",
              "_size": [
                190,
                160
              ],
              "_view_module_version": "^0.11",
              "footer_visible": false,
              "header_visible": false,
              "layout": "IPY_MODEL_3a9f2f896cc54533ae7cde879875956f",
              "resizable": false,
              "toolbar": "IPY_MODEL_754bf502c42d4ac8ad6803e9127d7180",
              "toolbar_position": "left",
              "toolbar_visible": false
            }
          },
          "8ff3825feabf4d7fba35d58827fb4d82": {
            "model_module": "@jupyter-widgets/base",
            "model_module_version": "2.0.0",
            "model_name": "LayoutModel",
            "state": {
              "align_items": "center",
              "display": "flex",
              "flex_flow": "column",
              "width": "200px"
            }
          },
          "901bd48539e84cfdb966759007627470": {
            "model_module": "@jupyter-widgets/controls",
            "model_module_version": "2.0.0",
            "model_name": "DropdownModel",
            "state": {
              "_options_labels": [
                "gray",
                "viridis",
                "plasma",
                "inferno",
                "magma",
                "cividis",
                "turbo",
                "Purples_r",
                "Blues_r",
                "Greens_r",
                "Oranges_r",
                "Reds_r",
                "YlOrBr_r",
                "YlOrRd_r",
                "OrRd_r",
                "PuRd_r",
                "RdPu_r",
                "BuPu_r",
                "GnBu_r",
                "PuBu_r",
                "YlGnBu_r",
                "PuBuGn_r",
                "BuGn_r",
                "YlGn_r"
              ],
              "description": "Colormap",
              "index": 0,
              "layout": "IPY_MODEL_b9b7622cfc0d4f3faf3f793e7bd083b0",
              "style": "IPY_MODEL_0baa50dde3ba424eb1fcbca1f9eaa4ac"
            }
          },
          "90bf05fb35124f898b5a7c0001d1603f": {
            "model_module": "@jupyter-widgets/controls",
            "model_module_version": "2.0.0",
            "model_name": "CheckboxModel",
            "state": {
              "description": "Show scale bar",
              "disabled": false,
              "indent": false,
              "layout": "IPY_MODEL_4b1a4d615cd346c98e1b1748cc185320",
              "style": "IPY_MODEL_4af93daa52214bf499dfb5b1aed16a1d",
              "value": true
            }
          },
          "923cfcb6d2ba42e18eb2b1b2c7f86c9c": {
            "model_module": "@jupyter-widgets/base",
            "model_module_version": "2.0.0",
            "model_name": "LayoutModel",
            "state": {}
          },
          "9324ebf906354fdd9ce21eae776dcde5": {
            "model_module": "jupyter-matplotlib",
            "model_module_version": "^0.11",
            "model_name": "ToolbarModel",
            "state": {
              "_model_module_version": "^0.11",
              "_view_module_version": "^0.11",
              "collapsed": true,
              "layout": "IPY_MODEL_5e794c2e13b64d199b444d150d41b918",
              "orientation": "vertical",
              "position": "bottom",
              "toolitems": [
                [
                  "Home",
                  "Reset original view",
                  "home",
                  "home"
                ],
                [
                  "Back",
                  "Back to previous view",
                  "arrow-left",
                  "back"
                ],
                [
                  "Forward",
                  "Forward to next view",
                  "arrow-right",
                  "forward"
                ],
                [
                  "Pan",
                  "Left button pans, Right button zooms\nx/y fixes axis, CTRL fixes aspect",
                  "arrows",
                  "pan"
                ],
                [
                  "Zoom",
                  "Zoom to rectangle\nx/y fixes axis",
                  "square-o",
                  "zoom"
                ],
                [
                  "Download",
                  "Download plot",
                  "floppy-o",
                  "save_figure"
                ]
              ]
            }
          },
          "93b210b5eb7f4839b2e738c14428bee4": {
            "model_module": "@jupyter-widgets/base",
            "model_module_version": "2.0.0",
            "model_name": "LayoutModel",
            "state": {
              "width": "180px"
            }
          },
          "93b912e1aacb47d9ba0ba3e1b52a56c6": {
            "model_module": "@jupyter-widgets/controls",
            "model_module_version": "2.0.0",
            "model_name": "VBoxModel",
            "state": {
              "children": [
                "IPY_MODEL_2394e2b051f2480e992b4e1350008882",
                "IPY_MODEL_fd03201d8d924865b1f4be1cd29e56a9",
                "IPY_MODEL_317f5b12b3134f969ab89463490abdf0",
                "IPY_MODEL_90bf05fb35124f898b5a7c0001d1603f"
              ],
              "layout": "IPY_MODEL_24c9c1ad60df4992b8fcba90a98d0f8c"
            }
          },
          "95e5f14fb22a4c8f923f116deda61e62": {
            "model_module": "@jupyter-widgets/controls",
            "model_module_version": "2.0.0",
            "model_name": "HBoxModel",
            "state": {
              "children": [
                "IPY_MODEL_571a1444f79948e0b8f1bfaa5f4827e6",
                "IPY_MODEL_1886a8ebc18241c5befabfdad2607cba"
              ],
              "layout": "IPY_MODEL_5741da9e9787474da4264803c3cbea34"
            }
          },
          "9689f6415bec4b529563274543cb11c7": {
            "model_module": "jupyter-matplotlib",
            "model_module_version": "^0.11",
            "model_name": "ToolbarModel",
            "state": {
              "_model_module_version": "^0.11",
              "_view_module_version": "^0.11",
              "collapsed": true,
              "layout": "IPY_MODEL_0f5268498f484e55a719da6a1e332699",
              "orientation": "vertical",
              "position": "bottom",
              "toolitems": [
                [
                  "Home",
                  "Reset original view",
                  "home",
                  "home"
                ],
                [
                  "Back",
                  "Back to previous view",
                  "arrow-left",
                  "back"
                ],
                [
                  "Forward",
                  "Forward to next view",
                  "arrow-right",
                  "forward"
                ],
                [
                  "Pan",
                  "Left button pans, Right button zooms\nx/y fixes axis, CTRL fixes aspect",
                  "arrows",
                  "pan"
                ],
                [
                  "Zoom",
                  "Zoom to rectangle\nx/y fixes axis",
                  "square-o",
                  "zoom"
                ],
                [
                  "Download",
                  "Download plot",
                  "floppy-o",
                  "save_figure"
                ]
              ]
            }
          },
          "96c72bb3244a4374a644f1f47a884a4d": {
            "model_module": "@jupyter-widgets/controls",
            "model_module_version": "2.0.0",
            "model_name": "VBoxModel",
            "state": {
              "children": [
                "IPY_MODEL_d2db6432a7b04ec09760d64144e27545",
                "IPY_MODEL_7c7aa10e37814091b930e38dcd14ae57"
              ],
              "layout": "IPY_MODEL_2586469d00644297a334cca3d2ad02ad"
            }
          },
          "96fb6ad3c74c4145a029d28b14b6ac35": {
            "model_module": "@jupyter-widgets/controls",
            "model_module_version": "2.0.0",
            "model_name": "VBoxModel",
            "state": {
              "children": [
                "IPY_MODEL_c0e7ea364f9d44a49046df5f66d7c36a",
                "IPY_MODEL_b0b30f8d30104cfa949cf4127af00e6f"
              ],
              "layout": "IPY_MODEL_56c1492e1f6847beac4abfdf73029bd8"
            }
          },
          "970db26634d54e74aeb1fdcf3736b00a": {
            "model_module": "@jupyter-widgets/base",
            "model_module_version": "2.0.0",
            "model_name": "LayoutModel",
            "state": {}
          },
          "978e84f764714e708baccb84b919f969": {
            "model_module": "@jupyter-widgets/base",
            "model_module_version": "2.0.0",
            "model_name": "LayoutModel",
            "state": {
              "width": "190px"
            }
          },
          "97d0e8c589014ddba4b11fa8daf521f7": {
            "model_module": "@jupyter-widgets/base",
            "model_module_version": "2.0.0",
            "model_name": "LayoutModel",
            "state": {
              "width": "190px"
            }
          },
          "98b1440bb7104e9082dc4fe834ac20f4": {
            "model_module": "@jupyter-widgets/base",
            "model_module_version": "2.0.0",
            "model_name": "LayoutModel",
            "state": {}
          },
          "99848ea6cd3846cabaf1a708f166e0ac": {
            "model_module": "@jupyter-widgets/controls",
            "model_module_version": "2.0.0",
            "model_name": "SliderStyleModel",
            "state": {
              "description_width": ""
            }
          },
          "9a2f86c6431444ea9a0e8ce97e4f631d": {
            "model_module": "@jupyter-widgets/base",
            "model_module_version": "2.0.0",
            "model_name": "LayoutModel",
            "state": {
              "width": "190px"
            }
          },
          "9a4234940f7144d385cbfa3b2dde8b6b": {
            "model_module": "@jupyter-widgets/base",
            "model_module_version": "2.0.0",
            "model_name": "LayoutModel",
            "state": {}
          },
          "9a65f851d20e42a5b2a7eaa4909b5289": {
            "model_module": "@jupyter-widgets/controls",
            "model_module_version": "2.0.0",
            "model_name": "CheckboxStyleModel",
            "state": {
              "description_width": ""
            }
          },
          "9d7b4255a3344c5ca1855a6546588281": {
            "model_module": "@jupyter-widgets/controls",
            "model_module_version": "2.0.0",
            "model_name": "VBoxModel",
            "state": {
              "children": [
                "IPY_MODEL_96fb6ad3c74c4145a029d28b14b6ac35",
                "IPY_MODEL_e9e3d655b9364107900cd315eb72785d",
                "IPY_MODEL_a84857656beb492e92175c0e1262aab1",
                "IPY_MODEL_7471f1989292432c86c06420fa511885"
              ],
              "layout": "IPY_MODEL_56c1492e1f6847beac4abfdf73029bd8"
            }
          },
          "9dbb85897dbc46ca9d8532e67c2e9523": {
            "model_module": "jupyter-matplotlib",
            "model_module_version": "^0.11",
            "model_name": "ToolbarModel",
            "state": {
              "_model_module_version": "^0.11",
              "_view_module_version": "^0.11",
              "collapsed": true,
              "layout": "IPY_MODEL_a3accfa48fbe44eda2900de203b59b32",
              "orientation": "vertical",
              "toolitems": [
                [
                  "Home",
                  "Reset original view",
                  "home",
                  "home"
                ],
                [
                  "Back",
                  "Back to previous view",
                  "arrow-left",
                  "back"
                ],
                [
                  "Forward",
                  "Forward to next view",
                  "arrow-right",
                  "forward"
                ],
                [
                  "Pan",
                  "Left button pans, Right button zooms\nx/y fixes axis, CTRL fixes aspect",
                  "arrows",
                  "pan"
                ],
                [
                  "Zoom",
                  "Zoom to rectangle\nx/y fixes axis",
                  "square-o",
                  "zoom"
                ],
                [
                  "Download",
                  "Download plot",
                  "floppy-o",
                  "save_figure"
                ]
              ]
            }
          },
          "9e0e22f66ba44e11a66a88b8b2fef5e2": {
            "model_module": "@jupyter-widgets/controls",
            "model_module_version": "2.0.0",
            "model_name": "DropdownModel",
            "state": {
              "_options_labels": [
                "gray",
                "viridis",
                "plasma",
                "inferno",
                "magma",
                "cividis",
                "turbo",
                "Purples_r",
                "Blues_r",
                "Greens_r",
                "Oranges_r",
                "Reds_r",
                "YlOrBr_r",
                "YlOrRd_r",
                "OrRd_r",
                "PuRd_r",
                "RdPu_r",
                "BuPu_r",
                "GnBu_r",
                "PuBu_r",
                "YlGnBu_r",
                "PuBuGn_r",
                "BuGn_r",
                "YlGn_r"
              ],
              "description": "Colormap",
              "index": 0,
              "layout": "IPY_MODEL_71e157ad9933488fbd883e1e25b5a46a",
              "style": "IPY_MODEL_0a8b7a606f5147f98e56ec942d24e381"
            }
          },
          "9fb75e3561284c7cac22866d447ed91c": {
            "model_module": "@jupyter-widgets/base",
            "model_module_version": "2.0.0",
            "model_name": "LayoutModel",
            "state": {}
          },
          "a3accfa48fbe44eda2900de203b59b32": {
            "model_module": "@jupyter-widgets/base",
            "model_module_version": "2.0.0",
            "model_name": "LayoutModel",
            "state": {}
          },
          "a3ae82cd838e409baf2249ac03c43552": {
            "model_module": "@jupyter-widgets/base",
            "model_module_version": "2.0.0",
            "model_name": "LayoutModel",
            "state": {
              "width": "190px"
            }
          },
          "a43f8f98a4ad4ca998fb736a9e006fe8": {
            "model_module": "@jupyter-widgets/base",
            "model_module_version": "2.0.0",
            "model_name": "LayoutModel",
            "state": {}
          },
          "a50b31576eb14bb7b7f801c3d1d11680": {
            "model_module": "@jupyter-widgets/controls",
            "model_module_version": "2.0.0",
            "model_name": "CheckboxStyleModel",
            "state": {
              "description_width": ""
            }
          },
          "a6c0de33acba4f0ab629017fb53c1f11": {
            "model_module": "@jupyter-widgets/base",
            "model_module_version": "2.0.0",
            "model_name": "LayoutModel",
            "state": {
              "align_items": "center",
              "display": "flex",
              "flex_flow": "row",
              "width": "680px"
            }
          },
          "a7260e1522004a20859543204483f0ea": {
            "model_module": "@jupyter-widgets/controls",
            "model_module_version": "2.0.0",
            "model_name": "DropdownModel",
            "state": {
              "_options_labels": [
                "exit wave phase",
                "exit wave amplitude"
              ],
              "index": 0,
              "layout": "IPY_MODEL_2c3151a8bda7420a9a50198159b2d067",
              "style": "IPY_MODEL_82d724f0cf7d4574b564ed02f00af975"
            }
          },
          "a84857656beb492e92175c0e1262aab1": {
            "model_module": "@jupyter-widgets/controls",
            "model_module_version": "2.0.0",
            "model_name": "DropdownModel",
            "state": {
              "_options_labels": [
                "gray",
                "viridis",
                "plasma",
                "inferno",
                "magma",
                "cividis",
                "turbo",
                "Purples_r",
                "Blues_r",
                "Greens_r",
                "Oranges_r",
                "Reds_r",
                "YlOrBr_r",
                "YlOrRd_r",
                "OrRd_r",
                "PuRd_r",
                "RdPu_r",
                "BuPu_r",
                "GnBu_r",
                "PuBu_r",
                "YlGnBu_r",
                "PuBuGn_r",
                "BuGn_r",
                "YlGn_r"
              ],
              "description": "Colormap",
              "index": 0,
              "layout": "IPY_MODEL_b8ed0b0b297b461192ad54240a282c87",
              "style": "IPY_MODEL_12fb913b48e343cb8a37f75c70a03c03"
            }
          },
          "a94c269372954b2aa99937c378ba5751": {
            "model_module": "@jupyter-widgets/controls",
            "model_module_version": "2.0.0",
            "model_name": "HBoxModel",
            "state": {
              "children": [
                "IPY_MODEL_72331b7200ab4c91850a04d78cca98f5",
                "IPY_MODEL_b9b98e87f053469d804958ca7dc8b789"
              ],
              "layout": "IPY_MODEL_a6c0de33acba4f0ab629017fb53c1f11"
            }
          },
          "ab7708a8f34041fe817864e4e07db170": {
            "model_module": "@jupyter-widgets/controls",
            "model_module_version": "2.0.0",
            "model_name": "DescriptionStyleModel",
            "state": {
              "description_width": ""
            }
          },
          "aba0bf83d059490987577dc1301a9d19": {
            "model_module": "@jupyter-widgets/base",
            "model_module_version": "2.0.0",
            "model_name": "LayoutModel",
            "state": {}
          },
          "ac3507fb61714707b3b0527d099dcd96": {
            "model_module": "@jupyter-widgets/base",
            "model_module_version": "2.0.0",
            "model_name": "LayoutModel",
            "state": {
              "width": "480px"
            }
          },
          "adcb627caca948fda2c4c6f3035c4ac9": {
            "model_module": "@jupyter-widgets/controls",
            "model_module_version": "2.0.0",
            "model_name": "CheckboxModel",
            "state": {
              "description": "Show scale bar",
              "disabled": false,
              "indent": false,
              "layout": "IPY_MODEL_0fff881548044c2b9cea749d02facbb5",
              "style": "IPY_MODEL_145222388c2646b192c983c054bff97d",
              "value": true
            }
          },
          "aea482baf23c442c84a2e06748fac7a8": {
            "model_module": "@jupyter-widgets/controls",
            "model_module_version": "2.0.0",
            "model_name": "FloatRangeSliderModel",
            "state": {
              "_model_name": "FloatRangeSliderModel",
              "_view_name": "FloatRangeSliderView",
              "behavior": "drag-tap",
              "continuous_update": false,
              "layout": "IPY_MODEL_2b8fbe91f9124d9bb993fef3cec496e4",
              "max": 0.05898725247243419,
              "min": -0.05925031745573506,
              "readout": false,
              "step": 0.0011823756992816925,
              "style": "IPY_MODEL_4ecfe103c911499187ef437ad7d461da",
              "value": [
                -0.014320040883030745,
                0.05898725247243419
              ]
            }
          },
          "af90341ffcf149d2981bd2e645148f44": {
            "model_module": "@jupyter-widgets/base",
            "model_module_version": "2.0.0",
            "model_name": "LayoutModel",
            "state": {}
          },
          "b01df3123ee54b9f8b5a9e661e2180be": {
            "model_module": "@jupyter-widgets/controls",
            "model_module_version": "2.0.0",
            "model_name": "DropdownModel",
            "state": {
              "_options_labels": [
                "gray",
                "viridis",
                "plasma",
                "inferno",
                "magma",
                "cividis",
                "turbo",
                "Purples_r",
                "Blues_r",
                "Greens_r",
                "Oranges_r",
                "Reds_r",
                "YlOrBr_r",
                "YlOrRd_r",
                "OrRd_r",
                "PuRd_r",
                "RdPu_r",
                "BuPu_r",
                "GnBu_r",
                "PuBu_r",
                "YlGnBu_r",
                "PuBuGn_r",
                "BuGn_r",
                "YlGn_r"
              ],
              "description": "Colormap",
              "index": 0,
              "layout": "IPY_MODEL_3060c7e7d95546d0a46fa460f37b4ed8",
              "style": "IPY_MODEL_3c135e583afb492a8aec755d9d685dc5"
            }
          },
          "b0b30f8d30104cfa949cf4127af00e6f": {
            "model_module": "@jupyter-widgets/controls",
            "model_module_version": "2.0.0",
            "model_name": "FloatRangeSliderModel",
            "state": {
              "_model_name": "FloatRangeSliderModel",
              "_view_name": "FloatRangeSliderView",
              "behavior": "drag-tap",
              "continuous_update": false,
              "layout": "IPY_MODEL_2bbfa24e6e4748d98878883a259666b3",
              "max": -0.05511200250824913,
              "min": -0.05629437820753083,
              "readout": false,
              "step": 0.000011823756992817014,
              "style": "IPY_MODEL_60644c39954e430ca038397502b22bd9",
              "value": [
                -0.05511200250824913,
                -0.05511200250824913
              ]
            }
          },
          "b15b9a29be6b4688bd96581e2e32742d": {
            "model_module": "@jupyter-widgets/controls",
            "model_module_version": "2.0.0",
            "model_name": "DescriptionStyleModel",
            "state": {
              "description_width": ""
            }
          },
          "b2be788c64f448ebaef6d894bda56808": {
            "model_module": "@jupyter-widgets/controls",
            "model_module_version": "2.0.0",
            "model_name": "SliderStyleModel",
            "state": {
              "description_width": ""
            }
          },
          "b54633e355f54a549150a32259b20afd": {
            "model_module": "@jupyter-widgets/base",
            "model_module_version": "2.0.0",
            "model_name": "LayoutModel",
            "state": {
              "width": "480px"
            }
          },
          "b6a2a8595b364cfbbc720eda404bb2af": {
            "model_module": "@jupyter-widgets/base",
            "model_module_version": "2.0.0",
            "model_name": "LayoutModel",
            "state": {
              "width": "480px"
            }
          },
          "b78144afb13a4d8fa7b05b799191c8c4": {
            "model_module": "@jupyter-widgets/controls",
            "model_module_version": "2.0.0",
            "model_name": "DropdownModel",
            "state": {
              "_options_labels": [
                "exit wave phase",
                "exit wave amplitude"
              ],
              "index": 1,
              "layout": "IPY_MODEL_14f826ef279740b5b255fa59a547cf4a",
              "style": "IPY_MODEL_54bcdd9462d64a7d8d16676b20d15661"
            }
          },
          "b80601de99554e9c800832084d2cbace": {
            "model_module": "@jupyter-widgets/base",
            "model_module_version": "2.0.0",
            "model_name": "LayoutModel",
            "state": {
              "align_items": "center",
              "display": "flex",
              "flex_flow": "row",
              "width": "680px"
            }
          },
          "b8ed0b0b297b461192ad54240a282c87": {
            "model_module": "@jupyter-widgets/base",
            "model_module_version": "2.0.0",
            "model_name": "LayoutModel",
            "state": {
              "width": "180px"
            }
          },
          "b90547ad4d2f4fb582cbd2b53ad2b762": {
            "model_module": "@jupyter-widgets/base",
            "model_module_version": "2.0.0",
            "model_name": "LayoutModel",
            "state": {
              "align_items": "center",
              "display": "flex",
              "flex_flow": "column",
              "width": "200px"
            }
          },
          "b9267e48a9aa49d3b8f7febe5396dbea": {
            "model_module": "@jupyter-widgets/controls",
            "model_module_version": "2.0.0",
            "model_name": "DropdownModel",
            "state": {
              "_options_labels": [
                "exit wave phase",
                "exit wave amplitude"
              ],
              "index": 0,
              "layout": "IPY_MODEL_46637d9da8104fd19c4df07dfd9fb4b4",
              "style": "IPY_MODEL_b15b9a29be6b4688bd96581e2e32742d"
            }
          },
          "b9b7622cfc0d4f3faf3f793e7bd083b0": {
            "model_module": "@jupyter-widgets/base",
            "model_module_version": "2.0.0",
            "model_name": "LayoutModel",
            "state": {
              "width": "180px"
            }
          },
          "b9b98e87f053469d804958ca7dc8b789": {
            "model_module": "@jupyter-widgets/controls",
            "model_module_version": "2.0.0",
            "model_name": "VBoxModel",
            "state": {
              "children": [
                "IPY_MODEL_2b9ed5d2a185410d80aa184f2bab3d35",
                "IPY_MODEL_5b930175dd68400096e1462e49e2cabb",
                "IPY_MODEL_c152ddf4c4104d6c985932b317b48cf0",
                "IPY_MODEL_adcb627caca948fda2c4c6f3035c4ac9"
              ],
              "layout": "IPY_MODEL_5e4ef36d33c14c60a02d03401666185f"
            }
          },
          "ba2c12b7fd7445adb066443028157174": {
            "model_module": "@jupyter-widgets/base",
            "model_module_version": "2.0.0",
            "model_name": "LayoutModel",
            "state": {}
          },
          "bad86ec2d3154467840b4ec426782a45": {
            "model_module": "@jupyter-widgets/base",
            "model_module_version": "2.0.0",
            "model_name": "LayoutModel",
            "state": {
              "width": "180px"
            }
          },
          "baf6fcd9620f443985736678c1d079e1": {
            "model_module": "@jupyter-widgets/base",
            "model_module_version": "2.0.0",
            "model_name": "LayoutModel",
            "state": {}
          },
          "bb034b562d7d474ca75e6453d3868acd": {
            "model_module": "@jupyter-widgets/base",
            "model_module_version": "2.0.0",
            "model_name": "LayoutModel",
            "state": {}
          },
          "bb957fabd6cd45f897a8005c14ff65ec": {
            "model_module": "jupyter-matplotlib",
            "model_module_version": "^0.11",
            "model_name": "MPLCanvasModel",
            "state": {
              "_cursor": "default",
              "_data_url": "data:image/png;base64,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",
              "_figure_label": "Figure 2",
              "_model_module_version": "^0.11",
              "_size": [
                480,
                460
              ],
              "_view_module_version": "^0.11",
              "footer_visible": false,
              "header_visible": false,
              "layout": "IPY_MODEL_82520289a7924db8910655c612ac5616",
              "resizable": false,
              "toolbar": "IPY_MODEL_6a69a8e0a293495ea7e7477ee45282f1",
              "toolbar_position": "bottom",
              "toolbar_visible": true
            }
          },
          "bbc9ae58654a4fe8abd595fcbbc07852": {
            "model_module": "@jupyter-widgets/controls",
            "model_module_version": "2.0.0",
            "model_name": "VBoxModel",
            "state": {
              "children": [
                "IPY_MODEL_f5ac36a1f57648d493923ad81e44419f",
                "IPY_MODEL_4ad037a51abc4b6da5a5706779333d05"
              ],
              "layout": "IPY_MODEL_203898791be44db1aa9741d435313849"
            }
          },
          "bc97f92d821d47988cc3104645b6e631": {
            "model_module": "@jupyter-widgets/controls",
            "model_module_version": "2.0.0",
            "model_name": "DescriptionStyleModel",
            "state": {
              "description_width": ""
            }
          },
          "c152ddf4c4104d6c985932b317b48cf0": {
            "model_module": "@jupyter-widgets/controls",
            "model_module_version": "2.0.0",
            "model_name": "DropdownModel",
            "state": {
              "_options_labels": [
                "gray",
                "viridis",
                "plasma",
                "inferno",
                "magma",
                "cividis",
                "turbo",
                "Purples_r",
                "Blues_r",
                "Greens_r",
                "Oranges_r",
                "Reds_r",
                "YlOrBr_r",
                "YlOrRd_r",
                "OrRd_r",
                "PuRd_r",
                "RdPu_r",
                "BuPu_r",
                "GnBu_r",
                "PuBu_r",
                "YlGnBu_r",
                "PuBuGn_r",
                "BuGn_r",
                "YlGn_r"
              ],
              "description": "Colormap",
              "index": 0,
              "layout": "IPY_MODEL_53bec514ed5240a9ba309427340dad55",
              "style": "IPY_MODEL_de6f2f77fd5b49cc96d9e5af358b90b2"
            }
          },
          "c18d32d5e19e4863a291b668e2e2b3a2": {
            "model_module": "@jupyter-widgets/controls",
            "model_module_version": "2.0.0",
            "model_name": "DescriptionStyleModel",
            "state": {
              "description_width": ""
            }
          },
          "c1bb54e8d8de498f8806b1e728f1d118": {
            "model_module": "@jupyter-widgets/controls",
            "model_module_version": "2.0.0",
            "model_name": "SliderStyleModel",
            "state": {
              "description_width": ""
            }
          },
          "c50d346092ec4110848e379a0643ecb9": {
            "model_module": "jupyter-matplotlib",
            "model_module_version": "^0.11",
            "model_name": "ToolbarModel",
            "state": {
              "_model_module_version": "^0.11",
              "_view_module_version": "^0.11",
              "collapsed": true,
              "layout": "IPY_MODEL_e60206110ff04fc2889fec36701b2f53",
              "orientation": "vertical",
              "toolitems": [
                [
                  "Home",
                  "Reset original view",
                  "home",
                  "home"
                ],
                [
                  "Back",
                  "Back to previous view",
                  "arrow-left",
                  "back"
                ],
                [
                  "Forward",
                  "Forward to next view",
                  "arrow-right",
                  "forward"
                ],
                [
                  "Pan",
                  "Left button pans, Right button zooms\nx/y fixes axis, CTRL fixes aspect",
                  "arrows",
                  "pan"
                ],
                [
                  "Zoom",
                  "Zoom to rectangle\nx/y fixes axis",
                  "square-o",
                  "zoom"
                ],
                [
                  "Download",
                  "Download plot",
                  "floppy-o",
                  "save_figure"
                ]
              ]
            }
          },
          "c7803d0f9d534f86a155fdaedbe644bb": {
            "model_module": "jupyter-matplotlib",
            "model_module_version": "^0.11",
            "model_name": "ToolbarModel",
            "state": {
              "_model_module_version": "^0.11",
              "_view_module_version": "^0.11",
              "collapsed": true,
              "layout": "IPY_MODEL_099b37b7719b4c0581c7b7b0d51b0401",
              "orientation": "vertical",
              "position": "bottom",
              "toolitems": [
                [
                  "Home",
                  "Reset original view",
                  "home",
                  "home"
                ],
                [
                  "Back",
                  "Back to previous view",
                  "arrow-left",
                  "back"
                ],
                [
                  "Forward",
                  "Forward to next view",
                  "arrow-right",
                  "forward"
                ],
                [
                  "Pan",
                  "Left button pans, Right button zooms\nx/y fixes axis, CTRL fixes aspect",
                  "arrows",
                  "pan"
                ],
                [
                  "Zoom",
                  "Zoom to rectangle\nx/y fixes axis",
                  "square-o",
                  "zoom"
                ],
                [
                  "Download",
                  "Download plot",
                  "floppy-o",
                  "save_figure"
                ]
              ]
            }
          },
          "c7eb72664088473fa8a798ab0f666eb9": {
            "model_module": "@jupyter-widgets/base",
            "model_module_version": "2.0.0",
            "model_name": "LayoutModel",
            "state": {
              "width": "180px"
            }
          },
          "c968e635e1d44f609bdebc2bde60c584": {
            "model_module": "@jupyter-widgets/base",
            "model_module_version": "2.0.0",
            "model_name": "LayoutModel",
            "state": {
              "width": "180px"
            }
          },
          "ca097b964cd247009df124d67ae8a0e3": {
            "model_module": "@jupyter-widgets/controls",
            "model_module_version": "2.0.0",
            "model_name": "VBoxModel",
            "state": {
              "children": [
                "IPY_MODEL_13bb13516ab04b65bff32b058a2bb963",
                "IPY_MODEL_a7260e1522004a20859543204483f0ea",
                "IPY_MODEL_9e0e22f66ba44e11a66a88b8b2fef5e2",
                "IPY_MODEL_ff877e1c22eb4ca083dd29d371b6ffea"
              ],
              "layout": "IPY_MODEL_8ff3825feabf4d7fba35d58827fb4d82"
            }
          },
          "cf10c4c382334d54b0b04998425fe62a": {
            "model_module": "@jupyter-widgets/controls",
            "model_module_version": "2.0.0",
            "model_name": "VBoxModel",
            "state": {
              "children": [
                "IPY_MODEL_96c72bb3244a4374a644f1f47a884a4d",
                "IPY_MODEL_2987202973cc4bb2b4c85c288ff1341e",
                "IPY_MODEL_901bd48539e84cfdb966759007627470",
                "IPY_MODEL_d301ae5e0df94a3990b6177d658fa235"
              ],
              "layout": "IPY_MODEL_2586469d00644297a334cca3d2ad02ad"
            }
          },
          "d058d3642bee46849a1c4ea2252afb22": {
            "model_module": "@jupyter-widgets/controls",
            "model_module_version": "2.0.0",
            "model_name": "DescriptionStyleModel",
            "state": {
              "description_width": ""
            }
          },
          "d09685a8f93d4ec7a554eab9f89f76b3": {
            "model_module": "@jupyter-widgets/controls",
            "model_module_version": "2.0.0",
            "model_name": "SliderStyleModel",
            "state": {
              "description_width": ""
            }
          },
          "d1507d7baa444c5394bcaca6932bc081": {
            "model_module": "@jupyter-widgets/controls",
            "model_module_version": "2.0.0",
            "model_name": "CheckboxStyleModel",
            "state": {
              "description_width": ""
            }
          },
          "d217f61ac1114e68904929748e976653": {
            "model_module": "@jupyter-widgets/base",
            "model_module_version": "2.0.0",
            "model_name": "LayoutModel",
            "state": {}
          },
          "d301ae5e0df94a3990b6177d658fa235": {
            "model_module": "@jupyter-widgets/controls",
            "model_module_version": "2.0.0",
            "model_name": "CheckboxModel",
            "state": {
              "description": "Show scale bar",
              "disabled": false,
              "indent": false,
              "layout": "IPY_MODEL_3df13fdce73d4b309721c7e17d2e5375",
              "style": "IPY_MODEL_83d234e1819843ccbc0e692500b66a5a",
              "value": true
            }
          },
          "d3c47ca2f89f41f29d3d829f420b3fec": {
            "model_module": "@jupyter-widgets/base",
            "model_module_version": "2.0.0",
            "model_name": "LayoutModel",
            "state": {
              "width": "480px"
            }
          },
          "d4532fe735b04ad8bc508af2ac04f143": {
            "model_module": "@jupyter-widgets/controls",
            "model_module_version": "2.0.0",
            "model_name": "CheckboxStyleModel",
            "state": {
              "description_width": ""
            }
          },
          "d694c88f5c8340cebeca73a6ab976f6a": {
            "model_module": "@jupyter-widgets/base",
            "model_module_version": "2.0.0",
            "model_name": "LayoutModel",
            "state": {
              "width": "190px"
            }
          },
          "d8c6549500ec407d9b568ee2fa787d6c": {
            "model_module": "@jupyter-widgets/base",
            "model_module_version": "2.0.0",
            "model_name": "LayoutModel",
            "state": {
              "width": "190px"
            }
          },
          "d9c5bc6787594a5ab382edbd7c1f20e7": {
            "model_module": "@jupyter-widgets/controls",
            "model_module_version": "2.0.0",
            "model_name": "VBoxModel",
            "state": {
              "children": [
                "IPY_MODEL_777c4a38bcde4afd8248b83766852a22",
                "IPY_MODEL_64cffaf80cbf4073b50484cb4a06ca9a",
                "IPY_MODEL_08980103dab54b7080422b128e982908",
                "IPY_MODEL_755676c4dbac4756a42e17b20ccc5c14"
              ],
              "layout": "IPY_MODEL_27f8b4012fa54d30b2c3dfae335ddfaa"
            }
          },
          "da45e742a3bf4d3e9e94c3c215fe49b4": {
            "model_module": "@jupyter-widgets/base",
            "model_module_version": "2.0.0",
            "model_name": "LayoutModel",
            "state": {
              "width": "180px"
            }
          },
          "dbd14abffde044188e2918aa5def7304": {
            "model_module": "@jupyter-widgets/base",
            "model_module_version": "2.0.0",
            "model_name": "LayoutModel",
            "state": {
              "width": "180px"
            }
          },
          "dc7b5c9d33aa467ba2c64c5578fbf0c7": {
            "model_module": "@jupyter-widgets/controls",
            "model_module_version": "2.0.0",
            "model_name": "VBoxModel",
            "state": {
              "children": [
                "IPY_MODEL_1d44fdb573da4e91b0bb29a080151a41",
                "IPY_MODEL_1b116b28321f492d87f0bc2c89aed194",
                "IPY_MODEL_b01df3123ee54b9f8b5a9e661e2180be",
                "IPY_MODEL_6897163421cc4ed4a7852623a4e5c664"
              ],
              "layout": "IPY_MODEL_b90547ad4d2f4fb582cbd2b53ad2b762"
            }
          },
          "dd9500e007e243aa8c25823226ccddc7": {
            "model_module": "@jupyter-widgets/base",
            "model_module_version": "2.0.0",
            "model_name": "LayoutModel",
            "state": {
              "width": "180px"
            }
          },
          "de6f2f77fd5b49cc96d9e5af358b90b2": {
            "model_module": "@jupyter-widgets/controls",
            "model_module_version": "2.0.0",
            "model_name": "DescriptionStyleModel",
            "state": {
              "description_width": ""
            }
          },
          "de877a137fd047cf8de95687177f961b": {
            "model_module": "@jupyter-widgets/base",
            "model_module_version": "2.0.0",
            "model_name": "LayoutModel",
            "state": {}
          },
          "def5227c93444c52b839f0b281145d48": {
            "model_module": "@jupyter-widgets/controls",
            "model_module_version": "2.0.0",
            "model_name": "CheckboxModel",
            "state": {
              "description": "Show scale bar",
              "disabled": false,
              "indent": false,
              "layout": "IPY_MODEL_c968e635e1d44f609bdebc2bde60c584",
              "style": "IPY_MODEL_63365b5d171341549a2a95d798dabe2e",
              "value": true
            }
          },
          "df6c2d88d82f46bb82eb3808e6e80afd": {
            "model_module": "@jupyter-widgets/controls",
            "model_module_version": "2.0.0",
            "model_name": "HBoxModel",
            "state": {
              "children": [
                "IPY_MODEL_95938f011afa4edc965cbadf77ca4029",
                "IPY_MODEL_0a198f00efaa49ccb03599a28609a18e"
              ],
              "layout": "IPY_MODEL_430ccd9efd5843579f7bc4600f376665"
            }
          },
          "dff9266f3bd9412caf979670187851f3": {
            "model_module": "@jupyter-widgets/controls",
            "model_module_version": "2.0.0",
            "model_name": "DropdownModel",
            "state": {
              "_options_labels": [
                "gray",
                "viridis",
                "plasma",
                "inferno",
                "magma",
                "cividis",
                "turbo",
                "Purples_r",
                "Blues_r",
                "Greens_r",
                "Oranges_r",
                "Reds_r",
                "YlOrBr_r",
                "YlOrRd_r",
                "OrRd_r",
                "PuRd_r",
                "RdPu_r",
                "BuPu_r",
                "GnBu_r",
                "PuBu_r",
                "YlGnBu_r",
                "PuBuGn_r",
                "BuGn_r",
                "YlGn_r"
              ],
              "description": "Colormap",
              "index": 0,
              "layout": "IPY_MODEL_fd3f11949b7f45e59199a0659b566101",
              "style": "IPY_MODEL_d058d3642bee46849a1c4ea2252afb22"
            }
          },
          "e1d3e3c08ad2402c92ed30e8cc1a2ad0": {
            "model_module": "@jupyter-widgets/controls",
            "model_module_version": "2.0.0",
            "model_name": "VBoxModel",
            "state": {
              "children": [
                "IPY_MODEL_400f4b2e049742f78722bb36f3385ef2",
                "IPY_MODEL_0c8dc8894cab45229c3f6498357338cf"
              ],
              "layout": "IPY_MODEL_6ee3a3abe55d401ab8fcad4dc3e4d30e"
            }
          },
          "e2aff33b3a8946258969203733b42560": {
            "model_module": "@jupyter-widgets/base",
            "model_module_version": "2.0.0",
            "model_name": "LayoutModel",
            "state": {
              "width": "190px"
            }
          },
          "e60206110ff04fc2889fec36701b2f53": {
            "model_module": "@jupyter-widgets/base",
            "model_module_version": "2.0.0",
            "model_name": "LayoutModel",
            "state": {}
          },
          "e609952b9f054619a295ffbcc84efa5c": {
            "model_module": "@jupyter-widgets/controls",
            "model_module_version": "2.0.0",
            "model_name": "CheckboxModel",
            "state": {
              "description": "Show scale bar",
              "disabled": false,
              "indent": false,
              "layout": "IPY_MODEL_bad86ec2d3154467840b4ec426782a45",
              "style": "IPY_MODEL_d1507d7baa444c5394bcaca6932bc081",
              "value": true
            }
          },
          "e6fc8286b53e467a9b707f61f6929f60": {
            "model_module": "@jupyter-widgets/base",
            "model_module_version": "2.0.0",
            "model_name": "LayoutModel",
            "state": {
              "width": "180px"
            }
          },
          "e98be41e34d545fc8594575b30d05e42": {
            "model_module": "@jupyter-widgets/base",
            "model_module_version": "2.0.0",
            "model_name": "LayoutModel",
            "state": {}
          },
          "e9bbbd839b7c42ce9242b26033db576f": {
            "model_module": "@jupyter-widgets/controls",
            "model_module_version": "2.0.0",
            "model_name": "HBoxModel",
            "state": {
              "children": [
                "IPY_MODEL_bb957fabd6cd45f897a8005c14ff65ec",
                "IPY_MODEL_dc7b5c9d33aa467ba2c64c5578fbf0c7"
              ],
              "layout": "IPY_MODEL_3ebbcd25a4b2455d942c204a9eb195b2"
            }
          },
          "e9e3d655b9364107900cd315eb72785d": {
            "model_module": "@jupyter-widgets/controls",
            "model_module_version": "2.0.0",
            "model_name": "DropdownModel",
            "state": {
              "_options_labels": [
                "exit wave phase",
                "exit wave amplitude"
              ],
              "index": 0,
              "layout": "IPY_MODEL_f1e3433392a94072af0602a14612aca0",
              "style": "IPY_MODEL_865d14593e1449009a1896a5344ee292"
            }
          },
          "eadb111568304fc6b3b421948ad592c9": {
            "model_module": "jupyter-matplotlib",
            "model_module_version": "^0.11",
            "model_name": "ToolbarModel",
            "state": {
              "_model_module_version": "^0.11",
              "_view_module_version": "^0.11",
              "collapsed": true,
              "layout": "IPY_MODEL_9a4234940f7144d385cbfa3b2dde8b6b",
              "orientation": "vertical",
              "toolitems": [
                [
                  "Home",
                  "Reset original view",
                  "home",
                  "home"
                ],
                [
                  "Back",
                  "Back to previous view",
                  "arrow-left",
                  "back"
                ],
                [
                  "Forward",
                  "Forward to next view",
                  "arrow-right",
                  "forward"
                ],
                [
                  "Pan",
                  "Left button pans, Right button zooms\nx/y fixes axis, CTRL fixes aspect",
                  "arrows",
                  "pan"
                ],
                [
                  "Zoom",
                  "Zoom to rectangle\nx/y fixes axis",
                  "square-o",
                  "zoom"
                ],
                [
                  "Download",
                  "Download plot",
                  "floppy-o",
                  "save_figure"
                ]
              ]
            }
          },
          "eb05ebdbeee04a21874e25fa9e5d6b36": {
            "model_module": "@jupyter-widgets/controls",
            "model_module_version": "2.0.0",
            "model_name": "SliderStyleModel",
            "state": {
              "description_width": ""
            }
          },
          "eed3182996c5482b8009780aa865f1ce": {
            "model_module": "@jupyter-widgets/base",
            "model_module_version": "2.0.0",
            "model_name": "LayoutModel",
            "state": {
              "width": "180px"
            }
          },
          "f1e3433392a94072af0602a14612aca0": {
            "model_module": "@jupyter-widgets/base",
            "model_module_version": "2.0.0",
            "model_name": "LayoutModel",
            "state": {
              "width": "180px"
            }
          },
          "f1f4a2f03f9f43e589ac44604bfd6c27": {
            "model_module": "@jupyter-widgets/controls",
            "model_module_version": "2.0.0",
            "model_name": "DropdownModel",
            "state": {
              "_options_labels": [
                "gray",
                "viridis",
                "plasma",
                "inferno",
                "magma",
                "cividis",
                "turbo",
                "Purples_r",
                "Blues_r",
                "Greens_r",
                "Oranges_r",
                "Reds_r",
                "YlOrBr_r",
                "YlOrRd_r",
                "OrRd_r",
                "PuRd_r",
                "RdPu_r",
                "BuPu_r",
                "GnBu_r",
                "PuBu_r",
                "YlGnBu_r",
                "PuBuGn_r",
                "BuGn_r",
                "YlGn_r"
              ],
              "description": "Colormap",
              "index": 0,
              "layout": "IPY_MODEL_392b21dec8f648d7999f648d4814b862",
              "style": "IPY_MODEL_c18d32d5e19e4863a291b668e2e2b3a2"
            }
          },
          "f2463d6e74ba47a0b4cece03c5d9b9ae": {
            "model_module": "@jupyter-widgets/base",
            "model_module_version": "2.0.0",
            "model_name": "LayoutModel",
            "state": {
              "width": "480px"
            }
          },
          "f41bdfb09a704f2a95f01bd61748480b": {
            "model_module": "@jupyter-widgets/controls",
            "model_module_version": "2.0.0",
            "model_name": "DescriptionStyleModel",
            "state": {
              "description_width": ""
            }
          },
          "f551f1c3ce294d6b9b0d1cd5704819d3": {
            "model_module": "@jupyter-widgets/controls",
            "model_module_version": "2.0.0",
            "model_name": "CheckboxStyleModel",
            "state": {
              "description_width": ""
            }
          },
          "f5da2e831ba6499e9d9d87291b23c773": {
            "model_module": "@jupyter-widgets/base",
            "model_module_version": "2.0.0",
            "model_name": "LayoutModel",
            "state": {
              "width": "480px"
            }
          },
          "fa4fdf0ae06a4284874aaf7a4a2fd86c": {
            "model_module": "@jupyter-widgets/controls",
            "model_module_version": "2.0.0",
            "model_name": "DropdownModel",
            "state": {
              "_options_labels": [
                "gray",
                "viridis",
                "plasma",
                "inferno",
                "magma",
                "cividis",
                "turbo",
                "Purples_r",
                "Blues_r",
                "Greens_r",
                "Oranges_r",
                "Reds_r",
                "YlOrBr_r",
                "YlOrRd_r",
                "OrRd_r",
                "PuRd_r",
                "RdPu_r",
                "BuPu_r",
                "GnBu_r",
                "PuBu_r",
                "YlGnBu_r",
                "PuBuGn_r",
                "BuGn_r",
                "YlGn_r"
              ],
              "description": "Colormap",
              "index": 0,
              "layout": "IPY_MODEL_57d632e07e64418ab83884bbad84f48f",
              "style": "IPY_MODEL_bc97f92d821d47988cc3104645b6e631"
            }
          },
          "fcc424bf0d214e05af23e9970d82774c": {
            "model_module": "@jupyter-widgets/base",
            "model_module_version": "2.0.0",
            "model_name": "LayoutModel",
            "state": {}
          },
          "fd03201d8d924865b1f4be1cd29e56a9": {
            "model_module": "@jupyter-widgets/controls",
            "model_module_version": "2.0.0",
            "model_name": "DropdownModel",
            "state": {
              "_options_labels": [
                "exit wave phase",
                "exit wave amplitude"
              ],
              "index": 0,
              "layout": "IPY_MODEL_dbd14abffde044188e2918aa5def7304",
              "style": "IPY_MODEL_f41bdfb09a704f2a95f01bd61748480b"
            }
          },
          "fd3f11949b7f45e59199a0659b566101": {
            "model_module": "@jupyter-widgets/base",
            "model_module_version": "2.0.0",
            "model_name": "LayoutModel",
            "state": {
              "width": "180px"
            }
          },
          "ff877e1c22eb4ca083dd29d371b6ffea": {
            "model_module": "@jupyter-widgets/controls",
            "model_module_version": "2.0.0",
            "model_name": "CheckboxModel",
            "state": {
              "description": "Show scale bar",
              "disabled": false,
              "indent": false,
              "layout": "IPY_MODEL_da45e742a3bf4d3e9e94c3c215fe49b4",
              "style": "IPY_MODEL_5f824979d37b4b87baf42591cb272d6c",
              "value": true
            }
          }
        },
        "version_major": 2,
        "version_minor": 0
      }
    }
  },
  "nbformat": 4,
  "nbformat_minor": 5
}
