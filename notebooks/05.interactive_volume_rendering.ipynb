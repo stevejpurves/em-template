{
  "cells": [
    {
      "cell_type": "markdown",
      "id": "d97f0827-4f27-4a62-af55-ead17042e96e",
      "metadata": {},
      "source": [
        "---\n",
        "title: Interactive Volume Rendering\n",
        "authors: [Georgios Varnavides, Colin Ophus]\n",
        "date: 2023/08/01\n",
        "---\n",
        "\n",
        "This is an example widget for rendering volumes interactively."
      ]
    },
    {
      "cell_type": "code",
      "execution_count": 2,
      "id": "a5efbae7-76ee-4161-8952-83800d4e4f87",
      "metadata": {},
      "outputs": [
        {
          "data": {
            "application/vnd.jupyter.widget-view+json": {
              "model_id": "7e33734699834a19999620d02ab5e637",
              "version_major": 2,
              "version_minor": 0
            },
            "text/plain": [
              "HBox(children=(Widget(value=\"<iframe src='http://localhost:42695/index.html?ui=P_0x7f64b4decb50_1&reconnect=au…"
            ]
          },
          "metadata": {},
          "output_type": "display_data"
        }
      ],
      "source": [
        "#| label: app:interactive_volume_rendering\n",
        "# Widget combining pyvista + ipywidgets for volume rendering.\n",
        "\n",
        "from IPython.display import display\n",
        "import matplotlib.pyplot as plt\n",
        "import pyvista as pv\n",
        "import vtk\n",
        "from ipywidgets import Checkbox, IntSlider, Layout, HBox, VBox, Label, Dropdown, FloatSlider\n",
        "import numpy as np\n",
        "from scipy.ndimage import maximum_filter\n",
        "import h5py\n",
        "\n",
        "cmap_default = 'magma'\n",
        "cmap = pv.LookupTable(cmap_default)\n",
        "\n",
        "# Data\n",
        "with h5py.File(\"notebooks/data/CNT_overlap_tomo_missing.h5\",\"r\") as f:\n",
        "    values = f['reconstruction'][:]\n",
        "nx, ny, nz = values.shape\n",
        "\n",
        "# atomic coordinates\n",
        "p = np.logical_and(maximum_filter(\n",
        "    values,\n",
        "    size = 3,\n",
        ") == values, values > 3e-3)\n",
        "xyz = np.argwhere(p)\n",
        "sig = values[xyz[:,0],xyz[:,1],xyz[:,2]]\n",
        "xyz = xyz.astype('float')\n",
        "\n",
        "grid = pv.ImageData(\n",
        "    dimensions=[nx+1,ny+1,nz+1],\n",
        "    origin=(0,0,0),\n",
        "    spacing=(1,1,1),\n",
        ")\n",
        "grid.cell_data[\"values\"] = values.flatten(order=\"F\")\n",
        "\n",
        "pl = pv.Plotter()\n",
        "\n",
        "vol = pl.add_volume(\n",
        "    grid,\n",
        "    name='volume',\n",
        "    opacity=\"sigmoid\",\n",
        "    cmap=cmap_default,\n",
        "    show_scalar_bar=False,\n",
        ")\n",
        "\n",
        "atoms = pl.add_points(\n",
        "    xyz, \n",
        "    render_points_as_spheres=True,\n",
        "    color=cmap(cmap.n_values*85//100)[:-1],\n",
        "    ambient=0.125,\n",
        "    point_size = 10.0,\n",
        ")\n",
        "atoms.SetVisibility(False)\n",
        "\n",
        "grid_slice_x = grid.slice(\n",
        "    normal='x',\n",
        "    origin=(nx//2,ny//2,nz//2),\n",
        ")\n",
        "\n",
        "grid_slice_y = grid.slice(\n",
        "    normal='y',\n",
        "    origin=(nx//2,ny//2,nz//2),\n",
        ")\n",
        "\n",
        "grid_slice_z = grid.slice(\n",
        "    normal='z',\n",
        "    origin=(nx//2,ny//2,nz//2),\n",
        ")\n",
        "\n",
        "volume_clip_plane = pl.add_volume_clip_plane(\n",
        "    vol,\n",
        "    normal='x',\n",
        "    origin=(0,ny//2,nz//2),\n",
        ")\n",
        "volume_clip_plane.Off()\n",
        "\n",
        "slice_x = pl.add_mesh(\n",
        "    grid_slice_x,\n",
        "    show_scalar_bar=False,\n",
        "    cmap=cmap_default,\n",
        "    opacity=0.875,\n",
        "    name=\"slice-x\",\n",
        "    render=False,\n",
        ")\n",
        "\n",
        "slice_y = pl.add_mesh(\n",
        "    grid_slice_y,\n",
        "    show_scalar_bar=False,\n",
        "    cmap=cmap_default,\n",
        "    opacity=0.875,\n",
        "    name=\"slice-y\",\n",
        "    render=False,\n",
        ")\n",
        "\n",
        "slice_z = pl.add_mesh(\n",
        "    grid_slice_z,\n",
        "    show_scalar_bar=False,\n",
        "    cmap=cmap_default,\n",
        "    opacity=0.875,\n",
        "    name=\"slice-z\",\n",
        "    render=False,\n",
        ")\n",
        "\n",
        "slices = [slice_x,slice_y,slice_z]\n",
        "\n",
        "for slice in slices:\n",
        "    slice.SetVisibility(False)\n",
        "\n",
        "pl.camera.zoom(0.875)\n",
        "\n",
        "viewer = pl.show(\n",
        "    return_viewer = True,\n",
        "    interactive_update=True,\n",
        "    window_size=(440,440),\n",
        "    jupyter_kwargs={'collapse_menu':True},\n",
        ")\n",
        "\n",
        "# Widgets \n",
        "sequential_cmaps = [\n",
        "    'gray','viridis', 'plasma', 'inferno', 'magma', 'cividis','turbo',\n",
        "    'Purples_r', 'Blues_r', 'Greens_r', 'Oranges_r', 'Reds_r',\n",
        "    'YlOrBr_r', 'YlOrRd_r', 'OrRd_r', 'PuRd_r', 'RdPu_r', 'BuPu_r',\n",
        "    'GnBu_r', 'PuBu_r', 'YlGnBu_r', 'PuBuGn_r', 'BuGn_r', 'YlGn_r'\n",
        "]\n",
        "\n",
        "def update_colormap(change):\n",
        "    cmap_string = change['new']\n",
        "    cmap = pv.LookupTable(cmap_string)\n",
        "    cf = vtk.vtkColorTransferFunction()\n",
        "    \n",
        "    for ii in range(cmap.n_values):\n",
        "        cf.AddRGBPoint(ii, *cmap(ii/(cmap.n_values-1))[:-1])\n",
        "    \n",
        "    vol.prop.SetColor(0,cf)\n",
        "    atoms.prop.SetColor(cmap(cmap.n_values*85//100)[:-1])\n",
        "\n",
        "    cx = nx - cx_slider.value\n",
        "    cy = cy_slider.value\n",
        "    cz = cy_slider.value\n",
        "    \n",
        "    pl.remove_actor(slices[0])\n",
        "    grid_slice_x = grid.slice(\n",
        "        normal='x',\n",
        "        origin=(cx,cy,cz),\n",
        "    )\n",
        "    \n",
        "    slices[0] = pl.add_mesh(\n",
        "        grid_slice_x,\n",
        "        show_scalar_bar=False,\n",
        "        cmap=cmap_string,\n",
        "        opacity=0.875,\n",
        "        name=\"slice-x\",\n",
        "        render=False,\n",
        "    )\n",
        "    slices[0].SetVisibility(cx_checkbox.value)\n",
        "\n",
        "    pl.remove_actor(slices[1])   \n",
        "    grid_slice_y = grid.slice(\n",
        "        normal='y',\n",
        "        origin=(cx,cy,cz),\n",
        "    )\n",
        "\n",
        "    slices[1] = pl.add_mesh(\n",
        "        grid_slice_y,\n",
        "        show_scalar_bar=False,\n",
        "        cmap=cmap_string,\n",
        "        opacity=0.875,\n",
        "        name=\"slice-y\",\n",
        "        render=False,\n",
        "    )\n",
        "    slices[1].SetVisibility(cy_checkbox.value)\n",
        "\n",
        "    pl.remove_actor(slices[2])   \n",
        "    grid_slice_z = grid.slice(\n",
        "        normal='z',\n",
        "        origin=(cx,cy,cz),\n",
        "    )\n",
        "\n",
        "    slices[2] = pl.add_mesh(\n",
        "        grid_slice_z,\n",
        "        show_scalar_bar=False,\n",
        "        cmap=cmap_string,\n",
        "        opacity=0.875,\n",
        "        name=\"slice-z\",\n",
        "        render=False,\n",
        "    )\n",
        "    slices[2].SetVisibility(cz_checkbox.value)\n",
        "\n",
        "    pl.update(0.1)\n",
        "    return None\n",
        "    \n",
        "def update_x_slice(change):\n",
        "    if cx_checkbox.value:\n",
        "        cmap = cmap_widget.value\n",
        "        offset = nx-change['new']\n",
        "        cy = cy_slider.value\n",
        "        cz = cz_slider.value\n",
        "        \n",
        "        pl.remove_actor(slices[0])\n",
        "    \n",
        "        grid_slice_x = grid.slice(\n",
        "            normal='x',\n",
        "            origin=(offset,cy,cz),\n",
        "        )\n",
        "        \n",
        "        slices[0] = pl.add_mesh(\n",
        "            grid_slice_x,\n",
        "            show_scalar_bar=False,\n",
        "            cmap=cmap,\n",
        "            opacity=0.875,\n",
        "            name=\"slice-x\",\n",
        "            render=True,\n",
        "        )\n",
        "        pl.update(0.1)\n",
        "    return None\n",
        "\n",
        "def update_y_slice(change):\n",
        "    if cy_checkbox.value:\n",
        "        cmap = cmap_widget.value\n",
        "        offset = change['new']\n",
        "        cx = nx - cx_slider.value\n",
        "        cz = cz_slider.value\n",
        "        \n",
        "        pl.remove_actor(slices[1])\n",
        "    \n",
        "        grid_slice_y = grid.slice(\n",
        "            normal='y',\n",
        "            origin=(cx,offset,cz),\n",
        "        )\n",
        "        \n",
        "        slices[1] = pl.add_mesh(\n",
        "            grid_slice_y,\n",
        "            show_scalar_bar=False,\n",
        "            cmap=cmap,\n",
        "            opacity=0.875,\n",
        "            name=\"slice-y\",\n",
        "            render=True,\n",
        "        )\n",
        "        pl.update(0.1)\n",
        "    return None\n",
        "\n",
        "def update_z_slice(change):\n",
        "    if cz_checkbox.value:\n",
        "        cmap = cmap_widget.value\n",
        "        offset = change['new']\n",
        "        cx = nx - cx_slider.value\n",
        "        cy = cy_slider.value\n",
        "        \n",
        "        pl.remove_actor(slices[2])\n",
        "    \n",
        "        grid_slice_z = grid.slice(\n",
        "            normal='z',\n",
        "            origin=(cx,cy,offset),\n",
        "        )\n",
        "        \n",
        "        slices[2] = pl.add_mesh(\n",
        "            grid_slice_z,\n",
        "            show_scalar_bar=False,\n",
        "            cmap=cmap,\n",
        "            opacity=0.875,\n",
        "            name=\"slice-z\",\n",
        "            render=True,\n",
        "        )\n",
        "        pl.update(0.1)\n",
        "    return None\n",
        "\n",
        "def toggle_x_slice(change):\n",
        "    visible = change['new']\n",
        "    slices[0].SetVisibility(visible)\n",
        "    pl.update(0.1)\n",
        "    return None\n",
        "\n",
        "def toggle_y_slice(change):\n",
        "    visible = change['new']\n",
        "    slices[1].SetVisibility(visible)\n",
        "    pl.update(0.1)\n",
        "    return None\n",
        "\n",
        "def toggle_z_slice(change):\n",
        "    visible = change['new']\n",
        "    slices[2].SetVisibility(visible)\n",
        "    pl.update(0.1)\n",
        "    return None\n",
        "\n",
        "def toggle_clip_plane(change):\n",
        "    visible = change['new']\n",
        "    if visible:\n",
        "        volume_clip_plane.On()\n",
        "    else:\n",
        "        volume_clip_plane.Off()\n",
        "    pl.update(0.1)\n",
        "    return None\n",
        "\n",
        "def toggle_vol(change):\n",
        "    visible = change['new']\n",
        "    vol.SetVisibility(visible)\n",
        "    pl.update(0.1)\n",
        "    return None\n",
        "\n",
        "def toggle_atoms(change):\n",
        "    visible = change['new']\n",
        "    atoms.SetVisibility(visible)\n",
        "    pl.update(0.1)\n",
        "    return None\n",
        "\n",
        "def update_atoms_size(change):\n",
        "    size = change['new']\n",
        "    atoms.prop.SetPointSize(size)\n",
        "    pl.update(0.1)\n",
        "    return None\n",
        "\n",
        "cmap_widget =Dropdown(options=sequential_cmaps,value=cmap_default,description=\"Colormap\",indent=False,layout=Layout(width='175px'))\n",
        "cmap_widget.observe(update_colormap,names='value')\n",
        "\n",
        "checkbox_layout = Layout(width='175px')\n",
        "slider_layout = Layout(width='175px')\n",
        "\n",
        "vol_checkbox = Checkbox(\n",
        "    value=True,\n",
        "    description='Volume',\n",
        "    indent=True,\n",
        "    layout=checkbox_layout,\n",
        ")\n",
        "vol_checkbox.observe(toggle_vol,names='value')\n",
        "\n",
        "clip_checkbox = Checkbox(\n",
        "    value=False,\n",
        "    description='Clip Plane',\n",
        "    indent=True,\n",
        "    layout=checkbox_layout,\n",
        ")\n",
        "clip_checkbox.observe(toggle_clip_plane,names='value')\n",
        "\n",
        "atoms_checkbox = Checkbox(\n",
        "    value=False,\n",
        "    description='Atoms',\n",
        "    indent=True,\n",
        "    layout=checkbox_layout,\n",
        ")\n",
        "atoms_checkbox.observe(toggle_atoms,names='value')\n",
        "\n",
        "atoms_slider = FloatSlider(\n",
        "    value=10,\n",
        "    min=5,\n",
        "    max=20,\n",
        "    step=0.125,\n",
        "    description='atoms size',\n",
        "    continuous_update=False,\n",
        "    layout=slider_layout,\n",
        "    readout=False,\n",
        ")\n",
        "atoms_slider.observe(update_atoms_size,names='value')\n",
        "\n",
        "cx_checkbox = Checkbox(\n",
        "    value=False,\n",
        "    description='x axis slice',\n",
        "    indent=True,\n",
        "    layout=checkbox_layout,\n",
        ")\n",
        "cx_checkbox.observe(toggle_x_slice,names='value')\n",
        "\n",
        "cy_checkbox = Checkbox(\n",
        "    value=False,\n",
        "    description='y axis slice',\n",
        "    indent=True,\n",
        "    layout=checkbox_layout,\n",
        ")\n",
        "cy_checkbox.observe(toggle_y_slice,names='value')\n",
        "\n",
        "cz_checkbox = Checkbox(\n",
        "    value=False,\n",
        "    description='z axis slice',\n",
        "    indent=True,\n",
        "    layout=checkbox_layout,\n",
        ")\n",
        "cz_checkbox.observe(toggle_z_slice,names='value')\n",
        "\n",
        "cx_slider = IntSlider(\n",
        "    value=nx//2,\n",
        "    min=0,\n",
        "    max=nx-1,\n",
        "    description='x index',\n",
        "    continuous_update=False,\n",
        "    layout=slider_layout,\n",
        "    readout=False,\n",
        ")\n",
        "cx_slider.observe(update_x_slice,names='value')\n",
        "\n",
        "cy_slider = IntSlider(\n",
        "    value=ny//2,\n",
        "    min=0,\n",
        "    max=ny-1,\n",
        "    description='y index',\n",
        "    continuous_update=False,\n",
        "    layout=slider_layout,\n",
        "    readout=False,\n",
        ")\n",
        "cy_slider.observe(update_y_slice,names='value')\n",
        "\n",
        "cz_slider = IntSlider(\n",
        "    value=nz//2,\n",
        "    min=0,\n",
        "    max=nz-1,\n",
        "    description='z index',\n",
        "    continuous_update=False,\n",
        "    layout=slider_layout,\n",
        "    readout=False,\n",
        ")\n",
        "cz_slider.observe(update_z_slice,names='value')\n",
        "\n",
        "controls_layout = Layout(\n",
        "    display='flex',\n",
        "    flex_flow='column',\n",
        "    align_items='center',\n",
        "    width='200px'\n",
        ")\n",
        "\n",
        "controls = VBox(\n",
        "    [\n",
        "        Label(\"Visual Controls\"),\n",
        "        cmap_widget,\n",
        "        vol_checkbox,\n",
        "        clip_checkbox,\n",
        "        atoms_checkbox,\n",
        "        atoms_slider,\n",
        "        Label(\"Slice Controls\"),\n",
        "        cx_checkbox,\n",
        "        cy_checkbox,\n",
        "        cz_checkbox,\n",
        "        Label(\"Indices Controls\"),\n",
        "        cx_slider,\n",
        "        cy_slider,\n",
        "        cz_slider\n",
        "    ],\n",
        "    layout=controls_layout\n",
        ")\n",
        "\n",
        "visualization_layout = Layout(\n",
        "    display='flex',\n",
        "    flex_flow='row',\n",
        "    align_items='center',\n",
        "    width='660px'\n",
        ")\n",
        "\n",
        "display(\n",
        "    HBox([\n",
        "        viewer,\n",
        "        controls\n",
        "    ],\n",
        "        layout=visualization_layout\n",
        "        )\n",
        ")"
      ]
    },
    {
      "cell_type": "code",
      "execution_count": null,
      "id": "31026002-158e-40d8-8d0e-a3cf181c5814",
      "metadata": {},
      "outputs": [],
      "source": []
    }
  ],
  "metadata": {
    "kernelspec": {
      "display_name": "Python 3 (ipykernel)",
      "language": "python",
      "name": "python3"
    },
    "language_info": {
      "codemirror_mode": {
        "name": "ipython",
        "version": 3
      },
      "file_extension": ".py",
      "mimetype": "text/x-python",
      "name": "python",
      "nbconvert_exporter": "python",
      "pygments_lexer": "ipython3",
      "version": "3.11.4"
    },
    "widgets": {
      "application/vnd.jupyter.widget-state+json": {
        "state": {
          "139f09ca8488425081b5be0ca18c68d2": {
            "model_module": "@jupyter-widgets/controls",
            "model_module_version": "2.0.0",
            "model_name": "CheckboxModel",
            "state": {
              "description": "Volume",
              "disabled": false,
              "layout": "IPY_MODEL_5da70346051647dcb5640ed51a3b22e6",
              "style": "IPY_MODEL_6d4420b270d446a999a0dc28b945d0bd",
              "value": true
            }
          },
          "180b3c9e253040179a8f50a1df88136a": {
            "model_module": "@jupyter-widgets/controls",
            "model_module_version": "2.0.0",
            "model_name": "CheckboxModel",
            "state": {
              "description": "Clip Plane",
              "disabled": false,
              "layout": "IPY_MODEL_5da70346051647dcb5640ed51a3b22e6",
              "style": "IPY_MODEL_8e891dc0b3864fd0a1c6c8d3b609d2b1",
              "value": false
            }
          },
          "1aaec6ea398d4537896e832521db55ef": {
            "model_module": "@jupyter-widgets/controls",
            "model_module_version": "2.0.0",
            "model_name": "VBoxModel",
            "state": {
              "children": [
                "IPY_MODEL_5ca10e6ac53849aea3694eeb0033777e",
                "IPY_MODEL_5613ba454aad41b69f78c1f31b6afcd3",
                "IPY_MODEL_139f09ca8488425081b5be0ca18c68d2",
                "IPY_MODEL_180b3c9e253040179a8f50a1df88136a",
                "IPY_MODEL_57377573359742c09a8b54b96771663b",
                "IPY_MODEL_5ea188710dce4ee78a87361c92cbfd3c",
                "IPY_MODEL_940af64bc87b4cccacc1d9d785d6a347",
                "IPY_MODEL_a2d031211b00449b8d0d6a76ecb4d20a",
                "IPY_MODEL_36bb3ef575654477bffb723d5f9816a4",
                "IPY_MODEL_537df55532194a5c92515fb215853fc9",
                "IPY_MODEL_b7834c99bf28454689186be0e26fe2d4",
                "IPY_MODEL_567d9f7a551d4de2a83b6417d8ab290e",
                "IPY_MODEL_4d88620452dc48fbbf05fcf6a77ecfe3",
                "IPY_MODEL_6feed7fec97d4e52be051f600b243e18"
              ],
              "layout": "IPY_MODEL_26f2a0c5dd5745adb1f1ae65a9dbccb6"
            }
          },
          "1d9294dc0030451bbd53498e72a21a06": {
            "model_module": "@jupyter-widgets/controls",
            "model_module_version": "2.0.0",
            "model_name": "CheckboxModel",
            "state": {
              "description": "Atoms",
              "disabled": false,
              "layout": "IPY_MODEL_de5c7811a7144389bb4ab81f5a76b23f",
              "style": "IPY_MODEL_c6aa72e40b404abea4d704f158630b68",
              "value": false
            }
          },
          "24230b4e66194a47958c87a6cac9b2a2": {
            "model_module": "@jupyter-widgets/base",
            "model_module_version": "2.0.0",
            "model_name": "LayoutModel",
            "state": {
              "width": "175px"
            }
          },
          "267b41e0dfbf49a190d5179fe307e00b": {
            "model_module": "@jupyter-widgets/controls",
            "model_module_version": "2.0.0",
            "model_name": "CheckboxStyleModel",
            "state": {
              "description_width": ""
            }
          },
          "26f2a0c5dd5745adb1f1ae65a9dbccb6": {
            "model_module": "@jupyter-widgets/base",
            "model_module_version": "2.0.0",
            "model_name": "LayoutModel",
            "state": {
              "align_items": "center",
              "display": "flex",
              "flex_flow": "column",
              "width": "200px"
            }
          },
          "2c4ba388718c49b187d73ab9c9dbdf62": {
            "model_module": "@jupyter-widgets/controls",
            "model_module_version": "2.0.0",
            "model_name": "DropdownModel",
            "state": {
              "_options_labels": [
                "gray",
                "viridis",
                "plasma",
                "inferno",
                "magma",
                "cividis",
                "turbo",
                "Purples_r",
                "Blues_r",
                "Greens_r",
                "Oranges_r",
                "Reds_r",
                "YlOrBr_r",
                "YlOrRd_r",
                "OrRd_r",
                "PuRd_r",
                "RdPu_r",
                "BuPu_r",
                "GnBu_r",
                "PuBu_r",
                "YlGnBu_r",
                "PuBuGn_r",
                "BuGn_r",
                "YlGn_r"
              ],
              "description": "Colormap",
              "index": 4,
              "layout": "IPY_MODEL_24230b4e66194a47958c87a6cac9b2a2",
              "style": "IPY_MODEL_85b45decd56448a5b2a9a6634da40417"
            }
          },
          "2eb5123912054261bfa402aaf7e4505f": {
            "model_module": "@jupyter-widgets/base",
            "model_module_version": "2.0.0",
            "model_name": "LayoutModel",
            "state": {
              "width": "175px"
            }
          },
          "309ac3435beb404289178bdbabda3a19": {
            "model_module": "@jupyter-widgets/controls",
            "model_module_version": "2.0.0",
            "model_name": "HTMLModel",
            "state": {
              "layout": "IPY_MODEL_38a6d6324f494cbb9cd498171df303f7",
              "style": "IPY_MODEL_80fe39f627bd47d08997b9c9c9033698",
              "value": "<iframe src='http://localhost:42695/index.html?ui=P_0x7f64b4decb50_1&reconnect=auto' style='width: 440px; height: 440px;'></iframe>"
            }
          },
          "36bb3ef575654477bffb723d5f9816a4": {
            "model_module": "@jupyter-widgets/controls",
            "model_module_version": "2.0.0",
            "model_name": "CheckboxModel",
            "state": {
              "description": "y axis slice",
              "disabled": false,
              "layout": "IPY_MODEL_5da70346051647dcb5640ed51a3b22e6",
              "style": "IPY_MODEL_52ad33abbda3435883ef9b4e6e87dced",
              "value": false
            }
          },
          "38a6d6324f494cbb9cd498171df303f7": {
            "model_module": "@jupyter-widgets/base",
            "model_module_version": "2.0.0",
            "model_name": "LayoutModel",
            "state": {}
          },
          "3cdf33bd75144260ae19ee94c305cbb0": {
            "model_module": "@jupyter-widgets/controls",
            "model_module_version": "2.0.0",
            "model_name": "SliderStyleModel",
            "state": {
              "description_width": ""
            }
          },
          "407e0baa7b2b48dfaecbaeb24543f58f": {
            "model_module": "@jupyter-widgets/controls",
            "model_module_version": "2.0.0",
            "model_name": "DescriptionStyleModel",
            "state": {
              "description_width": ""
            }
          },
          "4b0eb316244740f3afb860453b5c0f3a": {
            "model_module": "@jupyter-widgets/controls",
            "model_module_version": "2.0.0",
            "model_name": "SliderStyleModel",
            "state": {
              "description_width": ""
            }
          },
          "4d88620452dc48fbbf05fcf6a77ecfe3": {
            "model_module": "@jupyter-widgets/controls",
            "model_module_version": "2.0.0",
            "model_name": "IntSliderModel",
            "state": {
              "behavior": "drag-tap",
              "continuous_update": false,
              "description": "y index",
              "layout": "IPY_MODEL_67d4d6e90d1543da92c026df64174dd5",
              "max": 95,
              "readout": false,
              "style": "IPY_MODEL_4b0eb316244740f3afb860453b5c0f3a",
              "value": 48
            }
          },
          "4d9765198c4a427dac3b6b9c26627813": {
            "model_module": "@jupyter-widgets/controls",
            "model_module_version": "2.0.0",
            "model_name": "HTMLStyleModel",
            "state": {
              "description_width": "",
              "font_size": null,
              "text_color": null
            }
          },
          "52ad33abbda3435883ef9b4e6e87dced": {
            "model_module": "@jupyter-widgets/controls",
            "model_module_version": "2.0.0",
            "model_name": "CheckboxStyleModel",
            "state": {
              "description_width": ""
            }
          },
          "537df55532194a5c92515fb215853fc9": {
            "model_module": "@jupyter-widgets/controls",
            "model_module_version": "2.0.0",
            "model_name": "CheckboxModel",
            "state": {
              "description": "z axis slice",
              "disabled": false,
              "layout": "IPY_MODEL_5da70346051647dcb5640ed51a3b22e6",
              "style": "IPY_MODEL_decff4ffbee44f7da3d64088dac7e682",
              "value": false
            }
          },
          "5613ba454aad41b69f78c1f31b6afcd3": {
            "model_module": "@jupyter-widgets/controls",
            "model_module_version": "2.0.0",
            "model_name": "DropdownModel",
            "state": {
              "_options_labels": [
                "gray",
                "viridis",
                "plasma",
                "inferno",
                "magma",
                "cividis",
                "turbo",
                "Purples_r",
                "Blues_r",
                "Greens_r",
                "Oranges_r",
                "Reds_r",
                "YlOrBr_r",
                "YlOrRd_r",
                "OrRd_r",
                "PuRd_r",
                "RdPu_r",
                "BuPu_r",
                "GnBu_r",
                "PuBu_r",
                "YlGnBu_r",
                "PuBuGn_r",
                "BuGn_r",
                "YlGn_r"
              ],
              "description": "Colormap",
              "index": 4,
              "layout": "IPY_MODEL_2eb5123912054261bfa402aaf7e4505f",
              "style": "IPY_MODEL_407e0baa7b2b48dfaecbaeb24543f58f"
            }
          },
          "567d9f7a551d4de2a83b6417d8ab290e": {
            "model_module": "@jupyter-widgets/controls",
            "model_module_version": "2.0.0",
            "model_name": "IntSliderModel",
            "state": {
              "behavior": "drag-tap",
              "continuous_update": false,
              "description": "x index",
              "layout": "IPY_MODEL_67d4d6e90d1543da92c026df64174dd5",
              "max": 105,
              "readout": false,
              "style": "IPY_MODEL_3cdf33bd75144260ae19ee94c305cbb0",
              "value": 53
            }
          },
          "57377573359742c09a8b54b96771663b": {
            "model_module": "@jupyter-widgets/controls",
            "model_module_version": "2.0.0",
            "model_name": "CheckboxModel",
            "state": {
              "description": "Atoms",
              "disabled": false,
              "layout": "IPY_MODEL_5da70346051647dcb5640ed51a3b22e6",
              "style": "IPY_MODEL_89a7f6c6b6f84260b546ccf887f6fd97",
              "value": false
            }
          },
          "5a4aa9ea6ff247da88b1d2ba26f35cb6": {
            "model_module": "@jupyter-widgets/controls",
            "model_module_version": "2.0.0",
            "model_name": "CheckboxStyleModel",
            "state": {
              "description_width": ""
            }
          },
          "5b1d2b4a26fa4c47a555ffe033eaddd6": {
            "model_module": "@jupyter-widgets/controls",
            "model_module_version": "2.0.0",
            "model_name": "LabelStyleModel",
            "state": {
              "description_width": "",
              "font_family": null,
              "font_size": null,
              "font_style": null,
              "font_variant": null,
              "font_weight": null,
              "text_color": null,
              "text_decoration": null
            }
          },
          "5ca10e6ac53849aea3694eeb0033777e": {
            "model_module": "@jupyter-widgets/controls",
            "model_module_version": "2.0.0",
            "model_name": "LabelModel",
            "state": {
              "layout": "IPY_MODEL_6fa5fd4b06dd46079fe0ee5352a489b9",
              "style": "IPY_MODEL_be02dfeefad442958e2f79617468009f",
              "value": "Visual Controls"
            }
          },
          "5da70346051647dcb5640ed51a3b22e6": {
            "model_module": "@jupyter-widgets/base",
            "model_module_version": "2.0.0",
            "model_name": "LayoutModel",
            "state": {
              "width": "175px"
            }
          },
          "5ea188710dce4ee78a87361c92cbfd3c": {
            "model_module": "@jupyter-widgets/controls",
            "model_module_version": "2.0.0",
            "model_name": "FloatSliderModel",
            "state": {
              "behavior": "drag-tap",
              "continuous_update": false,
              "description": "atoms size",
              "layout": "IPY_MODEL_67d4d6e90d1543da92c026df64174dd5",
              "max": 20,
              "min": 5,
              "readout": false,
              "step": 0.125,
              "style": "IPY_MODEL_7bfbae4ff7b840efb024e895d4e86d8e",
              "value": 10
            }
          },
          "67d4d6e90d1543da92c026df64174dd5": {
            "model_module": "@jupyter-widgets/base",
            "model_module_version": "2.0.0",
            "model_name": "LayoutModel",
            "state": {
              "width": "175px"
            }
          },
          "6d4420b270d446a999a0dc28b945d0bd": {
            "model_module": "@jupyter-widgets/controls",
            "model_module_version": "2.0.0",
            "model_name": "CheckboxStyleModel",
            "state": {
              "description_width": ""
            }
          },
          "6fa5fd4b06dd46079fe0ee5352a489b9": {
            "model_module": "@jupyter-widgets/base",
            "model_module_version": "2.0.0",
            "model_name": "LayoutModel",
            "state": {}
          },
          "6feed7fec97d4e52be051f600b243e18": {
            "model_module": "@jupyter-widgets/controls",
            "model_module_version": "2.0.0",
            "model_name": "IntSliderModel",
            "state": {
              "behavior": "drag-tap",
              "continuous_update": false,
              "description": "z index",
              "layout": "IPY_MODEL_67d4d6e90d1543da92c026df64174dd5",
              "max": 95,
              "readout": false,
              "style": "IPY_MODEL_90024ce563fa4a65a80d34baf96e3231",
              "value": 48
            }
          },
          "7bfbae4ff7b840efb024e895d4e86d8e": {
            "model_module": "@jupyter-widgets/controls",
            "model_module_version": "2.0.0",
            "model_name": "SliderStyleModel",
            "state": {
              "description_width": ""
            }
          },
          "7e33734699834a19999620d02ab5e637": {
            "model_module": "@jupyter-widgets/controls",
            "model_module_version": "2.0.0",
            "model_name": "HBoxModel",
            "state": {
              "children": [
                "IPY_MODEL_309ac3435beb404289178bdbabda3a19",
                "IPY_MODEL_1aaec6ea398d4537896e832521db55ef"
              ],
              "layout": "IPY_MODEL_b80e730e64d34202bb474ff987fd09ab"
            }
          },
          "80fe39f627bd47d08997b9c9c9033698": {
            "model_module": "@jupyter-widgets/controls",
            "model_module_version": "2.0.0",
            "model_name": "HTMLStyleModel",
            "state": {
              "description_width": "",
              "font_size": null,
              "text_color": null
            }
          },
          "85b45decd56448a5b2a9a6634da40417": {
            "model_module": "@jupyter-widgets/controls",
            "model_module_version": "2.0.0",
            "model_name": "DescriptionStyleModel",
            "state": {
              "description_width": ""
            }
          },
          "89a7f6c6b6f84260b546ccf887f6fd97": {
            "model_module": "@jupyter-widgets/controls",
            "model_module_version": "2.0.0",
            "model_name": "CheckboxStyleModel",
            "state": {
              "description_width": ""
            }
          },
          "8e891dc0b3864fd0a1c6c8d3b609d2b1": {
            "model_module": "@jupyter-widgets/controls",
            "model_module_version": "2.0.0",
            "model_name": "CheckboxStyleModel",
            "state": {
              "description_width": ""
            }
          },
          "90024ce563fa4a65a80d34baf96e3231": {
            "model_module": "@jupyter-widgets/controls",
            "model_module_version": "2.0.0",
            "model_name": "SliderStyleModel",
            "state": {
              "description_width": ""
            }
          },
          "940af64bc87b4cccacc1d9d785d6a347": {
            "model_module": "@jupyter-widgets/controls",
            "model_module_version": "2.0.0",
            "model_name": "LabelModel",
            "state": {
              "layout": "IPY_MODEL_c9cbdd0661974011a4cfb0cd3bef41ea",
              "style": "IPY_MODEL_bd7eceb657cb421e815268fe9b7d930d",
              "value": "Slice Controls"
            }
          },
          "a2d031211b00449b8d0d6a76ecb4d20a": {
            "model_module": "@jupyter-widgets/controls",
            "model_module_version": "2.0.0",
            "model_name": "CheckboxModel",
            "state": {
              "description": "x axis slice",
              "disabled": false,
              "layout": "IPY_MODEL_5da70346051647dcb5640ed51a3b22e6",
              "style": "IPY_MODEL_267b41e0dfbf49a190d5179fe307e00b",
              "value": false
            }
          },
          "b7834c99bf28454689186be0e26fe2d4": {
            "model_module": "@jupyter-widgets/controls",
            "model_module_version": "2.0.0",
            "model_name": "LabelModel",
            "state": {
              "layout": "IPY_MODEL_e8b111a90de54bd4b9d58ea5099ab145",
              "style": "IPY_MODEL_5b1d2b4a26fa4c47a555ffe033eaddd6",
              "value": "Indices Controls"
            }
          },
          "b80e730e64d34202bb474ff987fd09ab": {
            "model_module": "@jupyter-widgets/base",
            "model_module_version": "2.0.0",
            "model_name": "LayoutModel",
            "state": {
              "align_items": "center",
              "display": "flex",
              "flex_flow": "row",
              "width": "660px"
            }
          },
          "bd7eceb657cb421e815268fe9b7d930d": {
            "model_module": "@jupyter-widgets/controls",
            "model_module_version": "2.0.0",
            "model_name": "LabelStyleModel",
            "state": {
              "description_width": "",
              "font_family": null,
              "font_size": null,
              "font_style": null,
              "font_variant": null,
              "font_weight": null,
              "text_color": null,
              "text_decoration": null
            }
          },
          "be02dfeefad442958e2f79617468009f": {
            "model_module": "@jupyter-widgets/controls",
            "model_module_version": "2.0.0",
            "model_name": "LabelStyleModel",
            "state": {
              "description_width": "",
              "font_family": null,
              "font_size": null,
              "font_style": null,
              "font_variant": null,
              "font_weight": null,
              "text_color": null,
              "text_decoration": null
            }
          },
          "c6aa72e40b404abea4d704f158630b68": {
            "model_module": "@jupyter-widgets/controls",
            "model_module_version": "2.0.0",
            "model_name": "CheckboxStyleModel",
            "state": {
              "description_width": ""
            }
          },
          "c9cbdd0661974011a4cfb0cd3bef41ea": {
            "model_module": "@jupyter-widgets/base",
            "model_module_version": "2.0.0",
            "model_name": "LayoutModel",
            "state": {}
          },
          "dd756930d3ac4f9a9cb7fbabbc4d34c4": {
            "model_module": "@jupyter-widgets/controls",
            "model_module_version": "2.0.0",
            "model_name": "CheckboxModel",
            "state": {
              "description": "Volume",
              "disabled": false,
              "layout": "IPY_MODEL_de5c7811a7144389bb4ab81f5a76b23f",
              "style": "IPY_MODEL_efaf30880ca049f6a3753ea2b21448b1",
              "value": true
            }
          },
          "de5c7811a7144389bb4ab81f5a76b23f": {
            "model_module": "@jupyter-widgets/base",
            "model_module_version": "2.0.0",
            "model_name": "LayoutModel",
            "state": {
              "width": "175px"
            }
          },
          "decff4ffbee44f7da3d64088dac7e682": {
            "model_module": "@jupyter-widgets/controls",
            "model_module_version": "2.0.0",
            "model_name": "CheckboxStyleModel",
            "state": {
              "description_width": ""
            }
          },
          "e624911b776043329b972ad7c6af7e07": {
            "model_module": "@jupyter-widgets/controls",
            "model_module_version": "2.0.0",
            "model_name": "HTMLModel",
            "state": {
              "layout": "IPY_MODEL_f0c552e3c31f4b699c290fbf73d401ba",
              "style": "IPY_MODEL_4d9765198c4a427dac3b6b9c26627813",
              "value": "<iframe src='http://localhost:42695/index.html?ui=P_0x7f64b8a6d5d0_0&reconnect=auto' style='width: 440px; height: 440px;'></iframe>"
            }
          },
          "e8b111a90de54bd4b9d58ea5099ab145": {
            "model_module": "@jupyter-widgets/base",
            "model_module_version": "2.0.0",
            "model_name": "LayoutModel",
            "state": {}
          },
          "efaf30880ca049f6a3753ea2b21448b1": {
            "model_module": "@jupyter-widgets/controls",
            "model_module_version": "2.0.0",
            "model_name": "CheckboxStyleModel",
            "state": {
              "description_width": ""
            }
          },
          "f0c552e3c31f4b699c290fbf73d401ba": {
            "model_module": "@jupyter-widgets/base",
            "model_module_version": "2.0.0",
            "model_name": "LayoutModel",
            "state": {}
          },
          "f97912b7999f4c7d9ea34c232c8fc04e": {
            "model_module": "@jupyter-widgets/controls",
            "model_module_version": "2.0.0",
            "model_name": "CheckboxModel",
            "state": {
              "description": "Clip Plane",
              "disabled": false,
              "layout": "IPY_MODEL_de5c7811a7144389bb4ab81f5a76b23f",
              "style": "IPY_MODEL_5a4aa9ea6ff247da88b1d2ba26f35cb6",
              "value": false
            }
          }
        },
        "version_major": 2,
        "version_minor": 0
      }
    }
  },
  "nbformat": 4,
  "nbformat_minor": 5
}
