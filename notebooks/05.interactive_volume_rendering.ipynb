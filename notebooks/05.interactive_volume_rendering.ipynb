{
 "cells": [
  {
   "cell_type": "markdown",
   "id": "d97f0827-4f27-4a62-af55-ead17042e96e",
   "metadata": {},
   "source": [
    "---\n",
    "title: Interactive Volume Rendering\n",
    "authors: [Georgios Varnavides, Colin Ophus]\n",
    "date: 2024/05/24\n",
    "---\n",
    "\n",
    "This is an example widget for rendering volumes interactively."
   ]
  },
  {
   "cell_type": "code",
   "execution_count": null,
   "id": "0208177b-3125-4b37-a309-de2af16a2188",
   "metadata": {},
   "outputs": [],
   "source": [
    "#| label: app:interactive_volume_rendering\n",
    "# Widget combining pyvista + ipywidgets for volume rendering.\n",
    "\n",
    "from IPython.display import display, IFrame\n",
    "import matplotlib.pyplot as plt\n",
    "import pyvista as pv\n",
    "import os\n",
    "import vtk\n",
    "from ipywidgets import Checkbox, IntSlider, Layout, HBox, VBox, Label, Dropdown, FloatSlider\n",
    "import numpy as np\n",
    "from scipy.ndimage import maximum_filter\n",
    "import h5py"
   ]
  },
  {
   "cell_type": "code",
   "execution_count": 7,
   "id": "420dc37a-ecb9-4042-bb6c-6eb0cc9c8e75",
   "metadata": {},
   "outputs": [],
   "source": [
    "# pv.start_xvfb()\n",
    "pv.set_jupyter_backend(\"client\")\n",
    "\n",
    "cn_prefix = os.environ.get(\"CN_JUPYTER_SERVER_BASE_URL\",None)\n",
    "jh_prefix = os.environ.get(\"JUPYTERHUB_SERVICE_PREFIX\",None)\n",
    "if cn_prefix is not None and jh_prefix is not None:\n",
    "    pv.global_theme.trame.server_proxy_prefix = cn_prefix + jh_prefix + \"proxy/\""
   ]
  },
  {
   "cell_type": "code",
   "execution_count": 8,
   "id": "ae683c44-5657-4730-af97-21386be41ca5",
   "metadata": {},
   "outputs": [],
   "source": [
    "cmap_default = 'magma'\n",
    "cmap = pv.LookupTable(cmap_default)\n",
    "\n",
    "# Data\n",
    "with h5py.File(\"data/CNT_overlap_tomo_missing.h5\",\"r\") as f:\n",
    "    values = f['reconstruction'][:]\n",
    "nx, ny, nz = values.shape\n",
    "\n",
    "# atomic coordinates\n",
    "p = np.logical_and(maximum_filter(\n",
    "    values,\n",
    "    size = 3,\n",
    ") == values, values > 3e-3)\n",
    "xyz = np.argwhere(p)\n",
    "sig = values[xyz[:,0],xyz[:,1],xyz[:,2]]\n",
    "xyz = xyz.astype('float')\n",
    "\n",
    "grid = pv.ImageData(\n",
    "    dimensions=[nx+1,ny+1,nz+1],\n",
    "    origin=(0,0,0),\n",
    "    spacing=(1,1,1),\n",
    ")\n",
    "grid.cell_data[\"values\"] = values.flatten(order=\"F\")\n",
    "\n",
    "pl = pv.Plotter()\n",
    "\n",
    "vol = pl.add_volume(\n",
    "    grid,\n",
    "    name='volume',\n",
    "    opacity=\"sigmoid\",\n",
    "    cmap=cmap_default,\n",
    "    show_scalar_bar=False,\n",
    ")\n",
    "\n",
    "atoms = pl.add_points(\n",
    "    xyz, \n",
    "    render_points_as_spheres=True,\n",
    "    color=cmap(cmap.n_values*85//100)[:-1],\n",
    "    ambient=0.125,\n",
    "    point_size = 10.0,\n",
    ")\n",
    "atoms.SetVisibility(False)\n",
    "\n",
    "grid_slice_x = grid.slice(\n",
    "    normal='x',\n",
    "    origin=(nx//2,ny//2,nz//2),\n",
    ")\n",
    "\n",
    "grid_slice_y = grid.slice(\n",
    "    normal='y',\n",
    "    origin=(nx//2,ny//2,nz//2),\n",
    ")\n",
    "\n",
    "grid_slice_z = grid.slice(\n",
    "    normal='z',\n",
    "    origin=(nx//2,ny//2,nz//2),\n",
    ")\n",
    "\n",
    "volume_clip_plane = pl.add_volume_clip_plane(\n",
    "    vol,\n",
    "    normal='x',\n",
    "    origin=(0,ny//2,nz//2),\n",
    ")\n",
    "volume_clip_plane.Off()\n",
    "\n",
    "slice_x = pl.add_mesh(\n",
    "    grid_slice_x,\n",
    "    show_scalar_bar=False,\n",
    "    cmap=cmap_default,\n",
    "    opacity=0.875,\n",
    "    name=\"slice-x\",\n",
    "    render=False,\n",
    ")\n",
    "\n",
    "slice_y = pl.add_mesh(\n",
    "    grid_slice_y,\n",
    "    show_scalar_bar=False,\n",
    "    cmap=cmap_default,\n",
    "    opacity=0.875,\n",
    "    name=\"slice-y\",\n",
    "    render=False,\n",
    ")\n",
    "\n",
    "slice_z = pl.add_mesh(\n",
    "    grid_slice_z,\n",
    "    show_scalar_bar=False,\n",
    "    cmap=cmap_default,\n",
    "    opacity=0.875,\n",
    "    name=\"slice-z\",\n",
    "    render=False,\n",
    ")\n",
    "\n",
    "slices = [slice_x,slice_y,slice_z]\n",
    "\n",
    "for slice in slices:\n",
    "    slice.SetVisibility(False)\n",
    "\n",
    "pl.camera.zoom(0.875)\n",
    "\n",
    "from pyvista.trame.jupyter import Widget as PVWidget\n",
    "\n",
    "def backendHandler(viewer, src, **kwargs):\n",
    "    token = os.environ.get(\"JUPYTER_SERVER_USER_TOKEN\",None)\n",
    "    print(token)\n",
    "    if (token):\n",
    "        src = src + f\"&token={token}\"\n",
    "    return PVWidget(viewer, src, **kwargs)\n",
    "\n",
    "viewer = pl.show(\n",
    "    return_viewer = True,\n",
    "    interactive_update=True,\n",
    "    window_size=(440,440),\n",
    "    jupyter_kwargs={'collapse_menu':True, 'handler':backendHandler},\n",
    ")"
   ]
  },
  {
   "cell_type": "code",
   "execution_count": 9,
   "id": "76497663-370d-4b87-9b9b-799de1b0e468",
   "metadata": {},
   "outputs": [],
   "source": [
    "# from pyvista.trame.jupyter import Widget as PVWidget\n",
    "# # https://github.com/pyvista/pyvista/blob/7351b2d8f4647b345f6f8a8d71e59f0593710419/pyvista/trame/jupyter.py#L72-L73\n",
    "\n",
    "# token = 'qwerty'#os.environ.get(\"JUPYTERHUB_API_TOKEN\",None)\n",
    "# src = view.src\n",
    "# if (token):\n",
    "#     src = view.src + f\"&token={token}\"\n",
    "\n",
    "# viewer = PVWidget(view._viewer, src, '440px', '440px')\n",
    "# viewer.value"
   ]
  },
  {
   "cell_type": "code",
   "execution_count": 10,
   "id": "48231460-3d5c-4caf-8baa-35bad2da2514",
   "metadata": {},
   "outputs": [
    {
     "data": {
      "application/vnd.jupyter.widget-view+json": {
       "model_id": "57b2d362114c449696bdcd32e0fedf05",
       "version_major": 2,
       "version_minor": 0
      },
      "text/plain": [
       "HBox(children=(Widget(value='<iframe id=\"pyvista-jupyter_trame__template_P_0x3140435f0_1\" src=\"http://localhos…"
      ]
     },
     "metadata": {},
     "output_type": "display_data"
    }
   ],
   "source": [
    "# Widgets \n",
    "sequential_cmaps = [\n",
    "    'gray','viridis', 'plasma', 'inferno', 'magma', 'cividis','turbo',\n",
    "    'Purples_r', 'Blues_r', 'Greens_r', 'Oranges_r', 'Reds_r',\n",
    "    'YlOrBr_r', 'YlOrRd_r', 'OrRd_r', 'PuRd_r', 'RdPu_r', 'BuPu_r',\n",
    "    'GnBu_r', 'PuBu_r', 'YlGnBu_r', 'PuBuGn_r', 'BuGn_r', 'YlGn_r'\n",
    "]\n",
    "\n",
    "def update_colormap(change):\n",
    "    cmap_string = change['new']\n",
    "    cmap = pv.LookupTable(cmap_string)\n",
    "    cf = vtk.vtkColorTransferFunction()\n",
    "    \n",
    "    for ii in range(cmap.n_values):\n",
    "        cf.AddRGBPoint(ii, *cmap(ii/(cmap.n_values-1))[:-1])\n",
    "    \n",
    "    vol.prop.SetColor(0,cf)\n",
    "    atoms.prop.SetColor(cmap(cmap.n_values*85//100)[:-1])\n",
    "\n",
    "    cx = nx - cx_slider.value\n",
    "    cy = cy_slider.value\n",
    "    cz = cy_slider.value\n",
    "    \n",
    "    pl.remove_actor(slices[0])\n",
    "    grid_slice_x = grid.slice(\n",
    "        normal='x',\n",
    "        origin=(cx,cy,cz),\n",
    "    )\n",
    "    \n",
    "    slices[0] = pl.add_mesh(\n",
    "        grid_slice_x,\n",
    "        show_scalar_bar=False,\n",
    "        cmap=cmap_string,\n",
    "        opacity=0.875,\n",
    "        name=\"slice-x\",\n",
    "        render=False,\n",
    "    )\n",
    "    slices[0].SetVisibility(cx_checkbox.value)\n",
    "\n",
    "    pl.remove_actor(slices[1])   \n",
    "    grid_slice_y = grid.slice(\n",
    "        normal='y',\n",
    "        origin=(cx,cy,cz),\n",
    "    )\n",
    "\n",
    "    slices[1] = pl.add_mesh(\n",
    "        grid_slice_y,\n",
    "        show_scalar_bar=False,\n",
    "        cmap=cmap_string,\n",
    "        opacity=0.875,\n",
    "        name=\"slice-y\",\n",
    "        render=False,\n",
    "    )\n",
    "    slices[1].SetVisibility(cy_checkbox.value)\n",
    "\n",
    "    pl.remove_actor(slices[2])   \n",
    "    grid_slice_z = grid.slice(\n",
    "        normal='z',\n",
    "        origin=(cx,cy,cz),\n",
    "    )\n",
    "\n",
    "    slices[2] = pl.add_mesh(\n",
    "        grid_slice_z,\n",
    "        show_scalar_bar=False,\n",
    "        cmap=cmap_string,\n",
    "        opacity=0.875,\n",
    "        name=\"slice-z\",\n",
    "        render=False,\n",
    "    )\n",
    "    slices[2].SetVisibility(cz_checkbox.value)\n",
    "\n",
    "    pl.update(0.1)\n",
    "    return None\n",
    "    \n",
    "def update_x_slice(change):\n",
    "    if cx_checkbox.value:\n",
    "        cmap = cmap_widget.value\n",
    "        offset = nx-change['new']\n",
    "        cy = cy_slider.value\n",
    "        cz = cz_slider.value\n",
    "        \n",
    "        pl.remove_actor(slices[0])\n",
    "    \n",
    "        grid_slice_x = grid.slice(\n",
    "            normal='x',\n",
    "            origin=(offset,cy,cz),\n",
    "        )\n",
    "        \n",
    "        slices[0] = pl.add_mesh(\n",
    "            grid_slice_x,\n",
    "            show_scalar_bar=False,\n",
    "            cmap=cmap,\n",
    "            opacity=0.875,\n",
    "            name=\"slice-x\",\n",
    "            render=True,\n",
    "        )\n",
    "        pl.update(0.1)\n",
    "    return None\n",
    "\n",
    "def update_y_slice(change):\n",
    "    if cy_checkbox.value:\n",
    "        cmap = cmap_widget.value\n",
    "        offset = change['new']\n",
    "        cx = nx - cx_slider.value\n",
    "        cz = cz_slider.value\n",
    "        \n",
    "        pl.remove_actor(slices[1])\n",
    "    \n",
    "        grid_slice_y = grid.slice(\n",
    "            normal='y',\n",
    "            origin=(cx,offset,cz),\n",
    "        )\n",
    "        \n",
    "        slices[1] = pl.add_mesh(\n",
    "            grid_slice_y,\n",
    "            show_scalar_bar=False,\n",
    "            cmap=cmap,\n",
    "            opacity=0.875,\n",
    "            name=\"slice-y\",\n",
    "            render=True,\n",
    "        )\n",
    "        pl.update(0.1)\n",
    "    return None\n",
    "\n",
    "def update_z_slice(change):\n",
    "    if cz_checkbox.value:\n",
    "        cmap = cmap_widget.value\n",
    "        offset = change['new']\n",
    "        cx = nx - cx_slider.value\n",
    "        cy = cy_slider.value\n",
    "        \n",
    "        pl.remove_actor(slices[2])\n",
    "    \n",
    "        grid_slice_z = grid.slice(\n",
    "            normal='z',\n",
    "            origin=(cx,cy,offset),\n",
    "        )\n",
    "        \n",
    "        slices[2] = pl.add_mesh(\n",
    "            grid_slice_z,\n",
    "            show_scalar_bar=False,\n",
    "            cmap=cmap,\n",
    "            opacity=0.875,\n",
    "            name=\"slice-z\",\n",
    "            render=True,\n",
    "        )\n",
    "        pl.update(0.1)\n",
    "    return None\n",
    "\n",
    "def toggle_x_slice(change):\n",
    "    visible = change['new']\n",
    "    slices[0].SetVisibility(visible)\n",
    "    pl.update(0.1)\n",
    "    return None\n",
    "\n",
    "def toggle_y_slice(change):\n",
    "    visible = change['new']\n",
    "    slices[1].SetVisibility(visible)\n",
    "    pl.update(0.1)\n",
    "    return None\n",
    "\n",
    "def toggle_z_slice(change):\n",
    "    visible = change['new']\n",
    "    slices[2].SetVisibility(visible)\n",
    "    pl.update(0.1)\n",
    "    return None\n",
    "\n",
    "def toggle_clip_plane(change):\n",
    "    visible = change['new']\n",
    "    if visible:\n",
    "        volume_clip_plane.On()\n",
    "    else:\n",
    "        volume_clip_plane.Off()\n",
    "    pl.update(0.1)\n",
    "    return None\n",
    "\n",
    "def toggle_vol(change):\n",
    "    visible = change['new']\n",
    "    vol.SetVisibility(visible)\n",
    "    pl.update(0.1)\n",
    "    return None\n",
    "\n",
    "def toggle_atoms(change):\n",
    "    visible = change['new']\n",
    "    atoms.SetVisibility(visible)\n",
    "    pl.update(0.1)\n",
    "    return None\n",
    "\n",
    "def update_atoms_size(change):\n",
    "    size = change['new']\n",
    "    atoms.prop.SetPointSize(size)\n",
    "    pl.update(0.1)\n",
    "    return None\n",
    "\n",
    "cmap_widget =Dropdown(options=sequential_cmaps,value=cmap_default,description=\"Colormap\",indent=False,layout=Layout(width='175px'))\n",
    "cmap_widget.observe(update_colormap,names='value')\n",
    "\n",
    "checkbox_layout = Layout(width='175px')\n",
    "slider_layout = Layout(width='175px')\n",
    "\n",
    "vol_checkbox = Checkbox(\n",
    "    value=True,\n",
    "    description='Volume',\n",
    "    indent=True,\n",
    "    layout=checkbox_layout,\n",
    ")\n",
    "vol_checkbox.observe(toggle_vol,names='value')\n",
    "\n",
    "clip_checkbox = Checkbox(\n",
    "    value=False,\n",
    "    description='Clip Plane',\n",
    "    indent=True,\n",
    "    layout=checkbox_layout,\n",
    ")\n",
    "clip_checkbox.observe(toggle_clip_plane,names='value')\n",
    "\n",
    "atoms_checkbox = Checkbox(\n",
    "    value=False,\n",
    "    description='Atoms',\n",
    "    indent=True,\n",
    "    layout=checkbox_layout,\n",
    ")\n",
    "atoms_checkbox.observe(toggle_atoms,names='value')\n",
    "\n",
    "atoms_slider = FloatSlider(\n",
    "    value=10,\n",
    "    min=5,\n",
    "    max=20,\n",
    "    step=0.125,\n",
    "    description='atoms size',\n",
    "    continuous_update=False,\n",
    "    layout=slider_layout,\n",
    "    readout=False,\n",
    ")\n",
    "atoms_slider.observe(update_atoms_size,names='value')\n",
    "\n",
    "cx_checkbox = Checkbox(\n",
    "    value=False,\n",
    "    description='x axis slice',\n",
    "    indent=True,\n",
    "    layout=checkbox_layout,\n",
    ")\n",
    "cx_checkbox.observe(toggle_x_slice,names='value')\n",
    "\n",
    "cy_checkbox = Checkbox(\n",
    "    value=False,\n",
    "    description='y axis slice',\n",
    "    indent=True,\n",
    "    layout=checkbox_layout,\n",
    ")\n",
    "cy_checkbox.observe(toggle_y_slice,names='value')\n",
    "\n",
    "cz_checkbox = Checkbox(\n",
    "    value=False,\n",
    "    description='z axis slice',\n",
    "    indent=True,\n",
    "    layout=checkbox_layout,\n",
    ")\n",
    "cz_checkbox.observe(toggle_z_slice,names='value')\n",
    "\n",
    "cx_slider = IntSlider(\n",
    "    value=nx//2,\n",
    "    min=0,\n",
    "    max=nx-1,\n",
    "    description='x index',\n",
    "    continuous_update=False,\n",
    "    layout=slider_layout,\n",
    "    readout=False,\n",
    ")\n",
    "cx_slider.observe(update_x_slice,names='value')\n",
    "\n",
    "cy_slider = IntSlider(\n",
    "    value=ny//2,\n",
    "    min=0,\n",
    "    max=ny-1,\n",
    "    description='y index',\n",
    "    continuous_update=False,\n",
    "    layout=slider_layout,\n",
    "    readout=False,\n",
    ")\n",
    "cy_slider.observe(update_y_slice,names='value')\n",
    "\n",
    "cz_slider = IntSlider(\n",
    "    value=nz//2,\n",
    "    min=0,\n",
    "    max=nz-1,\n",
    "    description='z index',\n",
    "    continuous_update=False,\n",
    "    layout=slider_layout,\n",
    "    readout=False,\n",
    ")\n",
    "cz_slider.observe(update_z_slice,names='value')\n",
    "\n",
    "controls_layout = Layout(\n",
    "    display='flex',\n",
    "    flex_flow='column',\n",
    "    align_items='center',\n",
    "    width='200px'\n",
    ")\n",
    "\n",
    "controls = VBox(\n",
    "    [\n",
    "        Label(\"Visual Controls\"),\n",
    "        cmap_widget,\n",
    "        vol_checkbox,\n",
    "        clip_checkbox,\n",
    "        atoms_checkbox,\n",
    "        atoms_slider,\n",
    "        Label(\"Slice Controls\"),\n",
    "        cx_checkbox,\n",
    "        cy_checkbox,\n",
    "        cz_checkbox,\n",
    "        Label(\"Indices Controls\"),\n",
    "        cx_slider,\n",
    "        cy_slider,\n",
    "        cz_slider\n",
    "    ],\n",
    "    layout=controls_layout\n",
    ")\n",
    "\n",
    "visualization_layout = Layout(\n",
    "    display='flex',\n",
    "    flex_flow='row',\n",
    "    align_items='center',\n",
    "    width='660px'\n",
    ")\n",
    "\n",
    "display(\n",
    "    HBox([\n",
    "        viewer,\n",
    "        controls\n",
    "    ],\n",
    "        layout=visualization_layout\n",
    "        )\n",
    ")"
   ]
  },
  {
   "cell_type": "code",
   "execution_count": null,
   "id": "31026002-158e-40d8-8d0e-a3cf181c5814",
   "metadata": {},
   "outputs": [],
   "source": []
  }
 ],
 "metadata": {
  "kernelspec": {
   "display_name": "Python 3 (ipykernel)",
   "language": "python",
   "name": "python3"
  },
  "language_info": {
   "codemirror_mode": {
    "name": "ipython",
    "version": 3
   },
   "file_extension": ".py",
   "mimetype": "text/x-python",
   "name": "python",
   "nbconvert_exporter": "python",
   "pygments_lexer": "ipython3",
   "version": "3.12.4"
  },
  "widgets": {
   "application/vnd.jupyter.widget-state+json": {
    "state": {
     "00817d23d78145bf9a621f912c3f4ee7": {
      "model_module": "@jupyter-widgets/base",
      "model_module_version": "2.0.0",
      "model_name": "LayoutModel",
      "state": {
       "align_items": "center",
       "display": "flex",
       "flex_flow": "column",
       "width": "200px"
      }
     },
     "01a54e65412942f097e7035b884c1391": {
      "model_module": "@jupyter-widgets/controls",
      "model_module_version": "2.0.0",
      "model_name": "CheckboxStyleModel",
      "state": {
       "description_width": ""
      }
     },
     "03979187ec72467ab81b90aa57a5db4c": {
      "model_module": "@jupyter-widgets/controls",
      "model_module_version": "2.0.0",
      "model_name": "LabelModel",
      "state": {
       "layout": "IPY_MODEL_49aac0bc56414d92943c61271e304de8",
       "style": "IPY_MODEL_75952fbf92024716bde98bf3454bb4ab",
       "value": "Indices Controls"
      }
     },
     "04819b140a6541a2b620846f53097570": {
      "model_module": "@jupyter-widgets/controls",
      "model_module_version": "2.0.0",
      "model_name": "CheckboxStyleModel",
      "state": {
       "description_width": ""
      }
     },
     "06623740375a4d239a085e754209c3c6": {
      "model_module": "@jupyter-widgets/controls",
      "model_module_version": "2.0.0",
      "model_name": "DropdownModel",
      "state": {
       "_options_labels": [
        "gray",
        "viridis",
        "plasma",
        "inferno",
        "magma",
        "cividis",
        "turbo",
        "Purples_r",
        "Blues_r",
        "Greens_r",
        "Oranges_r",
        "Reds_r",
        "YlOrBr_r",
        "YlOrRd_r",
        "OrRd_r",
        "PuRd_r",
        "RdPu_r",
        "BuPu_r",
        "GnBu_r",
        "PuBu_r",
        "YlGnBu_r",
        "PuBuGn_r",
        "BuGn_r",
        "YlGn_r"
       ],
       "description": "Colormap",
       "index": 4,
       "layout": "IPY_MODEL_259349d987234e4b8fc69d7e94d8f549",
       "style": "IPY_MODEL_e88bfaba8532456e8d0762b98da85d79"
      }
     },
     "100fbf22f30f4ba5a57e385e28471ca5": {
      "model_module": "@jupyter-widgets/controls",
      "model_module_version": "2.0.0",
      "model_name": "LabelModel",
      "state": {
       "layout": "IPY_MODEL_db43934c6fba47f4b919e2977cf31942",
       "style": "IPY_MODEL_dae9c4790d7c464982a96df60cf10ea2",
       "value": "Visual Controls"
      }
     },
     "12e229f50a164dc398b61e0a1d7c1c39": {
      "model_module": "@jupyter-widgets/base",
      "model_module_version": "2.0.0",
      "model_name": "LayoutModel",
      "state": {}
     },
     "177718a627d94e36aa8ebd0612820da1": {
      "model_module": "@jupyter-widgets/controls",
      "model_module_version": "2.0.0",
      "model_name": "FloatSliderModel",
      "state": {
       "behavior": "drag-tap",
       "continuous_update": false,
       "description": "atoms size",
       "layout": "IPY_MODEL_215afe1125a64357bdf8f3add46a0122",
       "max": 20,
       "min": 5,
       "readout": false,
       "step": 0.125,
       "style": "IPY_MODEL_d021c7c4a9d847bf9e42f66915f2e9f5",
       "value": 12.375
      }
     },
     "1bf8d989712348a3acec7b4ade77b6f3": {
      "model_module": "@jupyter-widgets/controls",
      "model_module_version": "2.0.0",
      "model_name": "SliderStyleModel",
      "state": {
       "description_width": ""
      }
     },
     "215afe1125a64357bdf8f3add46a0122": {
      "model_module": "@jupyter-widgets/base",
      "model_module_version": "2.0.0",
      "model_name": "LayoutModel",
      "state": {
       "width": "175px"
      }
     },
     "248b062081ea4df58b6ec0de12485597": {
      "model_module": "@jupyter-widgets/base",
      "model_module_version": "2.0.0",
      "model_name": "LayoutModel",
      "state": {
       "align_items": "center",
       "display": "flex",
       "flex_flow": "column",
       "width": "200px"
      }
     },
     "259349d987234e4b8fc69d7e94d8f549": {
      "model_module": "@jupyter-widgets/base",
      "model_module_version": "2.0.0",
      "model_name": "LayoutModel",
      "state": {
       "width": "175px"
      }
     },
     "2d6f1d1495534f1a9123a003ffff725b": {
      "model_module": "@jupyter-widgets/controls",
      "model_module_version": "2.0.0",
      "model_name": "IntSliderModel",
      "state": {
       "behavior": "drag-tap",
       "continuous_update": false,
       "description": "x index",
       "layout": "IPY_MODEL_215afe1125a64357bdf8f3add46a0122",
       "max": 105,
       "readout": false,
       "style": "IPY_MODEL_2f38269d9ce74822aeecf4ceab863ca3",
       "value": 71
      }
     },
     "2f38269d9ce74822aeecf4ceab863ca3": {
      "model_module": "@jupyter-widgets/controls",
      "model_module_version": "2.0.0",
      "model_name": "SliderStyleModel",
      "state": {
       "description_width": ""
      }
     },
     "300313212b9e476080e66aee14f7b225": {
      "model_module": "@jupyter-widgets/controls",
      "model_module_version": "2.0.0",
      "model_name": "CheckboxStyleModel",
      "state": {
       "description_width": ""
      }
     },
     "3101f1dbcf6e4cecb0f62c520efd0928": {
      "model_module": "@jupyter-widgets/controls",
      "model_module_version": "2.0.0",
      "model_name": "SliderStyleModel",
      "state": {
       "description_width": ""
      }
     },
     "327fd26f845f4ab3a8c567c414707a67": {
      "model_module": "@jupyter-widgets/controls",
      "model_module_version": "2.0.0",
      "model_name": "HTMLStyleModel",
      "state": {
       "description_width": "",
       "font_size": null,
       "text_color": null
      }
     },
     "38b8013e50d546e783fe08ac81e2bded": {
      "model_module": "@jupyter-widgets/controls",
      "model_module_version": "2.0.0",
      "model_name": "CheckboxStyleModel",
      "state": {
       "description_width": ""
      }
     },
     "3b7268b6657846148631aadf23feb56b": {
      "model_module": "@jupyter-widgets/controls",
      "model_module_version": "2.0.0",
      "model_name": "DropdownModel",
      "state": {
       "_options_labels": [
        "gray",
        "viridis",
        "plasma",
        "inferno",
        "magma",
        "cividis",
        "turbo",
        "Purples_r",
        "Blues_r",
        "Greens_r",
        "Oranges_r",
        "Reds_r",
        "YlOrBr_r",
        "YlOrRd_r",
        "OrRd_r",
        "PuRd_r",
        "RdPu_r",
        "BuPu_r",
        "GnBu_r",
        "PuBu_r",
        "YlGnBu_r",
        "PuBuGn_r",
        "BuGn_r",
        "YlGn_r"
       ],
       "description": "Colormap",
       "index": 4,
       "layout": "IPY_MODEL_60f4401adb2240adbf82f08258a88642",
       "style": "IPY_MODEL_898898d6e1ad4e138d77abc4ef72dbb2"
      }
     },
     "40e989fe4b684596aa0d46abee980b4d": {
      "model_module": "@jupyter-widgets/controls",
      "model_module_version": "2.0.0",
      "model_name": "SliderStyleModel",
      "state": {
       "description_width": ""
      }
     },
     "441006d4119840eba8d71a333a802101": {
      "model_module": "@jupyter-widgets/controls",
      "model_module_version": "2.0.0",
      "model_name": "CheckboxModel",
      "state": {
       "description": "Atoms",
       "disabled": false,
       "layout": "IPY_MODEL_8b539868617a44fa8abeafce70403cc1",
       "style": "IPY_MODEL_38b8013e50d546e783fe08ac81e2bded",
       "value": false
      }
     },
     "44888322afe04a6a9b54034b8df5a47e": {
      "model_module": "@jupyter-widgets/controls",
      "model_module_version": "2.0.0",
      "model_name": "IntSliderModel",
      "state": {
       "behavior": "drag-tap",
       "continuous_update": false,
       "description": "y index",
       "layout": "IPY_MODEL_215afe1125a64357bdf8f3add46a0122",
       "max": 95,
       "readout": false,
       "style": "IPY_MODEL_40e989fe4b684596aa0d46abee980b4d",
       "value": 69
      }
     },
     "49aac0bc56414d92943c61271e304de8": {
      "model_module": "@jupyter-widgets/base",
      "model_module_version": "2.0.0",
      "model_name": "LayoutModel",
      "state": {}
     },
     "4ca4af7496d74b8e80f083ca3a2d622b": {
      "model_module": "@jupyter-widgets/controls",
      "model_module_version": "2.0.0",
      "model_name": "LabelModel",
      "state": {
       "layout": "IPY_MODEL_5f7c0450f7f9408589fbbfa14e06c4f2",
       "style": "IPY_MODEL_94e8a7baae854a0bb44123eaac805ac9",
       "value": "Indices Controls"
      }
     },
     "57b2d362114c449696bdcd32e0fedf05": {
      "model_module": "@jupyter-widgets/controls",
      "model_module_version": "2.0.0",
      "model_name": "HBoxModel",
      "state": {
       "children": [
        "IPY_MODEL_b4d9ee76c0904b9bbb9aafa8567c7cd7",
        "IPY_MODEL_d512e46ccb3246cd93779b1a222f0ffe"
       ],
       "layout": "IPY_MODEL_5ff7235447ee43568b3960ef491b12de"
      }
     },
     "5f7c0450f7f9408589fbbfa14e06c4f2": {
      "model_module": "@jupyter-widgets/base",
      "model_module_version": "2.0.0",
      "model_name": "LayoutModel",
      "state": {}
     },
     "5ff7235447ee43568b3960ef491b12de": {
      "model_module": "@jupyter-widgets/base",
      "model_module_version": "2.0.0",
      "model_name": "LayoutModel",
      "state": {
       "align_items": "center",
       "display": "flex",
       "flex_flow": "row",
       "width": "660px"
      }
     },
     "60793621c5a847169276507dec6cb4b1": {
      "model_module": "@jupyter-widgets/controls",
      "model_module_version": "2.0.0",
      "model_name": "SliderStyleModel",
      "state": {
       "description_width": ""
      }
     },
     "60f4401adb2240adbf82f08258a88642": {
      "model_module": "@jupyter-widgets/base",
      "model_module_version": "2.0.0",
      "model_name": "LayoutModel",
      "state": {
       "width": "175px"
      }
     },
     "6195d27c95c54015ac4267480d7b9a36": {
      "model_module": "@jupyter-widgets/controls",
      "model_module_version": "2.0.0",
      "model_name": "IntSliderModel",
      "state": {
       "behavior": "drag-tap",
       "continuous_update": false,
       "description": "x index",
       "layout": "IPY_MODEL_a5566fb693bf473683a57b1bcaa3be8b",
       "max": 105,
       "readout": false,
       "style": "IPY_MODEL_ac6aa03a445f4ad1850cc277bd39695e",
       "value": 48
      }
     },
     "65f90faa9372433bb2c00a2f1c32c0d7": {
      "model_module": "@jupyter-widgets/base",
      "model_module_version": "2.0.0",
      "model_name": "LayoutModel",
      "state": {}
     },
     "6b43b48a37c04d4f89203024f2cec286": {
      "model_module": "@jupyter-widgets/controls",
      "model_module_version": "2.0.0",
      "model_name": "LabelModel",
      "state": {
       "layout": "IPY_MODEL_65f90faa9372433bb2c00a2f1c32c0d7",
       "style": "IPY_MODEL_77190b9208ae436b84008065e15a0c22",
       "value": "Visual Controls"
      }
     },
     "6e581faf123944d290568d4e48cd07f6": {
      "model_module": "@jupyter-widgets/controls",
      "model_module_version": "2.0.0",
      "model_name": "CheckboxStyleModel",
      "state": {
       "description_width": ""
      }
     },
     "6fd21d4e219a4a66b0d75c6509536966": {
      "model_module": "@jupyter-widgets/controls",
      "model_module_version": "2.0.0",
      "model_name": "CheckboxModel",
      "state": {
       "description": "Volume",
       "disabled": false,
       "layout": "IPY_MODEL_8b539868617a44fa8abeafce70403cc1",
       "style": "IPY_MODEL_c61163ba61344bee85398d5d37fc3729",
       "value": true
      }
     },
     "75952fbf92024716bde98bf3454bb4ab": {
      "model_module": "@jupyter-widgets/controls",
      "model_module_version": "2.0.0",
      "model_name": "LabelStyleModel",
      "state": {
       "description_width": "",
       "font_family": null,
       "font_size": null,
       "font_style": null,
       "font_variant": null,
       "font_weight": null,
       "text_color": null,
       "text_decoration": null
      }
     },
     "77190b9208ae436b84008065e15a0c22": {
      "model_module": "@jupyter-widgets/controls",
      "model_module_version": "2.0.0",
      "model_name": "LabelStyleModel",
      "state": {
       "description_width": "",
       "font_family": null,
       "font_size": null,
       "font_style": null,
       "font_variant": null,
       "font_weight": null,
       "text_color": null,
       "text_decoration": null
      }
     },
     "77a9b471ace6403db25d8d076eecd588": {
      "model_module": "@jupyter-widgets/controls",
      "model_module_version": "2.0.0",
      "model_name": "CheckboxModel",
      "state": {
       "description": "Clip Plane",
       "disabled": false,
       "layout": "IPY_MODEL_cc55d05902a94b1e801c5a7cf061c448",
       "style": "IPY_MODEL_6e581faf123944d290568d4e48cd07f6",
       "value": true
      }
     },
     "77ce99ba64b041d5b4c03aabff139cce": {
      "model_module": "@jupyter-widgets/controls",
      "model_module_version": "2.0.0",
      "model_name": "CheckboxStyleModel",
      "state": {
       "description_width": ""
      }
     },
     "7acebb5718db49579973b213ea918203": {
      "model_module": "@jupyter-widgets/controls",
      "model_module_version": "2.0.0",
      "model_name": "VBoxModel",
      "state": {
       "children": [
        "IPY_MODEL_100fbf22f30f4ba5a57e385e28471ca5",
        "IPY_MODEL_3b7268b6657846148631aadf23feb56b",
        "IPY_MODEL_f16fa881d1ab48fdbc9bab1ada70c209",
        "IPY_MODEL_77a9b471ace6403db25d8d076eecd588",
        "IPY_MODEL_8eb40a31ca6045269517411287bab6ea",
        "IPY_MODEL_b0c73e9dadd54fbb83c78e88b9d9a507",
        "IPY_MODEL_aec0caf343524f1cbe241e79dba47763",
        "IPY_MODEL_92c78de714724e1e91ce04f9c7302b49",
        "IPY_MODEL_dbc9e18cff804fd9a74943819b48d774",
        "IPY_MODEL_bf90a1f618084080bf6fd634333e5de9",
        "IPY_MODEL_03979187ec72467ab81b90aa57a5db4c",
        "IPY_MODEL_6195d27c95c54015ac4267480d7b9a36",
        "IPY_MODEL_d54bb1e3cc6d4e71835924f45bebf31c",
        "IPY_MODEL_d91b4c72f60a4b6fa73a6f935735eedd"
       ],
       "layout": "IPY_MODEL_248b062081ea4df58b6ec0de12485597"
      }
     },
     "7ec2e521917440fdb503ff4e6f0c940b": {
      "model_module": "@jupyter-widgets/controls",
      "model_module_version": "2.0.0",
      "model_name": "LabelModel",
      "state": {
       "layout": "IPY_MODEL_e6bde7eb0a9e4ad9a736f731b2ee3d93",
       "style": "IPY_MODEL_bd093eb3671d4f3a948286ecbb45e457",
       "value": "Slice Controls"
      }
     },
     "812ca5d8db3241efb1a10b8d9d976325": {
      "model_module": "@jupyter-widgets/base",
      "model_module_version": "2.0.0",
      "model_name": "LayoutModel",
      "state": {}
     },
     "814ba3dfe6da4a65ae5e79482f42a7cd": {
      "model_module": "@jupyter-widgets/controls",
      "model_module_version": "2.0.0",
      "model_name": "HBoxModel",
      "state": {
       "children": [
        "IPY_MODEL_9ef0b90f479f42bdb9cb3b947c7d4101",
        "IPY_MODEL_7acebb5718db49579973b213ea918203"
       ],
       "layout": "IPY_MODEL_f1dfb9de298a47c795ebab1f35c0b88a"
      }
     },
     "898898d6e1ad4e138d77abc4ef72dbb2": {
      "model_module": "@jupyter-widgets/controls",
      "model_module_version": "2.0.0",
      "model_name": "DescriptionStyleModel",
      "state": {
       "description_width": ""
      }
     },
     "8b539868617a44fa8abeafce70403cc1": {
      "model_module": "@jupyter-widgets/base",
      "model_module_version": "2.0.0",
      "model_name": "LayoutModel",
      "state": {
       "width": "175px"
      }
     },
     "8eb40a31ca6045269517411287bab6ea": {
      "model_module": "@jupyter-widgets/controls",
      "model_module_version": "2.0.0",
      "model_name": "CheckboxModel",
      "state": {
       "description": "Atoms",
       "disabled": false,
       "layout": "IPY_MODEL_cc55d05902a94b1e801c5a7cf061c448",
       "style": "IPY_MODEL_04819b140a6541a2b620846f53097570",
       "value": false
      }
     },
     "92c78de714724e1e91ce04f9c7302b49": {
      "model_module": "@jupyter-widgets/controls",
      "model_module_version": "2.0.0",
      "model_name": "CheckboxModel",
      "state": {
       "description": "x axis slice",
       "disabled": false,
       "layout": "IPY_MODEL_cc55d05902a94b1e801c5a7cf061c448",
       "style": "IPY_MODEL_a4204e2ced4848ffb77e290c118e0cef",
       "value": false
      }
     },
     "94e8a7baae854a0bb44123eaac805ac9": {
      "model_module": "@jupyter-widgets/controls",
      "model_module_version": "2.0.0",
      "model_name": "LabelStyleModel",
      "state": {
       "description_width": "",
       "font_family": null,
       "font_size": null,
       "font_style": null,
       "font_variant": null,
       "font_weight": null,
       "text_color": null,
       "text_decoration": null
      }
     },
     "96acdaa6a650482692b0086447fac82b": {
      "model_module": "@jupyter-widgets/controls",
      "model_module_version": "2.0.0",
      "model_name": "CheckboxModel",
      "state": {
       "description": "x axis slice",
       "disabled": false,
       "layout": "IPY_MODEL_8b539868617a44fa8abeafce70403cc1",
       "style": "IPY_MODEL_300313212b9e476080e66aee14f7b225",
       "value": true
      }
     },
     "9e7f8fec917d41f994854324c3b96081": {
      "model_module": "@jupyter-widgets/controls",
      "model_module_version": "2.0.0",
      "model_name": "HTMLStyleModel",
      "state": {
       "description_width": "",
       "font_size": null,
       "text_color": null
      }
     },
     "9ef0b90f479f42bdb9cb3b947c7d4101": {
      "model_module": "@jupyter-widgets/controls",
      "model_module_version": "2.0.0",
      "model_name": "HTMLModel",
      "state": {
       "layout": "IPY_MODEL_812ca5d8db3241efb1a10b8d9d976325",
       "style": "IPY_MODEL_327fd26f845f4ab3a8c567c414707a67",
       "value": "<iframe id=\"pyvista-jupyter_trame__template_P_0x311a2b410_0\" src=\"http://localhost:8888/trame-jupyter-server/servers/pyvista-jupyter/index.html?ui=P_0x311a2b410_0&server=pyvista-jupyter&wsProxy&reconnect=auto\" style=\"width: 440px; height: 440px; border: 1px solid rgb(221,221,221);\" data-kernel-id=\"358bc5bf-bfd2-4861-8c81-17a57e984ca9\" class=\"pyvista\"></iframe>"
      }
     },
     "a4204e2ced4848ffb77e290c118e0cef": {
      "model_module": "@jupyter-widgets/controls",
      "model_module_version": "2.0.0",
      "model_name": "CheckboxStyleModel",
      "state": {
       "description_width": ""
      }
     },
     "a5566fb693bf473683a57b1bcaa3be8b": {
      "model_module": "@jupyter-widgets/base",
      "model_module_version": "2.0.0",
      "model_name": "LayoutModel",
      "state": {
       "width": "175px"
      }
     },
     "a9e12df93c614232be44e564f1c2115a": {
      "model_module": "@jupyter-widgets/controls",
      "model_module_version": "2.0.0",
      "model_name": "CheckboxStyleModel",
      "state": {
       "description_width": ""
      }
     },
     "ac6aa03a445f4ad1850cc277bd39695e": {
      "model_module": "@jupyter-widgets/controls",
      "model_module_version": "2.0.0",
      "model_name": "SliderStyleModel",
      "state": {
       "description_width": ""
      }
     },
     "aec0caf343524f1cbe241e79dba47763": {
      "model_module": "@jupyter-widgets/controls",
      "model_module_version": "2.0.0",
      "model_name": "LabelModel",
      "state": {
       "layout": "IPY_MODEL_12e229f50a164dc398b61e0a1d7c1c39",
       "style": "IPY_MODEL_b914fcc9613340ab87a564bd521c0e1f",
       "value": "Slice Controls"
      }
     },
     "b0c73e9dadd54fbb83c78e88b9d9a507": {
      "model_module": "@jupyter-widgets/controls",
      "model_module_version": "2.0.0",
      "model_name": "FloatSliderModel",
      "state": {
       "behavior": "drag-tap",
       "continuous_update": false,
       "description": "atoms size",
       "layout": "IPY_MODEL_a5566fb693bf473683a57b1bcaa3be8b",
       "max": 20,
       "min": 5,
       "readout": false,
       "step": 0.125,
       "style": "IPY_MODEL_60793621c5a847169276507dec6cb4b1",
       "value": 5
      }
     },
     "b476088a3a6842d7bb1d6cc33b6db6a1": {
      "model_module": "@jupyter-widgets/controls",
      "model_module_version": "2.0.0",
      "model_name": "CheckboxModel",
      "state": {
       "description": "Clip Plane",
       "disabled": false,
       "layout": "IPY_MODEL_8b539868617a44fa8abeafce70403cc1",
       "style": "IPY_MODEL_d9110eda93ae4a39a514ae2018e623a8",
       "value": true
      }
     },
     "b4d9ee76c0904b9bbb9aafa8567c7cd7": {
      "model_module": "@jupyter-widgets/controls",
      "model_module_version": "2.0.0",
      "model_name": "HTMLModel",
      "state": {
       "layout": "IPY_MODEL_fbc35a8f1c6b4955a6ef9c4e78849017",
       "style": "IPY_MODEL_9e7f8fec917d41f994854324c3b96081",
       "value": "<iframe id=\"pyvista-jupyter_trame__template_P_0x3140435f0_1\" src=\"http://localhost:8888/trame-jupyter-server/servers/pyvista-jupyter/index.html?ui=P_0x3140435f0_1&server=pyvista-jupyter&wsProxy&reconnect=auto\" style=\"width: 440px; height: 440px; border: 1px solid rgb(221,221,221);\" data-kernel-id=\"358bc5bf-bfd2-4861-8c81-17a57e984ca9\" class=\"pyvista\"></iframe>"
      }
     },
     "b90acf3369a5439a9efea3a102d33775": {
      "model_module": "@jupyter-widgets/controls",
      "model_module_version": "2.0.0",
      "model_name": "IntSliderModel",
      "state": {
       "behavior": "drag-tap",
       "continuous_update": false,
       "description": "z index",
       "layout": "IPY_MODEL_215afe1125a64357bdf8f3add46a0122",
       "max": 95,
       "readout": false,
       "style": "IPY_MODEL_ede3352f8e124339b85e6707e1752514",
       "value": 25
      }
     },
     "b914fcc9613340ab87a564bd521c0e1f": {
      "model_module": "@jupyter-widgets/controls",
      "model_module_version": "2.0.0",
      "model_name": "LabelStyleModel",
      "state": {
       "description_width": "",
       "font_family": null,
       "font_size": null,
       "font_style": null,
       "font_variant": null,
       "font_weight": null,
       "text_color": null,
       "text_decoration": null
      }
     },
     "bb2a4cf216dd485a94602d51d1807aa3": {
      "model_module": "@jupyter-widgets/controls",
      "model_module_version": "2.0.0",
      "model_name": "CheckboxStyleModel",
      "state": {
       "description_width": ""
      }
     },
     "bd093eb3671d4f3a948286ecbb45e457": {
      "model_module": "@jupyter-widgets/controls",
      "model_module_version": "2.0.0",
      "model_name": "LabelStyleModel",
      "state": {
       "description_width": "",
       "font_family": null,
       "font_size": null,
       "font_style": null,
       "font_variant": null,
       "font_weight": null,
       "text_color": null,
       "text_decoration": null
      }
     },
     "bf90a1f618084080bf6fd634333e5de9": {
      "model_module": "@jupyter-widgets/controls",
      "model_module_version": "2.0.0",
      "model_name": "CheckboxModel",
      "state": {
       "description": "z axis slice",
       "disabled": false,
       "layout": "IPY_MODEL_cc55d05902a94b1e801c5a7cf061c448",
       "style": "IPY_MODEL_a9e12df93c614232be44e564f1c2115a",
       "value": false
      }
     },
     "c61163ba61344bee85398d5d37fc3729": {
      "model_module": "@jupyter-widgets/controls",
      "model_module_version": "2.0.0",
      "model_name": "CheckboxStyleModel",
      "state": {
       "description_width": ""
      }
     },
     "cb90c04575594d9b89daa6d23f031c93": {
      "model_module": "@jupyter-widgets/controls",
      "model_module_version": "2.0.0",
      "model_name": "CheckboxStyleModel",
      "state": {
       "description_width": ""
      }
     },
     "cc55d05902a94b1e801c5a7cf061c448": {
      "model_module": "@jupyter-widgets/base",
      "model_module_version": "2.0.0",
      "model_name": "LayoutModel",
      "state": {
       "width": "175px"
      }
     },
     "d021c7c4a9d847bf9e42f66915f2e9f5": {
      "model_module": "@jupyter-widgets/controls",
      "model_module_version": "2.0.0",
      "model_name": "SliderStyleModel",
      "state": {
       "description_width": ""
      }
     },
     "d512e46ccb3246cd93779b1a222f0ffe": {
      "model_module": "@jupyter-widgets/controls",
      "model_module_version": "2.0.0",
      "model_name": "VBoxModel",
      "state": {
       "children": [
        "IPY_MODEL_6b43b48a37c04d4f89203024f2cec286",
        "IPY_MODEL_06623740375a4d239a085e754209c3c6",
        "IPY_MODEL_6fd21d4e219a4a66b0d75c6509536966",
        "IPY_MODEL_b476088a3a6842d7bb1d6cc33b6db6a1",
        "IPY_MODEL_441006d4119840eba8d71a333a802101",
        "IPY_MODEL_177718a627d94e36aa8ebd0612820da1",
        "IPY_MODEL_7ec2e521917440fdb503ff4e6f0c940b",
        "IPY_MODEL_96acdaa6a650482692b0086447fac82b",
        "IPY_MODEL_e7f4265d16ea4761913d7159900bdd15",
        "IPY_MODEL_db10e3b768be4dd693b3b8a0b9b9634f",
        "IPY_MODEL_4ca4af7496d74b8e80f083ca3a2d622b",
        "IPY_MODEL_2d6f1d1495534f1a9123a003ffff725b",
        "IPY_MODEL_44888322afe04a6a9b54034b8df5a47e",
        "IPY_MODEL_b90acf3369a5439a9efea3a102d33775"
       ],
       "layout": "IPY_MODEL_00817d23d78145bf9a621f912c3f4ee7"
      }
     },
     "d54bb1e3cc6d4e71835924f45bebf31c": {
      "model_module": "@jupyter-widgets/controls",
      "model_module_version": "2.0.0",
      "model_name": "IntSliderModel",
      "state": {
       "behavior": "drag-tap",
       "continuous_update": false,
       "description": "y index",
       "layout": "IPY_MODEL_a5566fb693bf473683a57b1bcaa3be8b",
       "max": 95,
       "readout": false,
       "style": "IPY_MODEL_3101f1dbcf6e4cecb0f62c520efd0928",
       "value": 69
      }
     },
     "d9110eda93ae4a39a514ae2018e623a8": {
      "model_module": "@jupyter-widgets/controls",
      "model_module_version": "2.0.0",
      "model_name": "CheckboxStyleModel",
      "state": {
       "description_width": ""
      }
     },
     "d91b4c72f60a4b6fa73a6f935735eedd": {
      "model_module": "@jupyter-widgets/controls",
      "model_module_version": "2.0.0",
      "model_name": "IntSliderModel",
      "state": {
       "behavior": "drag-tap",
       "continuous_update": false,
       "description": "z index",
       "layout": "IPY_MODEL_a5566fb693bf473683a57b1bcaa3be8b",
       "max": 95,
       "readout": false,
       "style": "IPY_MODEL_1bf8d989712348a3acec7b4ade77b6f3",
       "value": 48
      }
     },
     "dae9c4790d7c464982a96df60cf10ea2": {
      "model_module": "@jupyter-widgets/controls",
      "model_module_version": "2.0.0",
      "model_name": "LabelStyleModel",
      "state": {
       "description_width": "",
       "font_family": null,
       "font_size": null,
       "font_style": null,
       "font_variant": null,
       "font_weight": null,
       "text_color": null,
       "text_decoration": null
      }
     },
     "db10e3b768be4dd693b3b8a0b9b9634f": {
      "model_module": "@jupyter-widgets/controls",
      "model_module_version": "2.0.0",
      "model_name": "CheckboxModel",
      "state": {
       "description": "z axis slice",
       "disabled": false,
       "layout": "IPY_MODEL_8b539868617a44fa8abeafce70403cc1",
       "style": "IPY_MODEL_cb90c04575594d9b89daa6d23f031c93",
       "value": false
      }
     },
     "db43934c6fba47f4b919e2977cf31942": {
      "model_module": "@jupyter-widgets/base",
      "model_module_version": "2.0.0",
      "model_name": "LayoutModel",
      "state": {}
     },
     "dbc9e18cff804fd9a74943819b48d774": {
      "model_module": "@jupyter-widgets/controls",
      "model_module_version": "2.0.0",
      "model_name": "CheckboxModel",
      "state": {
       "description": "y axis slice",
       "disabled": false,
       "layout": "IPY_MODEL_cc55d05902a94b1e801c5a7cf061c448",
       "style": "IPY_MODEL_01a54e65412942f097e7035b884c1391",
       "value": false
      }
     },
     "e6bde7eb0a9e4ad9a736f731b2ee3d93": {
      "model_module": "@jupyter-widgets/base",
      "model_module_version": "2.0.0",
      "model_name": "LayoutModel",
      "state": {}
     },
     "e7f4265d16ea4761913d7159900bdd15": {
      "model_module": "@jupyter-widgets/controls",
      "model_module_version": "2.0.0",
      "model_name": "CheckboxModel",
      "state": {
       "description": "y axis slice",
       "disabled": false,
       "layout": "IPY_MODEL_8b539868617a44fa8abeafce70403cc1",
       "style": "IPY_MODEL_77ce99ba64b041d5b4c03aabff139cce",
       "value": false
      }
     },
     "e88bfaba8532456e8d0762b98da85d79": {
      "model_module": "@jupyter-widgets/controls",
      "model_module_version": "2.0.0",
      "model_name": "DescriptionStyleModel",
      "state": {
       "description_width": ""
      }
     },
     "ede3352f8e124339b85e6707e1752514": {
      "model_module": "@jupyter-widgets/controls",
      "model_module_version": "2.0.0",
      "model_name": "SliderStyleModel",
      "state": {
       "description_width": ""
      }
     },
     "f16fa881d1ab48fdbc9bab1ada70c209": {
      "model_module": "@jupyter-widgets/controls",
      "model_module_version": "2.0.0",
      "model_name": "CheckboxModel",
      "state": {
       "description": "Volume",
       "disabled": false,
       "layout": "IPY_MODEL_cc55d05902a94b1e801c5a7cf061c448",
       "style": "IPY_MODEL_bb2a4cf216dd485a94602d51d1807aa3",
       "value": true
      }
     },
     "f1dfb9de298a47c795ebab1f35c0b88a": {
      "model_module": "@jupyter-widgets/base",
      "model_module_version": "2.0.0",
      "model_name": "LayoutModel",
      "state": {
       "align_items": "center",
       "display": "flex",
       "flex_flow": "row",
       "width": "660px"
      }
     },
     "fbc35a8f1c6b4955a6ef9c4e78849017": {
      "model_module": "@jupyter-widgets/base",
      "model_module_version": "2.0.0",
      "model_name": "LayoutModel",
      "state": {}
     }
    },
    "version_major": 2,
    "version_minor": 0
   }
  }
 },
 "nbformat": 4,
 "nbformat_minor": 5
}
